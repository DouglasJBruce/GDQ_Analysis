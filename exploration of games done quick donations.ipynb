{
 "cells": [
  {
   "cell_type": "code",
   "execution_count": 1,
   "id": "0aed1ee2",
   "metadata": {},
   "outputs": [],
   "source": [
    "import pandas as pd\n",
    "import matplotlib.pyplot as plt\n",
    "import seaborn as sns"
   ]
  },
  {
   "cell_type": "code",
   "execution_count": 2,
   "id": "5dac4114",
   "metadata": {},
   "outputs": [],
   "source": [
    "dona = pd.read_csv('data/ag2024donations_clean.csv')"
   ]
  },
  {
   "cell_type": "code",
   "execution_count": 3,
   "id": "5a4bece4",
   "metadata": {},
   "outputs": [],
   "source": [
    "dona['time'] = pd.to_datetime(dona['time'])"
   ]
  },
  {
   "cell_type": "code",
   "execution_count": 4,
   "id": "bc9562dc",
   "metadata": {},
   "outputs": [
    {
     "data": {
      "text/plain": [
       "'0        22\\n1        22\\n2        21\\n3        21\\n4        21\\n         ..\\n36178    14\\n36179    14\\n36180    13\\n36181    12\\n36182    12\\nName: time, Length: 36183, dtype: int32 0        15\\n1        14\\n2        16\\n3        15\\n4        15\\n         ..\\n36178    11\\n36179    10\\n36180    10\\n36181    16\\n36182    15\\nName: time, Length: 36183, dtype: int32'"
      ]
     },
     "execution_count": 4,
     "metadata": {},
     "output_type": "execute_result"
    }
   ],
   "source": [
    "str(dona['time'].dt.day) + ' ' + str(dona['time'].dt.hour)"
   ]
  },
  {
   "cell_type": "code",
   "execution_count": 5,
   "id": "63560474",
   "metadata": {},
   "outputs": [
    {
     "data": {
      "text/plain": [
       "'22 15'"
      ]
     },
     "execution_count": 5,
     "metadata": {},
     "output_type": "execute_result"
    }
   ],
   "source": [
    "str(str(dona['time'][0].day) + ' ' + str(dona['time'][0].hour))"
   ]
  },
  {
   "cell_type": "code",
   "execution_count": 6,
   "id": "c51dcdfe",
   "metadata": {},
   "outputs": [
    {
     "data": {
      "text/plain": [
       "15"
      ]
     },
     "execution_count": 6,
     "metadata": {},
     "output_type": "execute_result"
    }
   ],
   "source": [
    "dona['time'][0].hour"
   ]
  },
  {
   "cell_type": "code",
   "execution_count": 7,
   "id": "e3d7a02b",
   "metadata": {},
   "outputs": [],
   "source": [
    "def dayandhour (x):\n",
    "    return str(str(x.day) + ' ' + str(x.hour))"
   ]
  },
  {
   "cell_type": "code",
   "execution_count": 8,
   "id": "875aa306",
   "metadata": {},
   "outputs": [],
   "source": [
    "newlist = [dayandhour(x) for x in dona['time']]"
   ]
  },
  {
   "cell_type": "code",
   "execution_count": 9,
   "id": "60a88710",
   "metadata": {},
   "outputs": [
    {
     "data": {
      "text/plain": [
       "['22 15',\n",
       " '22 14',\n",
       " '21 16',\n",
       " '21 15',\n",
       " '21 15',\n",
       " '21 14',\n",
       " '21 14',\n",
       " '21 13',\n",
       " '21 13',\n",
       " '21 13',\n",
       " '21 13',\n",
       " '21 12',\n",
       " '21 12',\n",
       " '21 12',\n",
       " '21 12',\n",
       " '21 11',\n",
       " '21 11',\n",
       " '21 11',\n",
       " '21 11',\n",
       " '21 10',\n",
       " '21 10',\n",
       " '21 10',\n",
       " '21 10',\n",
       " '21 9',\n",
       " '21 9',\n",
       " '21 8',\n",
       " '21 7',\n",
       " '21 7',\n",
       " '21 6',\n",
       " '21 6',\n",
       " '21 5',\n",
       " '21 4',\n",
       " '21 4',\n",
       " '21 4',\n",
       " '21 3',\n",
       " '21 3',\n",
       " '21 3',\n",
       " '21 3',\n",
       " '21 3',\n",
       " '21 3',\n",
       " '21 3',\n",
       " '21 3',\n",
       " '21 2',\n",
       " '21 2',\n",
       " '21 2',\n",
       " '21 2',\n",
       " '21 2',\n",
       " '21 1',\n",
       " '21 1',\n",
       " '21 1',\n",
       " '21 1',\n",
       " '21 1',\n",
       " '21 1',\n",
       " '21 1',\n",
       " '21 1',\n",
       " '21 1',\n",
       " '21 1',\n",
       " '21 1',\n",
       " '21 1',\n",
       " '21 1',\n",
       " '21 1',\n",
       " '21 1',\n",
       " '21 1',\n",
       " '21 1',\n",
       " '21 1',\n",
       " '21 1',\n",
       " '21 1',\n",
       " '21 1',\n",
       " '21 1',\n",
       " '21 1',\n",
       " '21 1',\n",
       " '21 1',\n",
       " '21 1',\n",
       " '21 1',\n",
       " '21 1',\n",
       " '21 1',\n",
       " '21 1',\n",
       " '21 1',\n",
       " '21 1',\n",
       " '21 1',\n",
       " '21 1',\n",
       " '21 1',\n",
       " '21 1',\n",
       " '21 1',\n",
       " '21 1',\n",
       " '21 1',\n",
       " '21 1',\n",
       " '21 1',\n",
       " '21 1',\n",
       " '21 1',\n",
       " '21 1',\n",
       " '21 1',\n",
       " '21 1',\n",
       " '21 1',\n",
       " '21 1',\n",
       " '21 1',\n",
       " '21 0',\n",
       " '21 0',\n",
       " '21 0',\n",
       " '21 0',\n",
       " '21 0',\n",
       " '21 0',\n",
       " '21 0',\n",
       " '21 0',\n",
       " '21 0',\n",
       " '21 0',\n",
       " '21 0',\n",
       " '21 0',\n",
       " '21 0',\n",
       " '21 0',\n",
       " '21 0',\n",
       " '21 0',\n",
       " '21 0',\n",
       " '21 0',\n",
       " '21 0',\n",
       " '21 0',\n",
       " '21 0',\n",
       " '21 0',\n",
       " '21 0',\n",
       " '21 0',\n",
       " '21 0',\n",
       " '21 0',\n",
       " '21 0',\n",
       " '21 0',\n",
       " '21 0',\n",
       " '21 0',\n",
       " '21 0',\n",
       " '21 0',\n",
       " '21 0',\n",
       " '21 0',\n",
       " '21 0',\n",
       " '21 0',\n",
       " '21 0',\n",
       " '21 0',\n",
       " '21 0',\n",
       " '21 0',\n",
       " '21 0',\n",
       " '21 0',\n",
       " '21 0',\n",
       " '21 0',\n",
       " '21 0',\n",
       " '21 0',\n",
       " '21 0',\n",
       " '21 0',\n",
       " '21 0',\n",
       " '21 0',\n",
       " '21 0',\n",
       " '21 0',\n",
       " '21 0',\n",
       " '21 0',\n",
       " '21 0',\n",
       " '21 0',\n",
       " '21 0',\n",
       " '21 0',\n",
       " '21 0',\n",
       " '21 0',\n",
       " '21 0',\n",
       " '21 0',\n",
       " '21 0',\n",
       " '21 0',\n",
       " '21 0',\n",
       " '21 0',\n",
       " '21 0',\n",
       " '21 0',\n",
       " '21 0',\n",
       " '21 0',\n",
       " '21 0',\n",
       " '21 0',\n",
       " '21 0',\n",
       " '21 0',\n",
       " '21 0',\n",
       " '21 0',\n",
       " '21 0',\n",
       " '21 0',\n",
       " '21 0',\n",
       " '21 0',\n",
       " '21 0',\n",
       " '21 0',\n",
       " '21 0',\n",
       " '21 0',\n",
       " '21 0',\n",
       " '21 0',\n",
       " '21 0',\n",
       " '21 0',\n",
       " '21 0',\n",
       " '21 0',\n",
       " '21 0',\n",
       " '21 0',\n",
       " '21 0',\n",
       " '21 0',\n",
       " '21 0',\n",
       " '21 0',\n",
       " '21 0',\n",
       " '21 0',\n",
       " '21 0',\n",
       " '21 0',\n",
       " '21 0',\n",
       " '21 0',\n",
       " '21 0',\n",
       " '21 0',\n",
       " '21 0',\n",
       " '21 0',\n",
       " '21 0',\n",
       " '21 0',\n",
       " '21 0',\n",
       " '21 0',\n",
       " '21 0',\n",
       " '21 0',\n",
       " '21 0',\n",
       " '21 0',\n",
       " '21 0',\n",
       " '21 0',\n",
       " '21 0',\n",
       " '21 0',\n",
       " '21 0',\n",
       " '21 0',\n",
       " '21 0',\n",
       " '21 0',\n",
       " '21 0',\n",
       " '21 0',\n",
       " '21 0',\n",
       " '21 0',\n",
       " '21 0',\n",
       " '21 0',\n",
       " '21 0',\n",
       " '21 0',\n",
       " '21 0',\n",
       " '21 0',\n",
       " '21 0',\n",
       " '21 0',\n",
       " '21 0',\n",
       " '21 0',\n",
       " '21 0',\n",
       " '21 0',\n",
       " '21 0',\n",
       " '21 0',\n",
       " '21 0',\n",
       " '21 0',\n",
       " '21 0',\n",
       " '21 0',\n",
       " '21 0',\n",
       " '21 0',\n",
       " '21 0',\n",
       " '21 0',\n",
       " '21 0',\n",
       " '21 0',\n",
       " '21 0',\n",
       " '21 0',\n",
       " '21 0',\n",
       " '21 0',\n",
       " '21 0',\n",
       " '21 0',\n",
       " '21 0',\n",
       " '21 0',\n",
       " '21 0',\n",
       " '21 0',\n",
       " '21 0',\n",
       " '21 0',\n",
       " '21 0',\n",
       " '21 0',\n",
       " '21 0',\n",
       " '21 0',\n",
       " '21 0',\n",
       " '21 0',\n",
       " '21 0',\n",
       " '21 0',\n",
       " '21 0',\n",
       " '21 0',\n",
       " '21 0',\n",
       " '21 0',\n",
       " '21 0',\n",
       " '21 0',\n",
       " '21 0',\n",
       " '21 0',\n",
       " '21 0',\n",
       " '21 0',\n",
       " '21 0',\n",
       " '21 0',\n",
       " '21 0',\n",
       " '21 0',\n",
       " '21 0',\n",
       " '21 0',\n",
       " '21 0',\n",
       " '21 0',\n",
       " '21 0',\n",
       " '21 0',\n",
       " '21 0',\n",
       " '21 0',\n",
       " '21 0',\n",
       " '21 0',\n",
       " '21 0',\n",
       " '21 0',\n",
       " '21 0',\n",
       " '21 0',\n",
       " '21 0',\n",
       " '21 0',\n",
       " '21 0',\n",
       " '21 0',\n",
       " '21 0',\n",
       " '21 0',\n",
       " '21 0',\n",
       " '21 0',\n",
       " '21 0',\n",
       " '21 0',\n",
       " '21 0',\n",
       " '21 0',\n",
       " '21 0',\n",
       " '21 0',\n",
       " '21 0',\n",
       " '21 0',\n",
       " '21 0',\n",
       " '21 0',\n",
       " '21 0',\n",
       " '21 0',\n",
       " '21 0',\n",
       " '21 0',\n",
       " '21 0',\n",
       " '21 0',\n",
       " '21 0',\n",
       " '21 0',\n",
       " '21 0',\n",
       " '21 0',\n",
       " '21 0',\n",
       " '21 0',\n",
       " '21 0',\n",
       " '21 0',\n",
       " '21 0',\n",
       " '21 0',\n",
       " '21 0',\n",
       " '21 0',\n",
       " '21 0',\n",
       " '21 0',\n",
       " '21 0',\n",
       " '21 0',\n",
       " '21 0',\n",
       " '21 0',\n",
       " '21 0',\n",
       " '21 0',\n",
       " '21 0',\n",
       " '21 0',\n",
       " '21 0',\n",
       " '21 0',\n",
       " '21 0',\n",
       " '21 0',\n",
       " '21 0',\n",
       " '21 0',\n",
       " '21 0',\n",
       " '21 0',\n",
       " '21 0',\n",
       " '21 0',\n",
       " '21 0',\n",
       " '21 0',\n",
       " '21 0',\n",
       " '21 0',\n",
       " '21 0',\n",
       " '21 0',\n",
       " '21 0',\n",
       " '21 0',\n",
       " '21 0',\n",
       " '21 0',\n",
       " '21 0',\n",
       " '21 0',\n",
       " '21 0',\n",
       " '21 0',\n",
       " '21 0',\n",
       " '21 0',\n",
       " '21 0',\n",
       " '21 0',\n",
       " '21 0',\n",
       " '21 0',\n",
       " '21 0',\n",
       " '21 0',\n",
       " '21 0',\n",
       " '21 0',\n",
       " '21 0',\n",
       " '21 0',\n",
       " '21 0',\n",
       " '21 0',\n",
       " '21 0',\n",
       " '21 0',\n",
       " '21 0',\n",
       " '21 0',\n",
       " '21 0',\n",
       " '21 0',\n",
       " '21 0',\n",
       " '21 0',\n",
       " '21 0',\n",
       " '21 0',\n",
       " '21 0',\n",
       " '21 0',\n",
       " '21 0',\n",
       " '21 0',\n",
       " '21 0',\n",
       " '21 0',\n",
       " '21 0',\n",
       " '21 0',\n",
       " '21 0',\n",
       " '21 0',\n",
       " '21 0',\n",
       " '21 0',\n",
       " '21 0',\n",
       " '21 0',\n",
       " '21 0',\n",
       " '21 0',\n",
       " '21 0',\n",
       " '21 0',\n",
       " '21 0',\n",
       " '21 0',\n",
       " '21 0',\n",
       " '21 0',\n",
       " '21 0',\n",
       " '21 0',\n",
       " '21 0',\n",
       " '21 0',\n",
       " '21 0',\n",
       " '21 0',\n",
       " '21 0',\n",
       " '21 0',\n",
       " '21 0',\n",
       " '21 0',\n",
       " '21 0',\n",
       " '21 0',\n",
       " '21 0',\n",
       " '21 0',\n",
       " '21 0',\n",
       " '21 0',\n",
       " '21 0',\n",
       " '21 0',\n",
       " '21 0',\n",
       " '21 0',\n",
       " '21 0',\n",
       " '21 0',\n",
       " '21 0',\n",
       " '21 0',\n",
       " '21 0',\n",
       " '21 0',\n",
       " '21 0',\n",
       " '21 0',\n",
       " '21 0',\n",
       " '21 0',\n",
       " '21 0',\n",
       " '21 0',\n",
       " '21 0',\n",
       " '21 0',\n",
       " '21 0',\n",
       " '21 0',\n",
       " '21 0',\n",
       " '21 0',\n",
       " '21 0',\n",
       " '21 0',\n",
       " '21 0',\n",
       " '21 0',\n",
       " '21 0',\n",
       " '21 0',\n",
       " '21 0',\n",
       " '21 0',\n",
       " '21 0',\n",
       " '21 0',\n",
       " '21 0',\n",
       " '21 0',\n",
       " '21 0',\n",
       " '21 0',\n",
       " '21 0',\n",
       " '21 0',\n",
       " '21 0',\n",
       " '21 0',\n",
       " '21 0',\n",
       " '21 0',\n",
       " '21 0',\n",
       " '21 0',\n",
       " '21 0',\n",
       " '21 0',\n",
       " '21 0',\n",
       " '21 0',\n",
       " '21 0',\n",
       " '21 0',\n",
       " '21 0',\n",
       " '21 0',\n",
       " '21 0',\n",
       " '21 0',\n",
       " '21 0',\n",
       " '21 0',\n",
       " '21 0',\n",
       " '21 0',\n",
       " '21 0',\n",
       " '21 0',\n",
       " '21 0',\n",
       " '21 0',\n",
       " '21 0',\n",
       " '21 0',\n",
       " '21 0',\n",
       " '21 0',\n",
       " '21 0',\n",
       " '21 0',\n",
       " '21 0',\n",
       " '21 0',\n",
       " '21 0',\n",
       " '21 0',\n",
       " '21 0',\n",
       " '21 0',\n",
       " '21 0',\n",
       " '21 0',\n",
       " '21 0',\n",
       " '21 0',\n",
       " '21 0',\n",
       " '21 0',\n",
       " '21 0',\n",
       " '21 0',\n",
       " '21 0',\n",
       " '21 0',\n",
       " '21 0',\n",
       " '21 0',\n",
       " '21 0',\n",
       " '21 0',\n",
       " '21 0',\n",
       " '21 0',\n",
       " '21 0',\n",
       " '21 0',\n",
       " '21 0',\n",
       " '21 0',\n",
       " '21 0',\n",
       " '21 0',\n",
       " '21 0',\n",
       " '21 0',\n",
       " '21 0',\n",
       " '21 0',\n",
       " '21 0',\n",
       " '21 0',\n",
       " '21 0',\n",
       " '21 0',\n",
       " '21 0',\n",
       " '21 0',\n",
       " '21 0',\n",
       " '21 0',\n",
       " '21 0',\n",
       " '21 0',\n",
       " '21 0',\n",
       " '21 0',\n",
       " '21 0',\n",
       " '21 0',\n",
       " '21 0',\n",
       " '21 0',\n",
       " '21 0',\n",
       " '21 0',\n",
       " '21 0',\n",
       " '21 0',\n",
       " '21 0',\n",
       " '21 0',\n",
       " '21 0',\n",
       " '21 0',\n",
       " '21 0',\n",
       " '21 0',\n",
       " '21 0',\n",
       " '21 0',\n",
       " '21 0',\n",
       " '21 0',\n",
       " '21 0',\n",
       " '21 0',\n",
       " '21 0',\n",
       " '21 0',\n",
       " '21 0',\n",
       " '21 0',\n",
       " '21 0',\n",
       " '21 0',\n",
       " '21 0',\n",
       " '21 0',\n",
       " '21 0',\n",
       " '21 0',\n",
       " '21 0',\n",
       " '21 0',\n",
       " '21 0',\n",
       " '21 0',\n",
       " '21 0',\n",
       " '21 0',\n",
       " '21 0',\n",
       " '21 0',\n",
       " '21 0',\n",
       " '21 0',\n",
       " '21 0',\n",
       " '21 0',\n",
       " '21 0',\n",
       " '21 0',\n",
       " '21 0',\n",
       " '21 0',\n",
       " '21 0',\n",
       " '21 0',\n",
       " '21 0',\n",
       " '21 0',\n",
       " '21 0',\n",
       " '21 0',\n",
       " '21 0',\n",
       " '21 0',\n",
       " '21 0',\n",
       " '21 0',\n",
       " '21 0',\n",
       " '21 0',\n",
       " '21 0',\n",
       " '21 0',\n",
       " '21 0',\n",
       " '21 0',\n",
       " '21 0',\n",
       " '21 0',\n",
       " '21 0',\n",
       " '21 0',\n",
       " '21 0',\n",
       " '21 0',\n",
       " '21 0',\n",
       " '21 0',\n",
       " '21 0',\n",
       " '21 0',\n",
       " '21 0',\n",
       " '21 0',\n",
       " '21 0',\n",
       " '21 0',\n",
       " '21 0',\n",
       " '21 0',\n",
       " '21 0',\n",
       " '21 0',\n",
       " '21 0',\n",
       " '21 0',\n",
       " '21 0',\n",
       " '21 0',\n",
       " '21 0',\n",
       " '21 0',\n",
       " '21 0',\n",
       " '21 0',\n",
       " '21 0',\n",
       " '21 0',\n",
       " '21 0',\n",
       " '21 0',\n",
       " '21 0',\n",
       " '21 0',\n",
       " '21 0',\n",
       " '21 0',\n",
       " '21 0',\n",
       " '21 0',\n",
       " '21 0',\n",
       " '21 0',\n",
       " '21 0',\n",
       " '21 0',\n",
       " '21 0',\n",
       " '21 0',\n",
       " '21 0',\n",
       " '21 0',\n",
       " '21 0',\n",
       " '21 0',\n",
       " '21 0',\n",
       " '21 0',\n",
       " '21 0',\n",
       " '21 0',\n",
       " '21 0',\n",
       " '21 0',\n",
       " '21 0',\n",
       " '21 0',\n",
       " '21 0',\n",
       " '21 0',\n",
       " '21 0',\n",
       " '21 0',\n",
       " '21 0',\n",
       " '21 0',\n",
       " '21 0',\n",
       " '21 0',\n",
       " '21 0',\n",
       " '21 0',\n",
       " '21 0',\n",
       " '21 0',\n",
       " '21 0',\n",
       " '21 0',\n",
       " '21 0',\n",
       " '21 0',\n",
       " '21 0',\n",
       " '21 0',\n",
       " '21 0',\n",
       " '21 0',\n",
       " '21 0',\n",
       " '21 0',\n",
       " '21 0',\n",
       " '21 0',\n",
       " '21 0',\n",
       " '21 0',\n",
       " '21 0',\n",
       " '21 0',\n",
       " '21 0',\n",
       " '21 0',\n",
       " '21 0',\n",
       " '21 0',\n",
       " '21 0',\n",
       " '21 0',\n",
       " '21 0',\n",
       " '21 0',\n",
       " '21 0',\n",
       " '21 0',\n",
       " '21 0',\n",
       " '21 0',\n",
       " '21 0',\n",
       " '21 0',\n",
       " '21 0',\n",
       " '21 0',\n",
       " '21 0',\n",
       " '21 0',\n",
       " '21 0',\n",
       " '21 0',\n",
       " '21 0',\n",
       " '21 0',\n",
       " '21 0',\n",
       " '21 0',\n",
       " '21 0',\n",
       " '21 0',\n",
       " '21 0',\n",
       " '21 0',\n",
       " '21 0',\n",
       " '21 0',\n",
       " '21 0',\n",
       " '21 0',\n",
       " '21 0',\n",
       " '21 0',\n",
       " '21 0',\n",
       " '21 0',\n",
       " '21 0',\n",
       " '21 0',\n",
       " '21 0',\n",
       " '21 0',\n",
       " '21 0',\n",
       " '21 0',\n",
       " '21 0',\n",
       " '21 0',\n",
       " '21 0',\n",
       " '21 0',\n",
       " '21 0',\n",
       " '21 0',\n",
       " '21 0',\n",
       " '21 0',\n",
       " '21 0',\n",
       " '21 0',\n",
       " '21 0',\n",
       " '21 0',\n",
       " '21 0',\n",
       " '21 0',\n",
       " '21 0',\n",
       " '21 0',\n",
       " '21 0',\n",
       " '21 0',\n",
       " '21 0',\n",
       " '21 0',\n",
       " '21 0',\n",
       " '21 0',\n",
       " '21 0',\n",
       " '21 0',\n",
       " '21 0',\n",
       " '21 0',\n",
       " '21 0',\n",
       " '21 0',\n",
       " '21 0',\n",
       " '21 0',\n",
       " '21 0',\n",
       " '21 0',\n",
       " '21 0',\n",
       " '21 0',\n",
       " '21 0',\n",
       " '21 0',\n",
       " '21 0',\n",
       " '21 0',\n",
       " '21 0',\n",
       " '21 0',\n",
       " '21 0',\n",
       " '21 0',\n",
       " '21 0',\n",
       " '21 0',\n",
       " '21 0',\n",
       " '21 0',\n",
       " '21 0',\n",
       " '21 0',\n",
       " '21 0',\n",
       " '21 0',\n",
       " '21 0',\n",
       " '21 0',\n",
       " '21 0',\n",
       " '21 0',\n",
       " '21 0',\n",
       " '21 0',\n",
       " '21 0',\n",
       " '21 0',\n",
       " '21 0',\n",
       " '21 0',\n",
       " '21 0',\n",
       " '21 0',\n",
       " '21 0',\n",
       " '21 0',\n",
       " '21 0',\n",
       " '21 0',\n",
       " '21 0',\n",
       " '21 0',\n",
       " '21 0',\n",
       " '21 0',\n",
       " '21 0',\n",
       " '21 0',\n",
       " '21 0',\n",
       " '21 0',\n",
       " '21 0',\n",
       " '21 0',\n",
       " '21 0',\n",
       " '21 0',\n",
       " '21 0',\n",
       " '21 0',\n",
       " '21 0',\n",
       " '21 0',\n",
       " '21 0',\n",
       " '21 0',\n",
       " '21 0',\n",
       " '21 0',\n",
       " '21 0',\n",
       " '21 0',\n",
       " '21 0',\n",
       " '21 0',\n",
       " '21 0',\n",
       " '21 0',\n",
       " '21 0',\n",
       " '21 0',\n",
       " '21 0',\n",
       " '21 0',\n",
       " '21 0',\n",
       " '21 0',\n",
       " '21 0',\n",
       " '21 0',\n",
       " '21 0',\n",
       " '21 0',\n",
       " '21 0',\n",
       " '21 0',\n",
       " '21 0',\n",
       " '21 0',\n",
       " '21 0',\n",
       " '21 0',\n",
       " '21 0',\n",
       " '21 0',\n",
       " '21 0',\n",
       " '21 0',\n",
       " '21 0',\n",
       " '21 0',\n",
       " '21 0',\n",
       " '21 0',\n",
       " '21 0',\n",
       " '21 0',\n",
       " '21 0',\n",
       " '21 0',\n",
       " '21 0',\n",
       " '21 0',\n",
       " '21 0',\n",
       " '21 0',\n",
       " '21 0',\n",
       " '21 0',\n",
       " '21 0',\n",
       " '21 0',\n",
       " '21 0',\n",
       " '21 0',\n",
       " '21 0',\n",
       " '21 0',\n",
       " '21 0',\n",
       " '21 0',\n",
       " '21 0',\n",
       " '21 0',\n",
       " '21 0',\n",
       " '21 0',\n",
       " '21 0',\n",
       " '21 0',\n",
       " '21 0',\n",
       " '21 0',\n",
       " '21 0',\n",
       " '21 0',\n",
       " '21 0',\n",
       " '21 0',\n",
       " '21 0',\n",
       " '21 0',\n",
       " '21 0',\n",
       " '21 0',\n",
       " '21 0',\n",
       " '21 0',\n",
       " '21 0',\n",
       " '21 0',\n",
       " '21 0',\n",
       " '21 0',\n",
       " '21 0',\n",
       " '21 0',\n",
       " '21 0',\n",
       " '21 0',\n",
       " '21 0',\n",
       " '21 0',\n",
       " '21 0',\n",
       " '21 0',\n",
       " '21 0',\n",
       " '21 0',\n",
       " '21 0',\n",
       " '21 0',\n",
       " '21 0',\n",
       " '21 0',\n",
       " '21 0',\n",
       " '21 0',\n",
       " '21 0',\n",
       " '21 0',\n",
       " '21 0',\n",
       " '21 0',\n",
       " '21 0',\n",
       " '21 0',\n",
       " '21 0',\n",
       " '21 0',\n",
       " '21 0',\n",
       " '21 0',\n",
       " '21 0',\n",
       " '21 0',\n",
       " '21 0',\n",
       " '21 0',\n",
       " '21 0',\n",
       " '21 0',\n",
       " '21 0',\n",
       " '21 0',\n",
       " '21 0',\n",
       " '21 0',\n",
       " '21 0',\n",
       " '21 0',\n",
       " '21 0',\n",
       " '21 0',\n",
       " '21 0',\n",
       " '21 0',\n",
       " '21 0',\n",
       " '21 0',\n",
       " '21 0',\n",
       " '21 0',\n",
       " '21 0',\n",
       " '21 0',\n",
       " '21 0',\n",
       " '21 0',\n",
       " '21 0',\n",
       " '21 0',\n",
       " '21 0',\n",
       " '21 0',\n",
       " '21 0',\n",
       " '21 0',\n",
       " '21 0',\n",
       " '21 0',\n",
       " '21 0',\n",
       " '21 0',\n",
       " '21 0',\n",
       " '21 0',\n",
       " '21 0',\n",
       " '21 0',\n",
       " '21 0',\n",
       " '21 0',\n",
       " '21 0',\n",
       " '21 0',\n",
       " '21 0',\n",
       " '21 0',\n",
       " '21 0',\n",
       " '21 0',\n",
       " '21 0',\n",
       " '21 0',\n",
       " '21 0',\n",
       " '21 0',\n",
       " '21 0',\n",
       " '21 0',\n",
       " '21 0',\n",
       " '21 0',\n",
       " '21 0',\n",
       " '21 0',\n",
       " '21 0',\n",
       " '21 0',\n",
       " '21 0',\n",
       " '21 0',\n",
       " '21 0',\n",
       " '21 0',\n",
       " '21 0',\n",
       " '21 0',\n",
       " '21 0',\n",
       " '21 0',\n",
       " '21 0',\n",
       " '21 0',\n",
       " '21 0',\n",
       " '21 0',\n",
       " '21 0',\n",
       " '21 0',\n",
       " '21 0',\n",
       " '21 0',\n",
       " '21 0',\n",
       " '21 0',\n",
       " '21 0',\n",
       " '21 0',\n",
       " '21 0',\n",
       " '21 0',\n",
       " '21 0',\n",
       " '21 0',\n",
       " '21 0',\n",
       " '21 0',\n",
       " '21 0',\n",
       " '21 0',\n",
       " '21 0',\n",
       " '21 0',\n",
       " '21 0',\n",
       " '21 0',\n",
       " '21 0',\n",
       " '21 0',\n",
       " '21 0',\n",
       " '21 0',\n",
       " ...]"
      ]
     },
     "execution_count": 9,
     "metadata": {},
     "output_type": "execute_result"
    }
   ],
   "source": [
    "newlist"
   ]
  },
  {
   "cell_type": "code",
   "execution_count": 10,
   "id": "b7424b09",
   "metadata": {},
   "outputs": [],
   "source": [
    "dona['dayhour'] = newlist\n",
    "dona['dayhour'] = dona['dayhour']"
   ]
  },
  {
   "cell_type": "code",
   "execution_count": 11,
   "id": "7772c446",
   "metadata": {},
   "outputs": [
    {
     "data": {
      "text/html": [
       "<div>\n",
       "<style scoped>\n",
       "    .dataframe tbody tr th:only-of-type {\n",
       "        vertical-align: middle;\n",
       "    }\n",
       "\n",
       "    .dataframe tbody tr th {\n",
       "        vertical-align: top;\n",
       "    }\n",
       "\n",
       "    .dataframe thead th {\n",
       "        text-align: right;\n",
       "    }\n",
       "</style>\n",
       "<table border=\"1\" class=\"dataframe\">\n",
       "  <thead>\n",
       "    <tr style=\"text-align: right;\">\n",
       "      <th></th>\n",
       "      <th>name</th>\n",
       "      <th>time</th>\n",
       "      <th>amount</th>\n",
       "      <th>comment</th>\n",
       "      <th>hour</th>\n",
       "      <th>day</th>\n",
       "      <th>datetime</th>\n",
       "      <th>run</th>\n",
       "      <th>dayhour</th>\n",
       "    </tr>\n",
       "  </thead>\n",
       "  <tbody>\n",
       "    <tr>\n",
       "      <th>0</th>\n",
       "      <td>The Yetee</td>\n",
       "      <td>2024-01-22 15:02:12.836533</td>\n",
       "      <td>16318.00</td>\n",
       "      <td>Yes</td>\n",
       "      <td>15:00</td>\n",
       "      <td>22</td>\n",
       "      <td>1-22 15:00</td>\n",
       "      <td>NaN</td>\n",
       "      <td>22 15</td>\n",
       "    </tr>\n",
       "    <tr>\n",
       "      <th>1</th>\n",
       "      <td>Fangamer</td>\n",
       "      <td>2024-01-22 14:53:48.688305</td>\n",
       "      <td>2483.00</td>\n",
       "      <td>Yes</td>\n",
       "      <td>14:00</td>\n",
       "      <td>22</td>\n",
       "      <td>1-22 14:00</td>\n",
       "      <td>NaN</td>\n",
       "      <td>22 14</td>\n",
       "    </tr>\n",
       "    <tr>\n",
       "      <th>2</th>\n",
       "      <td>(Anonymous)</td>\n",
       "      <td>2024-01-21 16:14:51.311903</td>\n",
       "      <td>25.00</td>\n",
       "      <td>No</td>\n",
       "      <td>16:00</td>\n",
       "      <td>21</td>\n",
       "      <td>1-21 16:00</td>\n",
       "      <td>Finale! The End</td>\n",
       "      <td>21 16</td>\n",
       "    </tr>\n",
       "    <tr>\n",
       "      <th>3</th>\n",
       "      <td>(Anonymous)</td>\n",
       "      <td>2024-01-21 15:44:09.924101</td>\n",
       "      <td>1741.53</td>\n",
       "      <td>No</td>\n",
       "      <td>15:00</td>\n",
       "      <td>21</td>\n",
       "      <td>1-21 15:00</td>\n",
       "      <td>Finale! The End</td>\n",
       "      <td>21 15</td>\n",
       "    </tr>\n",
       "    <tr>\n",
       "      <th>4</th>\n",
       "      <td>TrueTemplar41</td>\n",
       "      <td>2024-01-21 15:19:29.462119</td>\n",
       "      <td>28.00</td>\n",
       "      <td>No</td>\n",
       "      <td>15:00</td>\n",
       "      <td>21</td>\n",
       "      <td>1-21 15:00</td>\n",
       "      <td>Finale! The End</td>\n",
       "      <td>21 15</td>\n",
       "    </tr>\n",
       "    <tr>\n",
       "      <th>...</th>\n",
       "      <td>...</td>\n",
       "      <td>...</td>\n",
       "      <td>...</td>\n",
       "      <td>...</td>\n",
       "      <td>...</td>\n",
       "      <td>...</td>\n",
       "      <td>...</td>\n",
       "      <td>...</td>\n",
       "      <td>...</td>\n",
       "    </tr>\n",
       "    <tr>\n",
       "      <th>36178</th>\n",
       "      <td>esmioley</td>\n",
       "      <td>2024-01-14 11:02:36.509249</td>\n",
       "      <td>25.00</td>\n",
       "      <td>No</td>\n",
       "      <td>11:00</td>\n",
       "      <td>14</td>\n",
       "      <td>1-14 11:00</td>\n",
       "      <td>NaN</td>\n",
       "      <td>14 11</td>\n",
       "    </tr>\n",
       "    <tr>\n",
       "      <th>36179</th>\n",
       "      <td>Scipio Wright</td>\n",
       "      <td>2024-01-14 10:46:50.557657</td>\n",
       "      <td>100.00</td>\n",
       "      <td>Yes</td>\n",
       "      <td>10:00</td>\n",
       "      <td>14</td>\n",
       "      <td>1-14 10:00</td>\n",
       "      <td>NaN</td>\n",
       "      <td>14 10</td>\n",
       "    </tr>\n",
       "    <tr>\n",
       "      <th>36180</th>\n",
       "      <td>Epsilon Minus</td>\n",
       "      <td>2024-01-13 10:42:52.500843</td>\n",
       "      <td>5.00</td>\n",
       "      <td>Yes</td>\n",
       "      <td>10:00</td>\n",
       "      <td>13</td>\n",
       "      <td>1-13 10:00</td>\n",
       "      <td>NaN</td>\n",
       "      <td>13 10</td>\n",
       "    </tr>\n",
       "    <tr>\n",
       "      <th>36181</th>\n",
       "      <td>Andrew Peterson</td>\n",
       "      <td>2024-01-12 16:01:49.600958</td>\n",
       "      <td>10.00</td>\n",
       "      <td>Yes</td>\n",
       "      <td>16:00</td>\n",
       "      <td>12</td>\n",
       "      <td>1-12 16:00</td>\n",
       "      <td>NaN</td>\n",
       "      <td>12 16</td>\n",
       "    </tr>\n",
       "    <tr>\n",
       "      <th>36182</th>\n",
       "      <td>(Anonymous)</td>\n",
       "      <td>2024-01-12 15:23:45.416710</td>\n",
       "      <td>5.00</td>\n",
       "      <td>No</td>\n",
       "      <td>15:00</td>\n",
       "      <td>12</td>\n",
       "      <td>1-12 15:00</td>\n",
       "      <td>NaN</td>\n",
       "      <td>12 15</td>\n",
       "    </tr>\n",
       "  </tbody>\n",
       "</table>\n",
       "<p>36183 rows × 9 columns</p>\n",
       "</div>"
      ],
      "text/plain": [
       "                  name                       time    amount comment   hour  \\\n",
       "0            The Yetee 2024-01-22 15:02:12.836533  16318.00     Yes  15:00   \n",
       "1             Fangamer 2024-01-22 14:53:48.688305   2483.00     Yes  14:00   \n",
       "2          (Anonymous) 2024-01-21 16:14:51.311903     25.00      No  16:00   \n",
       "3          (Anonymous) 2024-01-21 15:44:09.924101   1741.53      No  15:00   \n",
       "4        TrueTemplar41 2024-01-21 15:19:29.462119     28.00      No  15:00   \n",
       "...                ...                        ...       ...     ...    ...   \n",
       "36178         esmioley 2024-01-14 11:02:36.509249     25.00      No  11:00   \n",
       "36179    Scipio Wright 2024-01-14 10:46:50.557657    100.00     Yes  10:00   \n",
       "36180    Epsilon Minus 2024-01-13 10:42:52.500843      5.00     Yes  10:00   \n",
       "36181  Andrew Peterson 2024-01-12 16:01:49.600958     10.00     Yes  16:00   \n",
       "36182      (Anonymous) 2024-01-12 15:23:45.416710      5.00      No  15:00   \n",
       "\n",
       "       day    datetime              run dayhour  \n",
       "0       22  1-22 15:00              NaN   22 15  \n",
       "1       22  1-22 14:00              NaN   22 14  \n",
       "2       21  1-21 16:00  Finale! The End   21 16  \n",
       "3       21  1-21 15:00  Finale! The End   21 15  \n",
       "4       21  1-21 15:00  Finale! The End   21 15  \n",
       "...    ...         ...              ...     ...  \n",
       "36178   14  1-14 11:00              NaN   14 11  \n",
       "36179   14  1-14 10:00              NaN   14 10  \n",
       "36180   13  1-13 10:00              NaN   13 10  \n",
       "36181   12  1-12 16:00              NaN   12 16  \n",
       "36182   12  1-12 15:00              NaN   12 15  \n",
       "\n",
       "[36183 rows x 9 columns]"
      ]
     },
     "execution_count": 11,
     "metadata": {},
     "output_type": "execute_result"
    }
   ],
   "source": [
    "dona"
   ]
  },
  {
   "cell_type": "code",
   "execution_count": 12,
   "id": "4ff7f148",
   "metadata": {},
   "outputs": [
    {
     "data": {
      "text/plain": [
       "name                object\n",
       "time        datetime64[ns]\n",
       "amount             float64\n",
       "comment             object\n",
       "hour                object\n",
       "day                  int64\n",
       "datetime            object\n",
       "run                 object\n",
       "dayhour             object\n",
       "dtype: object"
      ]
     },
     "execution_count": 12,
     "metadata": {},
     "output_type": "execute_result"
    }
   ],
   "source": [
    "dona.dtypes"
   ]
  },
  {
   "cell_type": "code",
   "execution_count": 13,
   "id": "c4c10764",
   "metadata": {},
   "outputs": [],
   "source": [
    "hour_totals = dona.groupby(by = 'dayhour')['amount'].sum().reset_index()"
   ]
  },
  {
   "cell_type": "code",
   "execution_count": 14,
   "id": "2aefb912",
   "metadata": {},
   "outputs": [
    {
     "data": {
      "image/png": "[encoded data removed]",
      "text/plain": [
       "<Figure size 640x480 with 1 Axes>"
      ]
     },
     "metadata": {},
     "output_type": "display_data"
    }
   ],
   "source": [
    "#fig, ax = plt.subplots()\n",
    "hour_totals.plot.bar( x = 'dayhour', y = 'amount')\n",
    "plt.ylabel('dollars')\n",
    "plt.show();"
   ]
  },
  {
   "cell_type": "code",
   "execution_count": 15,
   "id": "4ef3ea9c",
   "metadata": {},
   "outputs": [
    {
     "data": {
      "text/html": [
       "<div>\n",
       "<style scoped>\n",
       "    .dataframe tbody tr th:only-of-type {\n",
       "        vertical-align: middle;\n",
       "    }\n",
       "\n",
       "    .dataframe tbody tr th {\n",
       "        vertical-align: top;\n",
       "    }\n",
       "\n",
       "    .dataframe thead th {\n",
       "        text-align: right;\n",
       "    }\n",
       "</style>\n",
       "<table border=\"1\" class=\"dataframe\">\n",
       "  <thead>\n",
       "    <tr style=\"text-align: right;\">\n",
       "      <th></th>\n",
       "      <th>name</th>\n",
       "      <th>time</th>\n",
       "      <th>amount</th>\n",
       "      <th>comment</th>\n",
       "      <th>hour</th>\n",
       "      <th>day</th>\n",
       "      <th>datetime</th>\n",
       "      <th>run</th>\n",
       "      <th>dayhour</th>\n",
       "    </tr>\n",
       "  </thead>\n",
       "  <tbody>\n",
       "    <tr>\n",
       "      <th>0</th>\n",
       "      <td>The Yetee</td>\n",
       "      <td>2024-01-22 15:02:12.836533</td>\n",
       "      <td>16318.00</td>\n",
       "      <td>Yes</td>\n",
       "      <td>15:00</td>\n",
       "      <td>22</td>\n",
       "      <td>1-22 15:00</td>\n",
       "      <td>NaN</td>\n",
       "      <td>22 15</td>\n",
       "    </tr>\n",
       "    <tr>\n",
       "      <th>1</th>\n",
       "      <td>Fangamer</td>\n",
       "      <td>2024-01-22 14:53:48.688305</td>\n",
       "      <td>2483.00</td>\n",
       "      <td>Yes</td>\n",
       "      <td>14:00</td>\n",
       "      <td>22</td>\n",
       "      <td>1-22 14:00</td>\n",
       "      <td>NaN</td>\n",
       "      <td>22 14</td>\n",
       "    </tr>\n",
       "    <tr>\n",
       "      <th>2</th>\n",
       "      <td>(Anonymous)</td>\n",
       "      <td>2024-01-21 16:14:51.311903</td>\n",
       "      <td>25.00</td>\n",
       "      <td>No</td>\n",
       "      <td>16:00</td>\n",
       "      <td>21</td>\n",
       "      <td>1-21 16:00</td>\n",
       "      <td>Finale! The End</td>\n",
       "      <td>21 16</td>\n",
       "    </tr>\n",
       "    <tr>\n",
       "      <th>3</th>\n",
       "      <td>(Anonymous)</td>\n",
       "      <td>2024-01-21 15:44:09.924101</td>\n",
       "      <td>1741.53</td>\n",
       "      <td>No</td>\n",
       "      <td>15:00</td>\n",
       "      <td>21</td>\n",
       "      <td>1-21 15:00</td>\n",
       "      <td>Finale! The End</td>\n",
       "      <td>21 15</td>\n",
       "    </tr>\n",
       "    <tr>\n",
       "      <th>4</th>\n",
       "      <td>TrueTemplar41</td>\n",
       "      <td>2024-01-21 15:19:29.462119</td>\n",
       "      <td>28.00</td>\n",
       "      <td>No</td>\n",
       "      <td>15:00</td>\n",
       "      <td>21</td>\n",
       "      <td>1-21 15:00</td>\n",
       "      <td>Finale! The End</td>\n",
       "      <td>21 15</td>\n",
       "    </tr>\n",
       "    <tr>\n",
       "      <th>...</th>\n",
       "      <td>...</td>\n",
       "      <td>...</td>\n",
       "      <td>...</td>\n",
       "      <td>...</td>\n",
       "      <td>...</td>\n",
       "      <td>...</td>\n",
       "      <td>...</td>\n",
       "      <td>...</td>\n",
       "      <td>...</td>\n",
       "    </tr>\n",
       "    <tr>\n",
       "      <th>36178</th>\n",
       "      <td>esmioley</td>\n",
       "      <td>2024-01-14 11:02:36.509249</td>\n",
       "      <td>25.00</td>\n",
       "      <td>No</td>\n",
       "      <td>11:00</td>\n",
       "      <td>14</td>\n",
       "      <td>1-14 11:00</td>\n",
       "      <td>NaN</td>\n",
       "      <td>14 11</td>\n",
       "    </tr>\n",
       "    <tr>\n",
       "      <th>36179</th>\n",
       "      <td>Scipio Wright</td>\n",
       "      <td>2024-01-14 10:46:50.557657</td>\n",
       "      <td>100.00</td>\n",
       "      <td>Yes</td>\n",
       "      <td>10:00</td>\n",
       "      <td>14</td>\n",
       "      <td>1-14 10:00</td>\n",
       "      <td>NaN</td>\n",
       "      <td>14 10</td>\n",
       "    </tr>\n",
       "    <tr>\n",
       "      <th>36180</th>\n",
       "      <td>Epsilon Minus</td>\n",
       "      <td>2024-01-13 10:42:52.500843</td>\n",
       "      <td>5.00</td>\n",
       "      <td>Yes</td>\n",
       "      <td>10:00</td>\n",
       "      <td>13</td>\n",
       "      <td>1-13 10:00</td>\n",
       "      <td>NaN</td>\n",
       "      <td>13 10</td>\n",
       "    </tr>\n",
       "    <tr>\n",
       "      <th>36181</th>\n",
       "      <td>Andrew Peterson</td>\n",
       "      <td>2024-01-12 16:01:49.600958</td>\n",
       "      <td>10.00</td>\n",
       "      <td>Yes</td>\n",
       "      <td>16:00</td>\n",
       "      <td>12</td>\n",
       "      <td>1-12 16:00</td>\n",
       "      <td>NaN</td>\n",
       "      <td>12 16</td>\n",
       "    </tr>\n",
       "    <tr>\n",
       "      <th>36182</th>\n",
       "      <td>(Anonymous)</td>\n",
       "      <td>2024-01-12 15:23:45.416710</td>\n",
       "      <td>5.00</td>\n",
       "      <td>No</td>\n",
       "      <td>15:00</td>\n",
       "      <td>12</td>\n",
       "      <td>1-12 15:00</td>\n",
       "      <td>NaN</td>\n",
       "      <td>12 15</td>\n",
       "    </tr>\n",
       "  </tbody>\n",
       "</table>\n",
       "<p>36183 rows × 9 columns</p>\n",
       "</div>"
      ],
      "text/plain": [
       "                  name                       time    amount comment   hour  \\\n",
       "0            The Yetee 2024-01-22 15:02:12.836533  16318.00     Yes  15:00   \n",
       "1             Fangamer 2024-01-22 14:53:48.688305   2483.00     Yes  14:00   \n",
       "2          (Anonymous) 2024-01-21 16:14:51.311903     25.00      No  16:00   \n",
       "3          (Anonymous) 2024-01-21 15:44:09.924101   1741.53      No  15:00   \n",
       "4        TrueTemplar41 2024-01-21 15:19:29.462119     28.00      No  15:00   \n",
       "...                ...                        ...       ...     ...    ...   \n",
       "36178         esmioley 2024-01-14 11:02:36.509249     25.00      No  11:00   \n",
       "36179    Scipio Wright 2024-01-14 10:46:50.557657    100.00     Yes  10:00   \n",
       "36180    Epsilon Minus 2024-01-13 10:42:52.500843      5.00     Yes  10:00   \n",
       "36181  Andrew Peterson 2024-01-12 16:01:49.600958     10.00     Yes  16:00   \n",
       "36182      (Anonymous) 2024-01-12 15:23:45.416710      5.00      No  15:00   \n",
       "\n",
       "       day    datetime              run dayhour  \n",
       "0       22  1-22 15:00              NaN   22 15  \n",
       "1       22  1-22 14:00              NaN   22 14  \n",
       "2       21  1-21 16:00  Finale! The End   21 16  \n",
       "3       21  1-21 15:00  Finale! The End   21 15  \n",
       "4       21  1-21 15:00  Finale! The End   21 15  \n",
       "...    ...         ...              ...     ...  \n",
       "36178   14  1-14 11:00              NaN   14 11  \n",
       "36179   14  1-14 10:00              NaN   14 10  \n",
       "36180   13  1-13 10:00              NaN   13 10  \n",
       "36181   12  1-12 16:00              NaN   12 16  \n",
       "36182   12  1-12 15:00              NaN   12 15  \n",
       "\n",
       "[36183 rows x 9 columns]"
      ]
     },
     "execution_count": 15,
     "metadata": {},
     "output_type": "execute_result"
    }
   ],
   "source": [
    "dona['day'] = dona['time'].dt.day\n",
    "dona"
   ]
  },
  {
   "cell_type": "code",
   "execution_count": 16,
   "id": "64e9f1af",
   "metadata": {},
   "outputs": [],
   "source": [
    "day_totals = dona.groupby(by = 'day')['amount'].sum()"
   ]
  },
  {
   "cell_type": "code",
   "execution_count": 17,
   "id": "77a8ab7e",
   "metadata": {},
   "outputs": [
    {
     "data": {
      "text/plain": [
       "day\n",
       "12        15.00\n",
       "13         5.00\n",
       "14     93560.27\n",
       "15    186835.18\n",
       "16    201861.74\n",
       "17    290388.40\n",
       "18    318574.43\n",
       "19    293936.28\n",
       "20    985183.25\n",
       "21    150696.66\n",
       "22     18801.00\n",
       "Name: amount, dtype: float64"
      ]
     },
     "execution_count": 17,
     "metadata": {},
     "output_type": "execute_result"
    }
   ],
   "source": [
    "day_totals"
   ]
  },
  {
   "cell_type": "code",
   "execution_count": 18,
   "id": "7022c219",
   "metadata": {},
   "outputs": [
    {
     "data": {
      "image/png": "[encoded data removed]",
      "text/plain": [
       "<Figure size 640x480 with 1 Axes>"
      ]
     },
     "metadata": {},
     "output_type": "display_data"
    }
   ],
   "source": [
    "day_totals.plot.bar( x = 'day', y = 'amount')\n",
    "plt.ylabel('dollars')\n",
    "plt.show();"
   ]
  },
  {
   "cell_type": "code",
   "execution_count": 19,
   "id": "b87d21eb",
   "metadata": {},
   "outputs": [
    {
     "data": {
      "text/html": [
       "<div>\n",
       "<style scoped>\n",
       "    .dataframe tbody tr th:only-of-type {\n",
       "        vertical-align: middle;\n",
       "    }\n",
       "\n",
       "    .dataframe tbody tr th {\n",
       "        vertical-align: top;\n",
       "    }\n",
       "\n",
       "    .dataframe thead th {\n",
       "        text-align: right;\n",
       "    }\n",
       "</style>\n",
       "<table border=\"1\" class=\"dataframe\">\n",
       "  <thead>\n",
       "    <tr style=\"text-align: right;\">\n",
       "      <th></th>\n",
       "      <th>name</th>\n",
       "      <th>time</th>\n",
       "      <th>amount</th>\n",
       "      <th>comment</th>\n",
       "      <th>hour</th>\n",
       "      <th>day</th>\n",
       "      <th>datetime</th>\n",
       "      <th>run</th>\n",
       "      <th>dayhour</th>\n",
       "    </tr>\n",
       "  </thead>\n",
       "  <tbody>\n",
       "    <tr>\n",
       "      <th>0</th>\n",
       "      <td>The Yetee</td>\n",
       "      <td>2024-01-22 15:02:12.836533</td>\n",
       "      <td>16318.0</td>\n",
       "      <td>Yes</td>\n",
       "      <td>15:00</td>\n",
       "      <td>22</td>\n",
       "      <td>1-22 15:00</td>\n",
       "      <td>NaN</td>\n",
       "      <td>22 15</td>\n",
       "    </tr>\n",
       "    <tr>\n",
       "      <th>89</th>\n",
       "      <td>The Yetee</td>\n",
       "      <td>2024-01-21 01:03:13.117277</td>\n",
       "      <td>5000.0</td>\n",
       "      <td>Yes</td>\n",
       "      <td>1:00</td>\n",
       "      <td>21</td>\n",
       "      <td>1-21 01:00</td>\n",
       "      <td>Finale! The End</td>\n",
       "      <td>21 1</td>\n",
       "    </tr>\n",
       "    <tr>\n",
       "      <th>1012</th>\n",
       "      <td>Fangamer</td>\n",
       "      <td>2024-01-21 00:31:16.586402</td>\n",
       "      <td>5000.0</td>\n",
       "      <td>Yes</td>\n",
       "      <td>0:00</td>\n",
       "      <td>21</td>\n",
       "      <td>1-21 00:00</td>\n",
       "      <td>Final Fantasy V</td>\n",
       "      <td>21 0</td>\n",
       "    </tr>\n",
       "    <tr>\n",
       "      <th>2901</th>\n",
       "      <td>(Anonymous)</td>\n",
       "      <td>2024-01-20 23:11:20.081837</td>\n",
       "      <td>8500.0</td>\n",
       "      <td>Yes</td>\n",
       "      <td>23:00</td>\n",
       "      <td>20</td>\n",
       "      <td>1-20 23:00</td>\n",
       "      <td>Final Fantasy V</td>\n",
       "      <td>20 23</td>\n",
       "    </tr>\n",
       "    <tr>\n",
       "      <th>2913</th>\n",
       "      <td>Fangamer</td>\n",
       "      <td>2024-01-20 23:10:57.483527</td>\n",
       "      <td>5000.0</td>\n",
       "      <td>Yes</td>\n",
       "      <td>23:00</td>\n",
       "      <td>20</td>\n",
       "      <td>1-20 23:00</td>\n",
       "      <td>Final Fantasy V</td>\n",
       "      <td>20 23</td>\n",
       "    </tr>\n",
       "    <tr>\n",
       "      <th>3044</th>\n",
       "      <td>The Yetee</td>\n",
       "      <td>2024-01-20 22:59:43.122007</td>\n",
       "      <td>5000.0</td>\n",
       "      <td>Yes</td>\n",
       "      <td>22:00</td>\n",
       "      <td>20</td>\n",
       "      <td>1-20 22:00</td>\n",
       "      <td>Final Fantasy V</td>\n",
       "      <td>20 22</td>\n",
       "    </tr>\n",
       "    <tr>\n",
       "      <th>3345</th>\n",
       "      <td>The Yetee</td>\n",
       "      <td>2024-01-20 22:42:14.422390</td>\n",
       "      <td>10000.0</td>\n",
       "      <td>Yes</td>\n",
       "      <td>22:00</td>\n",
       "      <td>20</td>\n",
       "      <td>1-20 22:00</td>\n",
       "      <td>Final Fantasy V</td>\n",
       "      <td>20 22</td>\n",
       "    </tr>\n",
       "    <tr>\n",
       "      <th>3372</th>\n",
       "      <td>Games Done Quick</td>\n",
       "      <td>2024-01-20 22:39:56.000000</td>\n",
       "      <td>117906.0</td>\n",
       "      <td>Yes</td>\n",
       "      <td>22:00</td>\n",
       "      <td>20</td>\n",
       "      <td>1-20 22:00</td>\n",
       "      <td>Final Fantasy V</td>\n",
       "      <td>20 22</td>\n",
       "    </tr>\n",
       "    <tr>\n",
       "      <th>3827</th>\n",
       "      <td>The Yetee</td>\n",
       "      <td>2024-01-20 22:00:55.448196</td>\n",
       "      <td>10000.0</td>\n",
       "      <td>Yes</td>\n",
       "      <td>22:00</td>\n",
       "      <td>20</td>\n",
       "      <td>1-20 22:00</td>\n",
       "      <td>Final Fantasy V</td>\n",
       "      <td>20 22</td>\n",
       "    </tr>\n",
       "    <tr>\n",
       "      <th>4805</th>\n",
       "      <td>The Yetee</td>\n",
       "      <td>2024-01-20 21:03:29.047340</td>\n",
       "      <td>10000.0</td>\n",
       "      <td>Yes</td>\n",
       "      <td>21:00</td>\n",
       "      <td>20</td>\n",
       "      <td>1-20 21:00</td>\n",
       "      <td>Baldur's Gate 3</td>\n",
       "      <td>20 21</td>\n",
       "    </tr>\n",
       "    <tr>\n",
       "      <th>5160</th>\n",
       "      <td>UraniumAnchor</td>\n",
       "      <td>2024-01-20 20:28:19.000000</td>\n",
       "      <td>5000.0</td>\n",
       "      <td>Yes</td>\n",
       "      <td>20:00</td>\n",
       "      <td>20</td>\n",
       "      <td>1-20 20:00</td>\n",
       "      <td>Baldur's Gate 3</td>\n",
       "      <td>20 20</td>\n",
       "    </tr>\n",
       "    <tr>\n",
       "      <th>7216</th>\n",
       "      <td>(Anonymous)</td>\n",
       "      <td>2024-01-20 19:14:34.683542</td>\n",
       "      <td>6000.0</td>\n",
       "      <td>No</td>\n",
       "      <td>19:00</td>\n",
       "      <td>20</td>\n",
       "      <td>1-20 19:00</td>\n",
       "      <td>The Legend of Zelda: Tears of the Kingdom</td>\n",
       "      <td>20 19</td>\n",
       "    </tr>\n",
       "    <tr>\n",
       "      <th>7710</th>\n",
       "      <td>(Anonymous)</td>\n",
       "      <td>2024-01-20 19:01:08.299318</td>\n",
       "      <td>5000.0</td>\n",
       "      <td>Yes</td>\n",
       "      <td>19:00</td>\n",
       "      <td>20</td>\n",
       "      <td>1-20 19:00</td>\n",
       "      <td>The Legend of Zelda: Tears of the Kingdom</td>\n",
       "      <td>20 19</td>\n",
       "    </tr>\n",
       "    <tr>\n",
       "      <th>8488</th>\n",
       "      <td>The Yetee</td>\n",
       "      <td>2024-01-20 18:10:39.436748</td>\n",
       "      <td>7000.0</td>\n",
       "      <td>Yes</td>\n",
       "      <td>18:00</td>\n",
       "      <td>20</td>\n",
       "      <td>1-20 18:00</td>\n",
       "      <td>Lost Judgment</td>\n",
       "      <td>20 18</td>\n",
       "    </tr>\n",
       "    <tr>\n",
       "      <th>8496</th>\n",
       "      <td>Fangamer</td>\n",
       "      <td>2024-01-20 18:09:49.833165</td>\n",
       "      <td>10000.0</td>\n",
       "      <td>Yes</td>\n",
       "      <td>18:00</td>\n",
       "      <td>20</td>\n",
       "      <td>1-20 18:00</td>\n",
       "      <td>Lost Judgment</td>\n",
       "      <td>20 18</td>\n",
       "    </tr>\n",
       "    <tr>\n",
       "      <th>9622</th>\n",
       "      <td>Joe</td>\n",
       "      <td>2024-01-20 15:46:43.159498</td>\n",
       "      <td>5000.0</td>\n",
       "      <td>No</td>\n",
       "      <td>15:00</td>\n",
       "      <td>20</td>\n",
       "      <td>1-20 15:00</td>\n",
       "      <td>Lies of P</td>\n",
       "      <td>20 15</td>\n",
       "    </tr>\n",
       "    <tr>\n",
       "      <th>9802</th>\n",
       "      <td>The Yetee</td>\n",
       "      <td>2024-01-20 15:07:07.248812</td>\n",
       "      <td>10000.0</td>\n",
       "      <td>Yes</td>\n",
       "      <td>15:00</td>\n",
       "      <td>20</td>\n",
       "      <td>1-20 15:00</td>\n",
       "      <td>Lies of P</td>\n",
       "      <td>20 15</td>\n",
       "    </tr>\n",
       "    <tr>\n",
       "      <th>14896</th>\n",
       "      <td>Way Separator</td>\n",
       "      <td>2024-01-19 18:44:07.762471</td>\n",
       "      <td>6000.0</td>\n",
       "      <td>Yes</td>\n",
       "      <td>18:00</td>\n",
       "      <td>19</td>\n",
       "      <td>1-19 18:00</td>\n",
       "      <td>Resident Evil 4</td>\n",
       "      <td>19 18</td>\n",
       "    </tr>\n",
       "    <tr>\n",
       "      <th>15305</th>\n",
       "      <td>The Yetee</td>\n",
       "      <td>2024-01-19 16:55:04.965811</td>\n",
       "      <td>20000.0</td>\n",
       "      <td>Yes</td>\n",
       "      <td>16:00</td>\n",
       "      <td>19</td>\n",
       "      <td>1-19 16:00</td>\n",
       "      <td>Super Mario Bros. Wonder</td>\n",
       "      <td>19 16</td>\n",
       "    </tr>\n",
       "    <tr>\n",
       "      <th>15331</th>\n",
       "      <td>Fangamer</td>\n",
       "      <td>2024-01-19 16:49:18.511208</td>\n",
       "      <td>10000.0</td>\n",
       "      <td>Yes</td>\n",
       "      <td>16:00</td>\n",
       "      <td>19</td>\n",
       "      <td>1-19 16:00</td>\n",
       "      <td>Super Mario Bros. Wonder</td>\n",
       "      <td>19 16</td>\n",
       "    </tr>\n",
       "    <tr>\n",
       "      <th>15340</th>\n",
       "      <td>Dan Salvato</td>\n",
       "      <td>2024-01-19 16:47:26.908025</td>\n",
       "      <td>10000.0</td>\n",
       "      <td>Yes</td>\n",
       "      <td>16:00</td>\n",
       "      <td>19</td>\n",
       "      <td>1-19 16:00</td>\n",
       "      <td>Super Mario Bros. Wonder</td>\n",
       "      <td>19 16</td>\n",
       "    </tr>\n",
       "    <tr>\n",
       "      <th>17984</th>\n",
       "      <td>Humble Bundle</td>\n",
       "      <td>2024-01-18 22:19:27.000000</td>\n",
       "      <td>51578.0</td>\n",
       "      <td>Yes</td>\n",
       "      <td>22:00</td>\n",
       "      <td>18</td>\n",
       "      <td>1-18 22:00</td>\n",
       "      <td>Halo: Combat Evolved</td>\n",
       "      <td>18 22</td>\n",
       "    </tr>\n",
       "    <tr>\n",
       "      <th>19820</th>\n",
       "      <td>Fangamer</td>\n",
       "      <td>2024-01-18 17:05:47.506646</td>\n",
       "      <td>10000.0</td>\n",
       "      <td>Yes</td>\n",
       "      <td>17:00</td>\n",
       "      <td>18</td>\n",
       "      <td>1-18 17:00</td>\n",
       "      <td>Pokemon Diamond</td>\n",
       "      <td>18 17</td>\n",
       "    </tr>\n",
       "    <tr>\n",
       "      <th>20152</th>\n",
       "      <td>The Yetee</td>\n",
       "      <td>2024-01-18 16:36:11.040988</td>\n",
       "      <td>10000.0</td>\n",
       "      <td>Yes</td>\n",
       "      <td>16:00</td>\n",
       "      <td>18</td>\n",
       "      <td>1-18 16:00</td>\n",
       "      <td>Super Mario Sunshine</td>\n",
       "      <td>18 16</td>\n",
       "    </tr>\n",
       "    <tr>\n",
       "      <th>20895</th>\n",
       "      <td>The Yetee</td>\n",
       "      <td>2024-01-18 12:42:34.339607</td>\n",
       "      <td>10000.0</td>\n",
       "      <td>Yes</td>\n",
       "      <td>12:00</td>\n",
       "      <td>18</td>\n",
       "      <td>1-18 12:00</td>\n",
       "      <td>Celeste</td>\n",
       "      <td>18 12</td>\n",
       "    </tr>\n",
       "    <tr>\n",
       "      <th>23648</th>\n",
       "      <td>Fangamer</td>\n",
       "      <td>2024-01-17 19:06:47.178972</td>\n",
       "      <td>10000.0</td>\n",
       "      <td>Yes</td>\n",
       "      <td>19:00</td>\n",
       "      <td>17</td>\n",
       "      <td>1-17 19:00</td>\n",
       "      <td>The Legend of Zelda: Ocarina of Time</td>\n",
       "      <td>17 19</td>\n",
       "    </tr>\n",
       "    <tr>\n",
       "      <th>23703</th>\n",
       "      <td>(Anonymous)</td>\n",
       "      <td>2024-01-17 18:55:19.302920</td>\n",
       "      <td>10000.0</td>\n",
       "      <td>Yes</td>\n",
       "      <td>18:00</td>\n",
       "      <td>17</td>\n",
       "      <td>1-17 18:00</td>\n",
       "      <td>The Legend of Zelda: Ocarina of Time</td>\n",
       "      <td>17 18</td>\n",
       "    </tr>\n",
       "    <tr>\n",
       "      <th>24398</th>\n",
       "      <td>The Yetee</td>\n",
       "      <td>2024-01-17 16:02:34.325480</td>\n",
       "      <td>5000.0</td>\n",
       "      <td>Yes</td>\n",
       "      <td>16:00</td>\n",
       "      <td>17</td>\n",
       "      <td>1-17 16:00</td>\n",
       "      <td>Pokemon Crystal</td>\n",
       "      <td>17 16</td>\n",
       "    </tr>\n",
       "    <tr>\n",
       "      <th>24619</th>\n",
       "      <td>stump</td>\n",
       "      <td>2024-01-17 15:15:45.355607</td>\n",
       "      <td>5000.0</td>\n",
       "      <td>Yes</td>\n",
       "      <td>15:00</td>\n",
       "      <td>17</td>\n",
       "      <td>1-17 15:00</td>\n",
       "      <td>Pokemon Crystal</td>\n",
       "      <td>17 15</td>\n",
       "    </tr>\n",
       "    <tr>\n",
       "      <th>27194</th>\n",
       "      <td>The Yetee</td>\n",
       "      <td>2024-01-16 23:28:57.129790</td>\n",
       "      <td>5000.0</td>\n",
       "      <td>Yes</td>\n",
       "      <td>23:00</td>\n",
       "      <td>16</td>\n",
       "      <td>1-16 23:00</td>\n",
       "      <td>Bloodstained: Ritual of the Night</td>\n",
       "      <td>16 23</td>\n",
       "    </tr>\n",
       "    <tr>\n",
       "      <th>27426</th>\n",
       "      <td>The Yetee</td>\n",
       "      <td>2024-01-16 22:24:23.339039</td>\n",
       "      <td>10000.0</td>\n",
       "      <td>Yes</td>\n",
       "      <td>22:00</td>\n",
       "      <td>16</td>\n",
       "      <td>1-16 22:00</td>\n",
       "      <td>Hades</td>\n",
       "      <td>16 22</td>\n",
       "    </tr>\n",
       "    <tr>\n",
       "      <th>28011</th>\n",
       "      <td>Fangamer</td>\n",
       "      <td>2024-01-16 19:50:10.343200</td>\n",
       "      <td>10000.0</td>\n",
       "      <td>Yes</td>\n",
       "      <td>19:00</td>\n",
       "      <td>16</td>\n",
       "      <td>1-16 19:00</td>\n",
       "      <td>The Checkpoint Day 3 - Tuesday</td>\n",
       "      <td>16 19</td>\n",
       "    </tr>\n",
       "    <tr>\n",
       "      <th>28858</th>\n",
       "      <td>The Yetee</td>\n",
       "      <td>2024-01-16 13:42:30.214676</td>\n",
       "      <td>10000.0</td>\n",
       "      <td>Yes</td>\n",
       "      <td>13:00</td>\n",
       "      <td>16</td>\n",
       "      <td>1-16 13:00</td>\n",
       "      <td>Gyromite</td>\n",
       "      <td>16 13</td>\n",
       "    </tr>\n",
       "    <tr>\n",
       "      <th>30598</th>\n",
       "      <td>blinks</td>\n",
       "      <td>2024-01-15 23:25:08.879614</td>\n",
       "      <td>5000.0</td>\n",
       "      <td>Yes</td>\n",
       "      <td>23:00</td>\n",
       "      <td>15</td>\n",
       "      <td>1-15 23:00</td>\n",
       "      <td>Pikmin 4</td>\n",
       "      <td>15 23</td>\n",
       "    </tr>\n",
       "    <tr>\n",
       "      <th>32021</th>\n",
       "      <td>Fangamer</td>\n",
       "      <td>2024-01-15 17:04:37.955669</td>\n",
       "      <td>10000.0</td>\n",
       "      <td>Yes</td>\n",
       "      <td>17:00</td>\n",
       "      <td>15</td>\n",
       "      <td>1-15 17:00</td>\n",
       "      <td>Metroid Prime 2: Echoes</td>\n",
       "      <td>15 17</td>\n",
       "    </tr>\n",
       "  </tbody>\n",
       "</table>\n",
       "</div>"
      ],
      "text/plain": [
       "                   name                       time    amount comment   hour  \\\n",
       "0             The Yetee 2024-01-22 15:02:12.836533   16318.0     Yes  15:00   \n",
       "89            The Yetee 2024-01-21 01:03:13.117277    5000.0     Yes   1:00   \n",
       "1012           Fangamer 2024-01-21 00:31:16.586402    5000.0     Yes   0:00   \n",
       "2901        (Anonymous) 2024-01-20 23:11:20.081837    8500.0     Yes  23:00   \n",
       "2913           Fangamer 2024-01-20 23:10:57.483527    5000.0     Yes  23:00   \n",
       "3044          The Yetee 2024-01-20 22:59:43.122007    5000.0     Yes  22:00   \n",
       "3345          The Yetee 2024-01-20 22:42:14.422390   10000.0     Yes  22:00   \n",
       "3372   Games Done Quick 2024-01-20 22:39:56.000000  117906.0     Yes  22:00   \n",
       "3827          The Yetee 2024-01-20 22:00:55.448196   10000.0     Yes  22:00   \n",
       "4805          The Yetee 2024-01-20 21:03:29.047340   10000.0     Yes  21:00   \n",
       "5160      UraniumAnchor 2024-01-20 20:28:19.000000    5000.0     Yes  20:00   \n",
       "7216        (Anonymous) 2024-01-20 19:14:34.683542    6000.0      No  19:00   \n",
       "7710        (Anonymous) 2024-01-20 19:01:08.299318    5000.0     Yes  19:00   \n",
       "8488          The Yetee 2024-01-20 18:10:39.436748    7000.0     Yes  18:00   \n",
       "8496           Fangamer 2024-01-20 18:09:49.833165   10000.0     Yes  18:00   \n",
       "9622                Joe 2024-01-20 15:46:43.159498    5000.0      No  15:00   \n",
       "9802          The Yetee 2024-01-20 15:07:07.248812   10000.0     Yes  15:00   \n",
       "14896     Way Separator 2024-01-19 18:44:07.762471    6000.0     Yes  18:00   \n",
       "15305         The Yetee 2024-01-19 16:55:04.965811   20000.0     Yes  16:00   \n",
       "15331          Fangamer 2024-01-19 16:49:18.511208   10000.0     Yes  16:00   \n",
       "15340       Dan Salvato 2024-01-19 16:47:26.908025   10000.0     Yes  16:00   \n",
       "17984     Humble Bundle 2024-01-18 22:19:27.000000   51578.0     Yes  22:00   \n",
       "19820          Fangamer 2024-01-18 17:05:47.506646   10000.0     Yes  17:00   \n",
       "20152         The Yetee 2024-01-18 16:36:11.040988   10000.0     Yes  16:00   \n",
       "20895         The Yetee 2024-01-18 12:42:34.339607   10000.0     Yes  12:00   \n",
       "23648          Fangamer 2024-01-17 19:06:47.178972   10000.0     Yes  19:00   \n",
       "23703       (Anonymous) 2024-01-17 18:55:19.302920   10000.0     Yes  18:00   \n",
       "24398         The Yetee 2024-01-17 16:02:34.325480    5000.0     Yes  16:00   \n",
       "24619             stump 2024-01-17 15:15:45.355607    5000.0     Yes  15:00   \n",
       "27194         The Yetee 2024-01-16 23:28:57.129790    5000.0     Yes  23:00   \n",
       "27426         The Yetee 2024-01-16 22:24:23.339039   10000.0     Yes  22:00   \n",
       "28011          Fangamer 2024-01-16 19:50:10.343200   10000.0     Yes  19:00   \n",
       "28858         The Yetee 2024-01-16 13:42:30.214676   10000.0     Yes  13:00   \n",
       "30598            blinks 2024-01-15 23:25:08.879614    5000.0     Yes  23:00   \n",
       "32021          Fangamer 2024-01-15 17:04:37.955669   10000.0     Yes  17:00   \n",
       "\n",
       "       day    datetime                                        run dayhour  \n",
       "0       22  1-22 15:00                                        NaN   22 15  \n",
       "89      21  1-21 01:00                            Finale! The End    21 1  \n",
       "1012    21  1-21 00:00                            Final Fantasy V    21 0  \n",
       "2901    20  1-20 23:00                            Final Fantasy V   20 23  \n",
       "2913    20  1-20 23:00                            Final Fantasy V   20 23  \n",
       "3044    20  1-20 22:00                            Final Fantasy V   20 22  \n",
       "3345    20  1-20 22:00                            Final Fantasy V   20 22  \n",
       "3372    20  1-20 22:00                            Final Fantasy V   20 22  \n",
       "3827    20  1-20 22:00                            Final Fantasy V   20 22  \n",
       "4805    20  1-20 21:00                            Baldur's Gate 3   20 21  \n",
       "5160    20  1-20 20:00                            Baldur's Gate 3   20 20  \n",
       "7216    20  1-20 19:00  The Legend of Zelda: Tears of the Kingdom   20 19  \n",
       "7710    20  1-20 19:00  The Legend of Zelda: Tears of the Kingdom   20 19  \n",
       "8488    20  1-20 18:00                              Lost Judgment   20 18  \n",
       "8496    20  1-20 18:00                              Lost Judgment   20 18  \n",
       "9622    20  1-20 15:00                                  Lies of P   20 15  \n",
       "9802    20  1-20 15:00                                  Lies of P   20 15  \n",
       "14896   19  1-19 18:00                            Resident Evil 4   19 18  \n",
       "15305   19  1-19 16:00                   Super Mario Bros. Wonder   19 16  \n",
       "15331   19  1-19 16:00                   Super Mario Bros. Wonder   19 16  \n",
       "15340   19  1-19 16:00                   Super Mario Bros. Wonder   19 16  \n",
       "17984   18  1-18 22:00                       Halo: Combat Evolved   18 22  \n",
       "19820   18  1-18 17:00                            Pokemon Diamond   18 17  \n",
       "20152   18  1-18 16:00                       Super Mario Sunshine   18 16  \n",
       "20895   18  1-18 12:00                                    Celeste   18 12  \n",
       "23648   17  1-17 19:00       The Legend of Zelda: Ocarina of Time   17 19  \n",
       "23703   17  1-17 18:00       The Legend of Zelda: Ocarina of Time   17 18  \n",
       "24398   17  1-17 16:00                            Pokemon Crystal   17 16  \n",
       "24619   17  1-17 15:00                            Pokemon Crystal   17 15  \n",
       "27194   16  1-16 23:00          Bloodstained: Ritual of the Night   16 23  \n",
       "27426   16  1-16 22:00                                      Hades   16 22  \n",
       "28011   16  1-16 19:00             The Checkpoint Day 3 - Tuesday   16 19  \n",
       "28858   16  1-16 13:00                                   Gyromite   16 13  \n",
       "30598   15  1-15 23:00                                   Pikmin 4   15 23  \n",
       "32021   15  1-15 17:00                    Metroid Prime 2: Echoes   15 17  "
      ]
     },
     "execution_count": 19,
     "metadata": {},
     "output_type": "execute_result"
    }
   ],
   "source": [
    "dona.loc[dona['amount'] > 4999]"
   ]
  },
  {
   "cell_type": "code",
   "execution_count": 20,
   "id": "c4f3d477",
   "metadata": {},
   "outputs": [],
   "source": [
    "company_don = ['The Yetee','Fangamer','Humble Bundle','Games Done Quick']"
   ]
  },
  {
   "cell_type": "code",
   "execution_count": 21,
   "id": "ce2290ba",
   "metadata": {},
   "outputs": [],
   "source": [
    "dona_ppl = dona.loc[~dona.name.isin(company_don)]"
   ]
  },
  {
   "cell_type": "code",
   "execution_count": 22,
   "id": "250cd54d",
   "metadata": {},
   "outputs": [],
   "source": [
    "dona_ppl_day = dona_ppl.groupby(by = 'day')['amount'].sum().reset_index()"
   ]
  },
  {
   "cell_type": "code",
   "execution_count": 23,
   "id": "46651183",
   "metadata": {},
   "outputs": [
    {
     "data": {
      "text/plain": [
       "<Axes: xlabel='day'>"
      ]
     },
     "execution_count": 23,
     "metadata": {},
     "output_type": "execute_result"
    },
    {
     "data": {
      "image/png": "[encoded data removed]",
      "text/plain": [
       "<Figure size 640x480 with 1 Axes>"
      ]
     },
     "metadata": {},
     "output_type": "display_data"
    }
   ],
   "source": [
    "dona_ppl_day.plot.bar(x = 'day',y = 'amount')"
   ]
  },
  {
   "cell_type": "code",
   "execution_count": 24,
   "id": "a533d7a0",
   "metadata": {
    "scrolled": true
   },
   "outputs": [
    {
     "data": {
      "text/plain": [
       "<Axes: ylabel='Frequency'>"
      ]
     },
     "execution_count": 24,
     "metadata": {},
     "output_type": "execute_result"
    },
    {
     "data": {
      "image/png": "[encoded data removed]",
      "text/plain": [
       "<Figure size 640x480 with 1 Axes>"
      ]
     },
     "metadata": {},
     "output_type": "display_data"
    }
   ],
   "source": [
    "dona_ppl.loc[dona_ppl['day'] == 20].loc[dona_ppl['amount'] < 300]['amount'].plot.hist(bins=24)\n",
    "#.loc[dona_ppl['amount'] > 800]"
   ]
  },
  {
   "cell_type": "code",
   "execution_count": 25,
   "id": "0160e01b",
   "metadata": {},
   "outputs": [
    {
     "data": {
      "text/plain": [
       "amount\n",
       "50.00     3562\n",
       "25.00     2768\n",
       "100.00     852\n",
       "5.00       837\n",
       "10.00      611\n",
       "          ... \n",
       "128.00       1\n",
       "27.77        1\n",
       "68.00        1\n",
       "270.00       1\n",
       "20.01        1\n",
       "Name: count, Length: 188, dtype: int64"
      ]
     },
     "execution_count": 25,
     "metadata": {},
     "output_type": "execute_result"
    }
   ],
   "source": [
    "dona_ppl.loc[dona_ppl['day'] == 20].loc[dona_ppl['amount'] < 300]['amount'].value_counts()"
   ]
  },
  {
   "cell_type": "code",
   "execution_count": 26,
   "id": "3515faa0",
   "metadata": {},
   "outputs": [
    {
     "data": {
      "text/plain": [
       "15.386101173774252"
      ]
     },
     "execution_count": 26,
     "metadata": {},
     "output_type": "execute_result"
    }
   ],
   "source": [
    "dona.loc[dona['name'].isin(company_don)]['amount'].sum()/dona['amount'].sum() * 100"
   ]
  },
  {
   "cell_type": "code",
   "execution_count": 27,
   "id": "275951dd",
   "metadata": {},
   "outputs": [
    {
     "data": {
      "text/plain": [
       "20.65428945905191"
      ]
     },
     "execution_count": 27,
     "metadata": {},
     "output_type": "execute_result"
    }
   ],
   "source": [
    "dona.loc[dona['name'] == '(Anonymous)']['amount'].sum()/dona['amount'].sum() * 100"
   ]
  },
  {
   "cell_type": "code",
   "execution_count": 28,
   "id": "bb850d3c",
   "metadata": {},
   "outputs": [
    {
     "data": {
      "text/html": [
       "<div>\n",
       "<style scoped>\n",
       "    .dataframe tbody tr th:only-of-type {\n",
       "        vertical-align: middle;\n",
       "    }\n",
       "\n",
       "    .dataframe tbody tr th {\n",
       "        vertical-align: top;\n",
       "    }\n",
       "\n",
       "    .dataframe thead th {\n",
       "        text-align: right;\n",
       "    }\n",
       "</style>\n",
       "<table border=\"1\" class=\"dataframe\">\n",
       "  <thead>\n",
       "    <tr style=\"text-align: right;\">\n",
       "      <th></th>\n",
       "      <th>name</th>\n",
       "      <th>time</th>\n",
       "      <th>amount</th>\n",
       "      <th>comment</th>\n",
       "      <th>hour</th>\n",
       "      <th>day</th>\n",
       "      <th>datetime</th>\n",
       "      <th>run</th>\n",
       "      <th>dayhour</th>\n",
       "    </tr>\n",
       "  </thead>\n",
       "  <tbody>\n",
       "    <tr>\n",
       "      <th>4474</th>\n",
       "      <td>Lumineko</td>\n",
       "      <td>2024-01-20 21:40:11.314839</td>\n",
       "      <td>2024.0</td>\n",
       "      <td>Yes</td>\n",
       "      <td>21:00</td>\n",
       "      <td>20</td>\n",
       "      <td>1-20 21:00</td>\n",
       "      <td>Baldur's Gate 3</td>\n",
       "      <td>20 21</td>\n",
       "    </tr>\n",
       "  </tbody>\n",
       "</table>\n",
       "</div>"
      ],
      "text/plain": [
       "          name                       time  amount comment   hour  day  \\\n",
       "4474  Lumineko 2024-01-20 21:40:11.314839  2024.0     Yes  21:00   20   \n",
       "\n",
       "        datetime              run dayhour  \n",
       "4474  1-20 21:00  Baldur's Gate 3   20 21  "
      ]
     },
     "execution_count": 28,
     "metadata": {},
     "output_type": "execute_result"
    }
   ],
   "source": [
    "dona.loc[dona['name'] == 'Lumineko']"
   ]
  },
  {
   "cell_type": "code",
   "execution_count": 29,
   "id": "0174ebd2",
   "metadata": {},
   "outputs": [],
   "source": [
    "runs = pd.read_csv('data/ag2024runs_clean.csv')"
   ]
  },
  {
   "cell_type": "code",
   "execution_count": 30,
   "id": "696b33f0",
   "metadata": {},
   "outputs": [
    {
     "data": {
      "text/plain": [
       "amount\n",
       "50.00     11650\n",
       "25.00      9722\n",
       "5.00       3178\n",
       "10.00      2918\n",
       "100.00     2211\n",
       "          ...  \n",
       "118.17        1\n",
       "11.17         1\n",
       "32.50         1\n",
       "22.39         1\n",
       "276.44        1\n",
       "Name: count, Length: 683, dtype: int64"
      ]
     },
     "execution_count": 30,
     "metadata": {},
     "output_type": "execute_result"
    }
   ],
   "source": [
    "dona.amount.value_counts()"
   ]
  },
  {
   "cell_type": "code",
   "execution_count": 31,
   "id": "134e01ea",
   "metadata": {},
   "outputs": [],
   "source": [
    "common = [50, 25]"
   ]
  },
  {
   "cell_type": "code",
   "execution_count": 32,
   "id": "5ff7fcf0",
   "metadata": {},
   "outputs": [
    {
     "data": {
      "text/plain": [
       "<Axes: xlabel='day'>"
      ]
     },
     "execution_count": 32,
     "metadata": {},
     "output_type": "execute_result"
    },
    {
     "data": {
      "image/png": "[encoded data removed]",
      "text/plain": [
       "<Figure size 640x480 with 1 Axes>"
      ]
     },
     "metadata": {},
     "output_type": "display_data"
    }
   ],
   "source": [
    "(\n",
    "dona.loc[dona['amount'].isin(common)].groupby(by = 'day')['amount']\n",
    ".sum().reset_index().plot.bar(x='day',\n",
    "                              y='amount',\n",
    "                              )\n",
    "    \n",
    ")"
   ]
  },
  {
   "cell_type": "code",
   "execution_count": 33,
   "id": "bbd1c7e0",
   "metadata": {},
   "outputs": [],
   "source": [
    "runs.start = pd.to_datetime(runs.start)"
   ]
  },
  {
   "cell_type": "code",
   "execution_count": 34,
   "id": "b20aa76d",
   "metadata": {
    "scrolled": false
   },
   "outputs": [
    {
     "data": {
      "text/html": [
       "<div>\n",
       "<style scoped>\n",
       "    .dataframe tbody tr th:only-of-type {\n",
       "        vertical-align: middle;\n",
       "    }\n",
       "\n",
       "    .dataframe tbody tr th {\n",
       "        vertical-align: top;\n",
       "    }\n",
       "\n",
       "    .dataframe thead th {\n",
       "        text-align: right;\n",
       "    }\n",
       "</style>\n",
       "<table border=\"1\" class=\"dataframe\">\n",
       "  <thead>\n",
       "    <tr style=\"text-align: right;\">\n",
       "      <th></th>\n",
       "      <th>name</th>\n",
       "      <th>runners</th>\n",
       "      <th>hosts</th>\n",
       "      <th>commentators</th>\n",
       "      <th>desc</th>\n",
       "      <th>start</th>\n",
       "      <th>run_time</th>\n",
       "      <th>end</th>\n",
       "      <th>bids</th>\n",
       "      <th>game</th>\n",
       "      <th>run_total</th>\n",
       "      <th>time_block</th>\n",
       "      <th>total_perhour</th>\n",
       "      <th>sponsor_total</th>\n",
       "      <th>sponsor_pct</th>\n",
       "      <th>run</th>\n",
       "      <th>bid_donations</th>\n",
       "      <th>bid_pct</th>\n",
       "    </tr>\n",
       "  </thead>\n",
       "  <tbody>\n",
       "    <tr>\n",
       "      <th>140</th>\n",
       "      <td>Lost Judgment Kaito Files Any%</td>\n",
       "      <td>Froob</td>\n",
       "      <td>Bobby Blackwolf</td>\n",
       "      <td>DECosmic, Tapioca</td>\n",
       "      <td>NaN</td>\n",
       "      <td>2024-01-20 17:30:00</td>\n",
       "      <td>0 days 00:54:06</td>\n",
       "      <td>2024-01-20 18:55:00</td>\n",
       "      <td>Yes</td>\n",
       "      <td>Lost Judgment</td>\n",
       "      <td>91709.31</td>\n",
       "      <td>0 days 01:25:00</td>\n",
       "      <td>64735.98</td>\n",
       "      <td>20000.0</td>\n",
       "      <td>22.0</td>\n",
       "      <td>Lost Judgment</td>\n",
       "      <td>59271.43</td>\n",
       "      <td>65.0</td>\n",
       "    </tr>\n",
       "    <tr>\n",
       "      <th>141</th>\n",
       "      <td>The Legend of Zelda: Tears of the Kingdom Any%</td>\n",
       "      <td>gymnast86</td>\n",
       "      <td>Kungfufruitcup</td>\n",
       "      <td>NaN</td>\n",
       "      <td>NaN</td>\n",
       "      <td>2024-01-20 18:55:00</td>\n",
       "      <td>0 days 00:49:04</td>\n",
       "      <td>2024-01-20 20:17:00</td>\n",
       "      <td>No</td>\n",
       "      <td>The Legend of Zelda: Tears of the Kingdom</td>\n",
       "      <td>208072.98</td>\n",
       "      <td>0 days 01:22:00</td>\n",
       "      <td>152248.52</td>\n",
       "      <td>0.0</td>\n",
       "      <td>0.0</td>\n",
       "      <td>NaN</td>\n",
       "      <td>NaN</td>\n",
       "      <td>NaN</td>\n",
       "    </tr>\n",
       "    <tr>\n",
       "      <th>142</th>\n",
       "      <td>BONUS GAME 4- Baldur's Gate 3 All Acts</td>\n",
       "      <td>maeeeeee</td>\n",
       "      <td>Kungfufruitcup</td>\n",
       "      <td>Chronos, delph, tomatoangus</td>\n",
       "      <td>NaN</td>\n",
       "      <td>2024-01-20 20:17:00</td>\n",
       "      <td>0 days 00:33:21</td>\n",
       "      <td>2024-01-20 21:52:00</td>\n",
       "      <td>Yes</td>\n",
       "      <td>Baldur's Gate 3</td>\n",
       "      <td>120056.82</td>\n",
       "      <td>0 days 01:35:00</td>\n",
       "      <td>75825.36</td>\n",
       "      <td>12500.0</td>\n",
       "      <td>10.0</td>\n",
       "      <td>Baldur's Gate 3</td>\n",
       "      <td>359726.89</td>\n",
       "      <td>300.0</td>\n",
       "    </tr>\n",
       "    <tr>\n",
       "      <th>143</th>\n",
       "      <td>Final Fantasy V Pixel Remaster Any% Cutscene R...</td>\n",
       "      <td>Zic3</td>\n",
       "      <td>Prolix</td>\n",
       "      <td>FoxyJira, WoadyB</td>\n",
       "      <td>NaN</td>\n",
       "      <td>2024-01-20 21:52:00</td>\n",
       "      <td>0 days 02:50:00</td>\n",
       "      <td>2024-01-21 01:03:00</td>\n",
       "      <td>Yes</td>\n",
       "      <td>Final Fantasy V</td>\n",
       "      <td>309481.00</td>\n",
       "      <td>0 days 03:11:00</td>\n",
       "      <td>97219.16</td>\n",
       "      <td>35000.0</td>\n",
       "      <td>11.0</td>\n",
       "      <td>Final Fantasy V</td>\n",
       "      <td>49208.31</td>\n",
       "      <td>16.0</td>\n",
       "    </tr>\n",
       "  </tbody>\n",
       "</table>\n",
       "</div>"
      ],
      "text/plain": [
       "                                                  name    runners  \\\n",
       "140                     Lost Judgment Kaito Files Any%      Froob   \n",
       "141     The Legend of Zelda: Tears of the Kingdom Any%  gymnast86   \n",
       "142             BONUS GAME 4- Baldur's Gate 3 All Acts   maeeeeee   \n",
       "143  Final Fantasy V Pixel Remaster Any% Cutscene R...       Zic3   \n",
       "\n",
       "               hosts                 commentators  desc               start  \\\n",
       "140  Bobby Blackwolf            DECosmic, Tapioca   NaN 2024-01-20 17:30:00   \n",
       "141   Kungfufruitcup                          NaN   NaN 2024-01-20 18:55:00   \n",
       "142   Kungfufruitcup  Chronos, delph, tomatoangus   NaN 2024-01-20 20:17:00   \n",
       "143           Prolix             FoxyJira, WoadyB   NaN 2024-01-20 21:52:00   \n",
       "\n",
       "            run_time                  end bids  \\\n",
       "140  0 days 00:54:06  2024-01-20 18:55:00  Yes   \n",
       "141  0 days 00:49:04  2024-01-20 20:17:00   No   \n",
       "142  0 days 00:33:21  2024-01-20 21:52:00  Yes   \n",
       "143  0 days 02:50:00  2024-01-21 01:03:00  Yes   \n",
       "\n",
       "                                          game  run_total       time_block  \\\n",
       "140                              Lost Judgment   91709.31  0 days 01:25:00   \n",
       "141  The Legend of Zelda: Tears of the Kingdom  208072.98  0 days 01:22:00   \n",
       "142                            Baldur's Gate 3  120056.82  0 days 01:35:00   \n",
       "143                            Final Fantasy V  309481.00  0 days 03:11:00   \n",
       "\n",
       "     total_perhour  sponsor_total  sponsor_pct              run  \\\n",
       "140       64735.98        20000.0         22.0    Lost Judgment   \n",
       "141      152248.52            0.0          0.0              NaN   \n",
       "142       75825.36        12500.0         10.0  Baldur's Gate 3   \n",
       "143       97219.16        35000.0         11.0  Final Fantasy V   \n",
       "\n",
       "     bid_donations  bid_pct  \n",
       "140       59271.43     65.0  \n",
       "141            NaN      NaN  \n",
       "142      359726.89    300.0  \n",
       "143       49208.31     16.0  "
      ]
     },
     "execution_count": 34,
     "metadata": {},
     "output_type": "execute_result"
    }
   ],
   "source": [
    "runs.loc[runs['start'].dt.day ==20].loc[(runs['start'].dt.hour>16) & (runs['start'].dt.hour<22)]"
   ]
  },
  {
   "cell_type": "code",
   "execution_count": 35,
   "id": "7a1de305",
   "metadata": {},
   "outputs": [
    {
     "data": {
      "text/plain": [
       "<Axes: xlabel='dayhour'>"
      ]
     },
     "execution_count": 35,
     "metadata": {},
     "output_type": "execute_result"
    },
    {
     "data": {
      "image/png": "[encoded data removed]",
      "text/plain": [
       "<Figure size 640x480 with 1 Axes>"
      ]
     },
     "metadata": {},
     "output_type": "display_data"
    }
   ],
   "source": [
    "dona.loc[dona.day == 20].groupby('dayhour')['amount'].sum().reset_index().plot.bar(x = 'dayhour',\n",
    "                                                                                  y = 'amount')"
   ]
  },
  {
   "cell_type": "code",
   "execution_count": 36,
   "id": "ad515cef",
   "metadata": {
    "scrolled": false
   },
   "outputs": [
    {
     "data": {
      "text/plain": [
       "<Axes: xlabel='dayhour'>"
      ]
     },
     "execution_count": 36,
     "metadata": {},
     "output_type": "execute_result"
    },
    {
     "data": {
      "image/png": "[encoded data removed]",
      "text/plain": [
       "<Figure size 640x480 with 1 Axes>"
      ]
     },
     "metadata": {},
     "output_type": "display_data"
    }
   ],
   "source": [
    "dona_ppl.loc[dona.day == 20].groupby('dayhour')['amount'].sum().reset_index().plot.bar(x = 'dayhour',\n",
    "                                                                                       y = 'amount')\n"
   ]
  },
  {
   "cell_type": "code",
   "execution_count": 37,
   "id": "b33b8b1a",
   "metadata": {},
   "outputs": [],
   "source": [
    "dona_50 = dona.loc[dona['amount']==50]"
   ]
  },
  {
   "cell_type": "code",
   "execution_count": 38,
   "id": "7c5d14c1",
   "metadata": {
    "scrolled": false
   },
   "outputs": [
    {
     "data": {
      "text/plain": [
       "<Axes: xlabel='dayhour'>"
      ]
     },
     "execution_count": 38,
     "metadata": {},
     "output_type": "execute_result"
    },
    {
     "data": {
      "image/png": "[encoded data removed]",
      "text/plain": [
       "<Figure size 640x480 with 1 Axes>"
      ]
     },
     "metadata": {},
     "output_type": "display_data"
    }
   ],
   "source": [
    "dona_50.loc[dona_50['day']==20].groupby(by='dayhour')['amount'].sum().reset_index().plot.bar(x='dayhour',\n",
    "                                                                                            y='amount')"
   ]
  },
  {
   "cell_type": "code",
   "execution_count": 39,
   "id": "2730c598",
   "metadata": {
    "scrolled": false
   },
   "outputs": [
    {
     "data": {
      "text/plain": [
       "<Axes: xlabel='dayhour'>"
      ]
     },
     "execution_count": 39,
     "metadata": {},
     "output_type": "execute_result"
    },
    {
     "data": {
      "image/png": "[encoded data removed]",
      "text/plain": [
       "<Figure size 640x480 with 1 Axes>"
      ]
     },
     "metadata": {},
     "output_type": "display_data"
    }
   ],
   "source": [
    "dona_50.loc[dona_50['day']==21].groupby(by='dayhour')['amount'].sum().reset_index().plot.bar(x='dayhour',\n",
    "                                                                                            y='amount')"
   ]
  },
  {
   "cell_type": "code",
   "execution_count": 40,
   "id": "b27a540c",
   "metadata": {
    "scrolled": false
   },
   "outputs": [
    {
     "data": {
      "text/plain": [
       "<Axes: xlabel='dayhour'>"
      ]
     },
     "execution_count": 40,
     "metadata": {},
     "output_type": "execute_result"
    },
    {
     "data": {
      "image/png": "[encoded data removed]",
      "text/plain": [
       "<Figure size 640x480 with 1 Axes>"
      ]
     },
     "metadata": {},
     "output_type": "display_data"
    }
   ],
   "source": [
    "dona_ppl.loc[dona.day == 19].groupby('dayhour')['amount'].sum().reset_index().plot.bar(x = 'dayhour',\n",
    "                                                                                       y = 'amount')\n"
   ]
  },
  {
   "cell_type": "code",
   "execution_count": 41,
   "id": "01e8f7eb",
   "metadata": {
    "scrolled": false
   },
   "outputs": [
    {
     "data": {
      "text/plain": [
       "<Axes: ylabel='dayhour'>"
      ]
     },
     "execution_count": 41,
     "metadata": {},
     "output_type": "execute_result"
    },
    {
     "data": {
      "image/png": "[encoded data removed]",
      "text/plain": [
       "<Figure size 640x480 with 1 Axes>"
      ]
     },
     "metadata": {},
     "output_type": "display_data"
    }
   ],
   "source": [
    "(\n",
    "dona_50.groupby('dayhour')['amount'].sum().reset_index().sort_values('amount',ascending=False).head(15)\n",
    ".plot.barh(x='dayhour',y ='amount')\n",
    ")"
   ]
  },
  {
   "cell_type": "code",
   "execution_count": 42,
   "id": "fe2ff81c",
   "metadata": {
    "scrolled": false
   },
   "outputs": [
    {
     "data": {
      "text/html": [
       "<div>\n",
       "<style scoped>\n",
       "    .dataframe tbody tr th:only-of-type {\n",
       "        vertical-align: middle;\n",
       "    }\n",
       "\n",
       "    .dataframe tbody tr th {\n",
       "        vertical-align: top;\n",
       "    }\n",
       "\n",
       "    .dataframe thead th {\n",
       "        text-align: right;\n",
       "    }\n",
       "</style>\n",
       "<table border=\"1\" class=\"dataframe\">\n",
       "  <thead>\n",
       "    <tr style=\"text-align: right;\">\n",
       "      <th></th>\n",
       "      <th>name</th>\n",
       "      <th>runners</th>\n",
       "      <th>hosts</th>\n",
       "      <th>commentators</th>\n",
       "      <th>desc</th>\n",
       "      <th>start</th>\n",
       "      <th>run_time</th>\n",
       "      <th>end</th>\n",
       "      <th>bids</th>\n",
       "      <th>game</th>\n",
       "      <th>run_total</th>\n",
       "      <th>time_block</th>\n",
       "      <th>total_perhour</th>\n",
       "      <th>sponsor_total</th>\n",
       "      <th>sponsor_pct</th>\n",
       "      <th>run</th>\n",
       "      <th>bid_donations</th>\n",
       "      <th>bid_pct</th>\n",
       "    </tr>\n",
       "  </thead>\n",
       "  <tbody>\n",
       "    <tr>\n",
       "      <th>79</th>\n",
       "      <td>The Checkpoint Day 4 - Wednesday</td>\n",
       "      <td>Tech Crew</td>\n",
       "      <td>ateatree</td>\n",
       "      <td>NaN</td>\n",
       "      <td>NaN</td>\n",
       "      <td>2024-01-17 18:13:00</td>\n",
       "      <td>0 days 00:00:00</td>\n",
       "      <td>2024-01-17 18:39:00</td>\n",
       "      <td>No</td>\n",
       "      <td>The Checkpoint Day 4 - Wednesday</td>\n",
       "      <td>6191.00</td>\n",
       "      <td>0 days 00:26:00</td>\n",
       "      <td>14286.92</td>\n",
       "      <td>0.0</td>\n",
       "      <td>0.0</td>\n",
       "      <td>NaN</td>\n",
       "      <td>NaN</td>\n",
       "      <td>NaN</td>\n",
       "    </tr>\n",
       "    <tr>\n",
       "      <th>80</th>\n",
       "      <td>The Legend of Zelda: Ocarina of Time MST</td>\n",
       "      <td>SpitleSan</td>\n",
       "      <td>ateatree</td>\n",
       "      <td>thunder_oot</td>\n",
       "      <td>NaN</td>\n",
       "      <td>2024-01-17 18:39:00</td>\n",
       "      <td>0 days 02:01:23</td>\n",
       "      <td>2024-01-17 20:57:00</td>\n",
       "      <td>Yes</td>\n",
       "      <td>The Legend of Zelda: Ocarina of Time</td>\n",
       "      <td>42405.36</td>\n",
       "      <td>0 days 02:18:00</td>\n",
       "      <td>18437.11</td>\n",
       "      <td>10000.0</td>\n",
       "      <td>24.0</td>\n",
       "      <td>The Legend of Zelda: Ocarina of Time</td>\n",
       "      <td>3244.85</td>\n",
       "      <td>8.0</td>\n",
       "    </tr>\n",
       "    <tr>\n",
       "      <th>81</th>\n",
       "      <td>BONUS GAME 2- Super Mario 64 16 Star Drum%</td>\n",
       "      <td>CZR</td>\n",
       "      <td>ateatree</td>\n",
       "      <td>360Chrism, Thormundgandr</td>\n",
       "      <td>NaN</td>\n",
       "      <td>2024-01-17 20:57:00</td>\n",
       "      <td>0 days 00:23:06</td>\n",
       "      <td>2024-01-17 21:40:00</td>\n",
       "      <td>Yes</td>\n",
       "      <td>Super Mario 64</td>\n",
       "      <td>26125.06</td>\n",
       "      <td>0 days 00:43:00</td>\n",
       "      <td>36453.57</td>\n",
       "      <td>0.0</td>\n",
       "      <td>0.0</td>\n",
       "      <td>Super Mario 64</td>\n",
       "      <td>100179.47</td>\n",
       "      <td>383.0</td>\n",
       "    </tr>\n",
       "    <tr>\n",
       "      <th>82</th>\n",
       "      <td>TASBot presents Super Metroid Any% by Sniq</td>\n",
       "      <td>dwangoAC</td>\n",
       "      <td>iggyzig</td>\n",
       "      <td>DarkXoa, stump, TASBot</td>\n",
       "      <td>NaN</td>\n",
       "      <td>2024-01-17 21:40:00</td>\n",
       "      <td>0 days 00:35:59</td>\n",
       "      <td>2024-01-17 22:53:00</td>\n",
       "      <td>Yes</td>\n",
       "      <td>Super Metroid</td>\n",
       "      <td>44089.95</td>\n",
       "      <td>0 days 01:13:00</td>\n",
       "      <td>36238.32</td>\n",
       "      <td>0.0</td>\n",
       "      <td>0.0</td>\n",
       "      <td>Super Metroid</td>\n",
       "      <td>44110.71</td>\n",
       "      <td>100.0</td>\n",
       "    </tr>\n",
       "    <tr>\n",
       "      <th>83</th>\n",
       "      <td>DOOM (2016) 100% Nightmare</td>\n",
       "      <td>Raitro_</td>\n",
       "      <td>j0kerr</td>\n",
       "      <td>Bloodshot9001, Hugo Martin, Meta</td>\n",
       "      <td>NaN</td>\n",
       "      <td>2024-01-17 22:53:00</td>\n",
       "      <td>0 days 02:27:57</td>\n",
       "      <td>2024-01-18 01:41:00</td>\n",
       "      <td>No</td>\n",
       "      <td>DOOM</td>\n",
       "      <td>14608.98</td>\n",
       "      <td>0 days 02:48:00</td>\n",
       "      <td>5217.49</td>\n",
       "      <td>0.0</td>\n",
       "      <td>0.0</td>\n",
       "      <td>NaN</td>\n",
       "      <td>NaN</td>\n",
       "      <td>NaN</td>\n",
       "    </tr>\n",
       "  </tbody>\n",
       "</table>\n",
       "</div>"
      ],
      "text/plain": [
       "                                          name    runners     hosts  \\\n",
       "79            The Checkpoint Day 4 - Wednesday  Tech Crew  ateatree   \n",
       "80    The Legend of Zelda: Ocarina of Time MST  SpitleSan  ateatree   \n",
       "81  BONUS GAME 2- Super Mario 64 16 Star Drum%        CZR  ateatree   \n",
       "82  TASBot presents Super Metroid Any% by Sniq   dwangoAC   iggyzig   \n",
       "83                  DOOM (2016) 100% Nightmare    Raitro_    j0kerr   \n",
       "\n",
       "                        commentators  desc               start  \\\n",
       "79                               NaN   NaN 2024-01-17 18:13:00   \n",
       "80                       thunder_oot   NaN 2024-01-17 18:39:00   \n",
       "81          360Chrism, Thormundgandr   NaN 2024-01-17 20:57:00   \n",
       "82            DarkXoa, stump, TASBot   NaN 2024-01-17 21:40:00   \n",
       "83  Bloodshot9001, Hugo Martin, Meta   NaN 2024-01-17 22:53:00   \n",
       "\n",
       "           run_time                  end bids  \\\n",
       "79  0 days 00:00:00  2024-01-17 18:39:00   No   \n",
       "80  0 days 02:01:23  2024-01-17 20:57:00  Yes   \n",
       "81  0 days 00:23:06  2024-01-17 21:40:00  Yes   \n",
       "82  0 days 00:35:59  2024-01-17 22:53:00  Yes   \n",
       "83  0 days 02:27:57  2024-01-18 01:41:00   No   \n",
       "\n",
       "                                    game  run_total       time_block  \\\n",
       "79      The Checkpoint Day 4 - Wednesday    6191.00  0 days 00:26:00   \n",
       "80  The Legend of Zelda: Ocarina of Time   42405.36  0 days 02:18:00   \n",
       "81                        Super Mario 64   26125.06  0 days 00:43:00   \n",
       "82                         Super Metroid   44089.95  0 days 01:13:00   \n",
       "83                                  DOOM   14608.98  0 days 02:48:00   \n",
       "\n",
       "    total_perhour  sponsor_total  sponsor_pct  \\\n",
       "79       14286.92            0.0          0.0   \n",
       "80       18437.11        10000.0         24.0   \n",
       "81       36453.57            0.0          0.0   \n",
       "82       36238.32            0.0          0.0   \n",
       "83        5217.49            0.0          0.0   \n",
       "\n",
       "                                     run  bid_donations  bid_pct  \n",
       "79                                   NaN            NaN      NaN  \n",
       "80  The Legend of Zelda: Ocarina of Time        3244.85      8.0  \n",
       "81                        Super Mario 64      100179.47    383.0  \n",
       "82                         Super Metroid       44110.71    100.0  \n",
       "83                                   NaN            NaN      NaN  "
      ]
     },
     "execution_count": 42,
     "metadata": {},
     "output_type": "execute_result"
    }
   ],
   "source": [
    "runs.loc[runs['start'].dt.day ==17].loc[(runs['start'].dt.hour>17)]"
   ]
  },
  {
   "cell_type": "markdown",
   "id": "83de2e41",
   "metadata": {},
   "source": [
    "# Thoughts\n",
    "2.5 million dollars raised in 7 days January 14 to 20th\n",
    "\n",
    "15 % of money donated by sponsors\n",
    "    (Games Done Quick donated money from Labx, Humble, Annapurna Interactive, Larian studios\n",
    "21 % of money donated by anonymous donors\n",
    "64 % of money donated by other\n",
    "\n",
    "$50 was most common donation 11,600 donations\n",
    "2nd place was $25 donation 9,700 donations\n",
    "\n",
    "Most money was raised on Saturday the 20th\n",
    "Most of that was raised from 7 pm to midnight\n",
    "\n",
    "The games played Saturday 20th evening was:\n",
    "\n",
    "Tears of the Kingdom, \n",
    "Baldur's Gate 3, and \n",
    "Final Fantasy V Pixel Remaster\n",
    "\n",
    "New games in popular series / genres\n",
    "\n",
    "Wednesday 17th evening was:\n",
    "Mario 64\n",
    "Super Metroid\n",
    "\n",
    "Thursday 18th evening was:\n",
    "        Armored Core VI\n",
    "Super Mario Maker 2\n",
    "        Halo Combat Evolved\n",
    "        Bomb Rush Cyberfunk\n",
    "\n",
    "Friday 19th evening was:\n",
    "Resident Evil 4 (2023)\n",
    "Zelda Majoras Mask"
   ]
  },
  {
   "cell_type": "code",
   "execution_count": 43,
   "id": "24ad9036",
   "metadata": {},
   "outputs": [
    {
     "data": {
      "text/html": [
       "<div>\n",
       "<style scoped>\n",
       "    .dataframe tbody tr th:only-of-type {\n",
       "        vertical-align: middle;\n",
       "    }\n",
       "\n",
       "    .dataframe tbody tr th {\n",
       "        vertical-align: top;\n",
       "    }\n",
       "\n",
       "    .dataframe thead th {\n",
       "        text-align: right;\n",
       "    }\n",
       "</style>\n",
       "<table border=\"1\" class=\"dataframe\">\n",
       "  <thead>\n",
       "    <tr style=\"text-align: right;\">\n",
       "      <th></th>\n",
       "      <th>name</th>\n",
       "      <th>runners</th>\n",
       "      <th>hosts</th>\n",
       "      <th>commentators</th>\n",
       "      <th>desc</th>\n",
       "      <th>start</th>\n",
       "      <th>run_time</th>\n",
       "      <th>end</th>\n",
       "      <th>bids</th>\n",
       "      <th>game</th>\n",
       "      <th>run_total</th>\n",
       "      <th>time_block</th>\n",
       "      <th>total_perhour</th>\n",
       "      <th>sponsor_total</th>\n",
       "      <th>sponsor_pct</th>\n",
       "      <th>run</th>\n",
       "      <th>bid_donations</th>\n",
       "      <th>bid_pct</th>\n",
       "    </tr>\n",
       "  </thead>\n",
       "  <tbody>\n",
       "    <tr>\n",
       "      <th>142</th>\n",
       "      <td>BONUS GAME 4- Baldur's Gate 3 All Acts</td>\n",
       "      <td>maeeeeee</td>\n",
       "      <td>Kungfufruitcup</td>\n",
       "      <td>Chronos, delph, tomatoangus</td>\n",
       "      <td>NaN</td>\n",
       "      <td>2024-01-20 20:17:00</td>\n",
       "      <td>0 days 00:33:21</td>\n",
       "      <td>2024-01-20 21:52:00</td>\n",
       "      <td>Yes</td>\n",
       "      <td>Baldur's Gate 3</td>\n",
       "      <td>120056.82</td>\n",
       "      <td>0 days 01:35:00</td>\n",
       "      <td>75825.36</td>\n",
       "      <td>12500.0</td>\n",
       "      <td>10.0</td>\n",
       "      <td>Baldur's Gate 3</td>\n",
       "      <td>359726.89</td>\n",
       "      <td>300.0</td>\n",
       "    </tr>\n",
       "  </tbody>\n",
       "</table>\n",
       "</div>"
      ],
      "text/plain": [
       "                                       name   runners           hosts  \\\n",
       "142  BONUS GAME 4- Baldur's Gate 3 All Acts  maeeeeee  Kungfufruitcup   \n",
       "\n",
       "                    commentators  desc               start         run_time  \\\n",
       "142  Chronos, delph, tomatoangus   NaN 2024-01-20 20:17:00  0 days 00:33:21   \n",
       "\n",
       "                     end bids             game  run_total       time_block  \\\n",
       "142  2024-01-20 21:52:00  Yes  Baldur's Gate 3  120056.82  0 days 01:35:00   \n",
       "\n",
       "     total_perhour  sponsor_total  sponsor_pct              run  \\\n",
       "142       75825.36        12500.0         10.0  Baldur's Gate 3   \n",
       "\n",
       "     bid_donations  bid_pct  \n",
       "142      359726.89    300.0  "
      ]
     },
     "execution_count": 43,
     "metadata": {},
     "output_type": "execute_result"
    }
   ],
   "source": [
    "runs.loc[runs['name'].str.contains('Baldur')]"
   ]
  },
  {
   "cell_type": "code",
   "execution_count": 44,
   "id": "9e6b6b3d",
   "metadata": {},
   "outputs": [],
   "source": [
    "bids = pd.read_csv('data/ag2024bids_clean.csv')"
   ]
  },
  {
   "cell_type": "code",
   "execution_count": 45,
   "id": "24f8e592",
   "metadata": {},
   "outputs": [
    {
     "data": {
      "text/html": [
       "<div>\n",
       "<style scoped>\n",
       "    .dataframe tbody tr th:only-of-type {\n",
       "        vertical-align: middle;\n",
       "    }\n",
       "\n",
       "    .dataframe tbody tr th {\n",
       "        vertical-align: top;\n",
       "    }\n",
       "\n",
       "    .dataframe thead th {\n",
       "        text-align: right;\n",
       "    }\n",
       "</style>\n",
       "<table border=\"1\" class=\"dataframe\">\n",
       "  <thead>\n",
       "    <tr style=\"text-align: right;\">\n",
       "      <th></th>\n",
       "      <th>name</th>\n",
       "      <th>run</th>\n",
       "      <th>desc</th>\n",
       "      <th>amount</th>\n",
       "      <th>goal</th>\n",
       "    </tr>\n",
       "  </thead>\n",
       "  <tbody>\n",
       "    <tr>\n",
       "      <th>49</th>\n",
       "      <td>Super Mario 64 Drum%</td>\n",
       "      <td>Super Mario 64</td>\n",
       "      <td>Add a 16 Star Drum% run of Super Mario 64 to t...</td>\n",
       "      <td>100179.47</td>\n",
       "      <td>100000.0</td>\n",
       "    </tr>\n",
       "    <tr>\n",
       "      <th>64</th>\n",
       "      <td>Upgrade to Legendary</td>\n",
       "      <td>Halo: Combat Evolved</td>\n",
       "      <td>Upgrade the difficulty of the Halo: Combat Evo...</td>\n",
       "      <td>118685.23</td>\n",
       "      <td>117000.0</td>\n",
       "    </tr>\n",
       "    <tr>\n",
       "      <th>72</th>\n",
       "      <td>Resident Evil 4 Remake: Separate Ways</td>\n",
       "      <td>Resident Evil 4 Separate Ways</td>\n",
       "      <td>Add a New Game Professional run of Resident Ev...</td>\n",
       "      <td>161059.45</td>\n",
       "      <td>160000.0</td>\n",
       "    </tr>\n",
       "    <tr>\n",
       "      <th>82</th>\n",
       "      <td>Boss Gauntlet</td>\n",
       "      <td>Lost Judgment</td>\n",
       "      <td>As part of The Gauntlet DLC for Lost Judgment ...</td>\n",
       "      <td>8149.40</td>\n",
       "      <td>120000.0</td>\n",
       "    </tr>\n",
       "    <tr>\n",
       "      <th>84</th>\n",
       "      <td>Baldur's Gate 3 All Acts</td>\n",
       "      <td>Baldur's Gate 3</td>\n",
       "      <td>Add an All Acts run of Baldur's Gate 3 to the ...</td>\n",
       "      <td>251269.82</td>\n",
       "      <td>250000.0</td>\n",
       "    </tr>\n",
       "    <tr>\n",
       "      <th>86</th>\n",
       "      <td>Developer Room Showcase</td>\n",
       "      <td>Baldur's Gate 3</td>\n",
       "      <td>If met, mae will break into two secret dev roo...</td>\n",
       "      <td>101339.07</td>\n",
       "      <td>100000.0</td>\n",
       "    </tr>\n",
       "  </tbody>\n",
       "</table>\n",
       "</div>"
      ],
      "text/plain": [
       "                                     name                            run  \\\n",
       "49                   Super Mario 64 Drum%                 Super Mario 64   \n",
       "64                   Upgrade to Legendary           Halo: Combat Evolved   \n",
       "72  Resident Evil 4 Remake: Separate Ways  Resident Evil 4 Separate Ways   \n",
       "82                          Boss Gauntlet                  Lost Judgment   \n",
       "84               Baldur's Gate 3 All Acts                Baldur's Gate 3   \n",
       "86                Developer Room Showcase                Baldur's Gate 3   \n",
       "\n",
       "                                                 desc     amount      goal  \n",
       "49  Add a 16 Star Drum% run of Super Mario 64 to t...  100179.47  100000.0  \n",
       "64  Upgrade the difficulty of the Halo: Combat Evo...  118685.23  117000.0  \n",
       "72  Add a New Game Professional run of Resident Ev...  161059.45  160000.0  \n",
       "82  As part of The Gauntlet DLC for Lost Judgment ...    8149.40  120000.0  \n",
       "84  Add an All Acts run of Baldur's Gate 3 to the ...  251269.82  250000.0  \n",
       "86  If met, mae will break into two secret dev roo...  101339.07  100000.0  "
      ]
     },
     "execution_count": 45,
     "metadata": {},
     "output_type": "execute_result"
    }
   ],
   "source": [
    "bids.loc[bids.goal > 50000]"
   ]
  },
  {
   "cell_type": "code",
   "execution_count": 46,
   "id": "79823f32",
   "metadata": {},
   "outputs": [
    {
     "data": {
      "text/html": [
       "<div>\n",
       "<style scoped>\n",
       "    .dataframe tbody tr th:only-of-type {\n",
       "        vertical-align: middle;\n",
       "    }\n",
       "\n",
       "    .dataframe tbody tr th {\n",
       "        vertical-align: top;\n",
       "    }\n",
       "\n",
       "    .dataframe thead th {\n",
       "        text-align: right;\n",
       "    }\n",
       "</style>\n",
       "<table border=\"1\" class=\"dataframe\">\n",
       "  <thead>\n",
       "    <tr style=\"text-align: right;\">\n",
       "      <th></th>\n",
       "      <th>name</th>\n",
       "      <th>run</th>\n",
       "      <th>desc</th>\n",
       "      <th>amount</th>\n",
       "      <th>goal</th>\n",
       "    </tr>\n",
       "  </thead>\n",
       "  <tbody>\n",
       "    <tr>\n",
       "      <th>49</th>\n",
       "      <td>Super Mario 64 Drum%</td>\n",
       "      <td>Super Mario 64</td>\n",
       "      <td>Add a 16 Star Drum% run of Super Mario 64 to t...</td>\n",
       "      <td>100179.47</td>\n",
       "      <td>100000.0</td>\n",
       "    </tr>\n",
       "    <tr>\n",
       "      <th>64</th>\n",
       "      <td>Upgrade to Legendary</td>\n",
       "      <td>Halo: Combat Evolved</td>\n",
       "      <td>Upgrade the difficulty of the Halo: Combat Evo...</td>\n",
       "      <td>118685.23</td>\n",
       "      <td>117000.0</td>\n",
       "    </tr>\n",
       "    <tr>\n",
       "      <th>72</th>\n",
       "      <td>Resident Evil 4 Remake: Separate Ways</td>\n",
       "      <td>Resident Evil 4 Separate Ways</td>\n",
       "      <td>Add a New Game Professional run of Resident Ev...</td>\n",
       "      <td>161059.45</td>\n",
       "      <td>160000.0</td>\n",
       "    </tr>\n",
       "    <tr>\n",
       "      <th>84</th>\n",
       "      <td>Baldur's Gate 3 All Acts</td>\n",
       "      <td>Baldur's Gate 3</td>\n",
       "      <td>Add an All Acts run of Baldur's Gate 3 to the ...</td>\n",
       "      <td>251269.82</td>\n",
       "      <td>250000.0</td>\n",
       "    </tr>\n",
       "    <tr>\n",
       "      <th>86</th>\n",
       "      <td>Developer Room Showcase</td>\n",
       "      <td>Baldur's Gate 3</td>\n",
       "      <td>If met, mae will break into two secret dev roo...</td>\n",
       "      <td>101339.07</td>\n",
       "      <td>100000.0</td>\n",
       "    </tr>\n",
       "  </tbody>\n",
       "</table>\n",
       "</div>"
      ],
      "text/plain": [
       "                                     name                            run  \\\n",
       "49                   Super Mario 64 Drum%                 Super Mario 64   \n",
       "64                   Upgrade to Legendary           Halo: Combat Evolved   \n",
       "72  Resident Evil 4 Remake: Separate Ways  Resident Evil 4 Separate Ways   \n",
       "84               Baldur's Gate 3 All Acts                Baldur's Gate 3   \n",
       "86                Developer Room Showcase                Baldur's Gate 3   \n",
       "\n",
       "                                                 desc     amount      goal  \n",
       "49  Add a 16 Star Drum% run of Super Mario 64 to t...  100179.47  100000.0  \n",
       "64  Upgrade the difficulty of the Halo: Combat Evo...  118685.23  117000.0  \n",
       "72  Add a New Game Professional run of Resident Ev...  161059.45  160000.0  \n",
       "84  Add an All Acts run of Baldur's Gate 3 to the ...  251269.82  250000.0  \n",
       "86  If met, mae will break into two secret dev roo...  101339.07  100000.0  "
      ]
     },
     "execution_count": 46,
     "metadata": {},
     "output_type": "execute_result"
    }
   ],
   "source": [
    "bids.loc[bids.amount > 100000]"
   ]
  },
  {
   "cell_type": "code",
   "execution_count": 47,
   "id": "9d3b2c1c",
   "metadata": {
    "scrolled": false
   },
   "outputs": [
    {
     "data": {
      "text/plain": [
       "<Axes: ylabel='dayhour'>"
      ]
     },
     "execution_count": 47,
     "metadata": {},
     "output_type": "execute_result"
    },
    {
     "data": {
      "image/png": "[encoded data removed]",
      "text/plain": [
       "<Figure size 640x480 with 1 Axes>"
      ]
     },
     "metadata": {},
     "output_type": "display_data"
    }
   ],
   "source": [
    "(\n",
    "dona_50.groupby('dayhour')['amount'].sum().reset_index().sort_values('amount',ascending=False).head(15)\n",
    ".plot.barh(x='dayhour',y ='amount')\n",
    ")"
   ]
  },
  {
   "cell_type": "code",
   "execution_count": 48,
   "id": "80680c9c",
   "metadata": {
    "scrolled": false
   },
   "outputs": [
    {
     "data": {
      "text/html": [
       "<div>\n",
       "<style scoped>\n",
       "    .dataframe tbody tr th:only-of-type {\n",
       "        vertical-align: middle;\n",
       "    }\n",
       "\n",
       "    .dataframe tbody tr th {\n",
       "        vertical-align: top;\n",
       "    }\n",
       "\n",
       "    .dataframe thead th {\n",
       "        text-align: right;\n",
       "    }\n",
       "</style>\n",
       "<table border=\"1\" class=\"dataframe\">\n",
       "  <thead>\n",
       "    <tr style=\"text-align: right;\">\n",
       "      <th></th>\n",
       "      <th>name</th>\n",
       "      <th>runners</th>\n",
       "      <th>hosts</th>\n",
       "      <th>commentators</th>\n",
       "      <th>desc</th>\n",
       "      <th>start</th>\n",
       "      <th>run_time</th>\n",
       "      <th>end</th>\n",
       "      <th>bids</th>\n",
       "      <th>game</th>\n",
       "      <th>run_total</th>\n",
       "      <th>time_block</th>\n",
       "      <th>total_perhour</th>\n",
       "      <th>sponsor_total</th>\n",
       "      <th>sponsor_pct</th>\n",
       "      <th>run</th>\n",
       "      <th>bid_donations</th>\n",
       "      <th>bid_pct</th>\n",
       "    </tr>\n",
       "  </thead>\n",
       "  <tbody>\n",
       "    <tr>\n",
       "      <th>103</th>\n",
       "      <td>The Checkpoint Day 5 - Thursday</td>\n",
       "      <td>Tech Crew</td>\n",
       "      <td>Mr. Game and Shout</td>\n",
       "      <td>NaN</td>\n",
       "      <td>NaN</td>\n",
       "      <td>2024-01-18 18:17:00</td>\n",
       "      <td>0 days 00:00:00</td>\n",
       "      <td>2024-01-18 18:45:00</td>\n",
       "      <td>No</td>\n",
       "      <td>The Checkpoint Day 5 - Thursday</td>\n",
       "      <td>6017.20</td>\n",
       "      <td>0 days 00:28:00</td>\n",
       "      <td>12894.00</td>\n",
       "      <td>0.0</td>\n",
       "      <td>0.0</td>\n",
       "      <td>NaN</td>\n",
       "      <td>NaN</td>\n",
       "      <td>NaN</td>\n",
       "    </tr>\n",
       "    <tr>\n",
       "      <th>104</th>\n",
       "      <td>Armored Core VI: Fires of Rubicon NG+ Any% Tru...</td>\n",
       "      <td>Raine_BT</td>\n",
       "      <td>Mr. Game and Shout</td>\n",
       "      <td>Cardinal, Edgecase, pmcTrilogy, RebelKnight3000</td>\n",
       "      <td>NaN</td>\n",
       "      <td>2024-01-18 18:45:00</td>\n",
       "      <td>0 days 01:33:19</td>\n",
       "      <td>2024-01-18 21:15:00</td>\n",
       "      <td>No</td>\n",
       "      <td>Armored Core VI: Fires of Rubicon</td>\n",
       "      <td>38846.51</td>\n",
       "      <td>0 days 02:30:00</td>\n",
       "      <td>15538.60</td>\n",
       "      <td>0.0</td>\n",
       "      <td>0.0</td>\n",
       "      <td>NaN</td>\n",
       "      <td>NaN</td>\n",
       "      <td>NaN</td>\n",
       "    </tr>\n",
       "    <tr>\n",
       "      <th>105</th>\n",
       "      <td>Super Mario Maker 2 Glitch Showcase</td>\n",
       "      <td>CarlSagan42</td>\n",
       "      <td>Brutal_Melo</td>\n",
       "      <td>jneen, Marble</td>\n",
       "      <td>NaN</td>\n",
       "      <td>2024-01-18 21:15:00</td>\n",
       "      <td>0 days 00:36:48</td>\n",
       "      <td>2024-01-18 22:08:00</td>\n",
       "      <td>No</td>\n",
       "      <td>Super Mario Maker 2</td>\n",
       "      <td>39626.92</td>\n",
       "      <td>0 days 00:53:00</td>\n",
       "      <td>44860.66</td>\n",
       "      <td>0.0</td>\n",
       "      <td>0.0</td>\n",
       "      <td>NaN</td>\n",
       "      <td>NaN</td>\n",
       "      <td>NaN</td>\n",
       "    </tr>\n",
       "    <tr>\n",
       "      <th>106</th>\n",
       "      <td>Halo: Combat Evolved Coop Easy</td>\n",
       "      <td>Helpless, NervyDestroyer</td>\n",
       "      <td>Brutal_Melo</td>\n",
       "      <td>bryonato, Chronos</td>\n",
       "      <td>NaN</td>\n",
       "      <td>2024-01-18 22:08:00</td>\n",
       "      <td>0 days 01:06:26</td>\n",
       "      <td>2024-01-18 23:42:00</td>\n",
       "      <td>Yes</td>\n",
       "      <td>Halo: Combat Evolved</td>\n",
       "      <td>21111.22</td>\n",
       "      <td>0 days 01:34:00</td>\n",
       "      <td>13475.25</td>\n",
       "      <td>0.0</td>\n",
       "      <td>0.0</td>\n",
       "      <td>Halo: Combat Evolved</td>\n",
       "      <td>118685.23</td>\n",
       "      <td>562.0</td>\n",
       "    </tr>\n",
       "    <tr>\n",
       "      <th>107</th>\n",
       "      <td>Bomb Rush Cyberfunk Any%</td>\n",
       "      <td>Storied</td>\n",
       "      <td>Bobby Blackwolf</td>\n",
       "      <td>bryonato, Helix, shovelclaws</td>\n",
       "      <td>NaN</td>\n",
       "      <td>2024-01-18 23:42:00</td>\n",
       "      <td>0 days 00:56:59</td>\n",
       "      <td>2024-01-19 01:01:00</td>\n",
       "      <td>No</td>\n",
       "      <td>Bomb Rush Cyberfunk</td>\n",
       "      <td>10453.37</td>\n",
       "      <td>0 days 01:19:00</td>\n",
       "      <td>7939.27</td>\n",
       "      <td>0.0</td>\n",
       "      <td>0.0</td>\n",
       "      <td>NaN</td>\n",
       "      <td>NaN</td>\n",
       "      <td>NaN</td>\n",
       "    </tr>\n",
       "  </tbody>\n",
       "</table>\n",
       "</div>"
      ],
      "text/plain": [
       "                                                  name  \\\n",
       "103                    The Checkpoint Day 5 - Thursday   \n",
       "104  Armored Core VI: Fires of Rubicon NG+ Any% Tru...   \n",
       "105                Super Mario Maker 2 Glitch Showcase   \n",
       "106                     Halo: Combat Evolved Coop Easy   \n",
       "107                           Bomb Rush Cyberfunk Any%   \n",
       "\n",
       "                      runners               hosts  \\\n",
       "103                 Tech Crew  Mr. Game and Shout   \n",
       "104                  Raine_BT  Mr. Game and Shout   \n",
       "105               CarlSagan42         Brutal_Melo   \n",
       "106  Helpless, NervyDestroyer         Brutal_Melo   \n",
       "107                   Storied     Bobby Blackwolf   \n",
       "\n",
       "                                        commentators  desc  \\\n",
       "103                                              NaN   NaN   \n",
       "104  Cardinal, Edgecase, pmcTrilogy, RebelKnight3000   NaN   \n",
       "105                                    jneen, Marble   NaN   \n",
       "106                                bryonato, Chronos   NaN   \n",
       "107                     bryonato, Helix, shovelclaws   NaN   \n",
       "\n",
       "                  start         run_time                  end bids  \\\n",
       "103 2024-01-18 18:17:00  0 days 00:00:00  2024-01-18 18:45:00   No   \n",
       "104 2024-01-18 18:45:00  0 days 01:33:19  2024-01-18 21:15:00   No   \n",
       "105 2024-01-18 21:15:00  0 days 00:36:48  2024-01-18 22:08:00   No   \n",
       "106 2024-01-18 22:08:00  0 days 01:06:26  2024-01-18 23:42:00  Yes   \n",
       "107 2024-01-18 23:42:00  0 days 00:56:59  2024-01-19 01:01:00   No   \n",
       "\n",
       "                                  game  run_total       time_block  \\\n",
       "103    The Checkpoint Day 5 - Thursday    6017.20  0 days 00:28:00   \n",
       "104  Armored Core VI: Fires of Rubicon   38846.51  0 days 02:30:00   \n",
       "105                Super Mario Maker 2   39626.92  0 days 00:53:00   \n",
       "106               Halo: Combat Evolved   21111.22  0 days 01:34:00   \n",
       "107                Bomb Rush Cyberfunk   10453.37  0 days 01:19:00   \n",
       "\n",
       "     total_perhour  sponsor_total  sponsor_pct                   run  \\\n",
       "103       12894.00            0.0          0.0                   NaN   \n",
       "104       15538.60            0.0          0.0                   NaN   \n",
       "105       44860.66            0.0          0.0                   NaN   \n",
       "106       13475.25            0.0          0.0  Halo: Combat Evolved   \n",
       "107        7939.27            0.0          0.0                   NaN   \n",
       "\n",
       "     bid_donations  bid_pct  \n",
       "103            NaN      NaN  \n",
       "104            NaN      NaN  \n",
       "105            NaN      NaN  \n",
       "106      118685.23    562.0  \n",
       "107            NaN      NaN  "
      ]
     },
     "execution_count": 48,
     "metadata": {},
     "output_type": "execute_result"
    }
   ],
   "source": [
    "runs.loc[runs['start'].dt.day ==18].loc[(runs['start'].dt.hour>16)]"
   ]
  },
  {
   "cell_type": "markdown",
   "id": "e5da3577",
   "metadata": {},
   "source": [
    "# Thoughts\n",
    "Bids add interest to the donations\n",
    "Five bids over 100K\n",
    "\n",
    "Baldur's Gate 3, Resident Evil 4, and Halo Combat evolved (high donation games) had bids over 100K\n",
    "\n",
    "One for BG 3 was over 250K\n",
    "\n",
    "Mario 64 (a historic game with a long history of speedruns) had a bid over 100K to play on a drumset\n",
    "\n",
    "Find the year of release and metacritic score of:\n",
    "\n",
    "Mario 64 -- 17th 21\n",
    "\n",
    "Super Metroid -- 17th 22\n",
    "\n",
    "Mario Maker 2 -- 18th 21\n",
    "\n",
    "Halo Combat Evolved -- 18th 22\n",
    "\n",
    "Resident Evil 4 (2023) -- 19th 20 and 21\n",
    "\n",
    "Majoras Mask -- 19th 22\n",
    "\n",
    "Tears of Kingdom -- 20th 19\n",
    "\n",
    "Baldurs Gate -- 20th 20 and 21\n",
    "\n",
    "Final Fantasy V Remaster -- 20th 22 and 23, 21st 0\n",
    "\n",
    "Some of the best hours for donations were 9:00 PM and 10:00 PM of Wednesday to Saturday\n",
    "\n",
    "Three event Milestones\n",
    "\n",
    "RE 4 at 1.25 M\n",
    "\n",
    "Baldur Gate 3 at 2 M\n",
    "\n",
    "Final Fantasy at 2.5 M"
   ]
  },
  {
   "cell_type": "code",
   "execution_count": 49,
   "id": "120745e1",
   "metadata": {},
   "outputs": [
    {
     "data": {
      "text/html": [
       "<div>\n",
       "<style scoped>\n",
       "    .dataframe tbody tr th:only-of-type {\n",
       "        vertical-align: middle;\n",
       "    }\n",
       "\n",
       "    .dataframe tbody tr th {\n",
       "        vertical-align: top;\n",
       "    }\n",
       "\n",
       "    .dataframe thead th {\n",
       "        text-align: right;\n",
       "    }\n",
       "</style>\n",
       "<table border=\"1\" class=\"dataframe\">\n",
       "  <thead>\n",
       "    <tr style=\"text-align: right;\">\n",
       "      <th></th>\n",
       "      <th>dayhour</th>\n",
       "      <th>game</th>\n",
       "    </tr>\n",
       "  </thead>\n",
       "  <tbody>\n",
       "    <tr>\n",
       "      <th>0</th>\n",
       "      <td>17.21</td>\n",
       "      <td>Super Mario 64</td>\n",
       "    </tr>\n",
       "    <tr>\n",
       "      <th>1</th>\n",
       "      <td>17.22</td>\n",
       "      <td>Super Metroid</td>\n",
       "    </tr>\n",
       "    <tr>\n",
       "      <th>2</th>\n",
       "      <td>18.21</td>\n",
       "      <td>Super Mario Maker 2</td>\n",
       "    </tr>\n",
       "    <tr>\n",
       "      <th>3</th>\n",
       "      <td>18.22</td>\n",
       "      <td>Halo Combat Evolved</td>\n",
       "    </tr>\n",
       "    <tr>\n",
       "      <th>4</th>\n",
       "      <td>19.20</td>\n",
       "      <td>Resident Evil 4</td>\n",
       "    </tr>\n",
       "    <tr>\n",
       "      <th>5</th>\n",
       "      <td>19.21</td>\n",
       "      <td>Resident Evil 4</td>\n",
       "    </tr>\n",
       "    <tr>\n",
       "      <th>6</th>\n",
       "      <td>19.22</td>\n",
       "      <td>The Legend of Zelda Majora's Mask</td>\n",
       "    </tr>\n",
       "    <tr>\n",
       "      <th>7</th>\n",
       "      <td>20.19</td>\n",
       "      <td>The Legend of Zelda Tears of the Kingdom</td>\n",
       "    </tr>\n",
       "    <tr>\n",
       "      <th>8</th>\n",
       "      <td>20.20</td>\n",
       "      <td>Baldur's Gate 3</td>\n",
       "    </tr>\n",
       "    <tr>\n",
       "      <th>9</th>\n",
       "      <td>20.21</td>\n",
       "      <td>Baldur's Gate 3</td>\n",
       "    </tr>\n",
       "    <tr>\n",
       "      <th>10</th>\n",
       "      <td>20.22</td>\n",
       "      <td>Final Fantasy V</td>\n",
       "    </tr>\n",
       "    <tr>\n",
       "      <th>11</th>\n",
       "      <td>20.23</td>\n",
       "      <td>Final Fantasy V</td>\n",
       "    </tr>\n",
       "    <tr>\n",
       "      <th>12</th>\n",
       "      <td>21.00</td>\n",
       "      <td>Final Fantasy V</td>\n",
       "    </tr>\n",
       "  </tbody>\n",
       "</table>\n",
       "</div>"
      ],
      "text/plain": [
       "    dayhour                                      game\n",
       "0     17.21                            Super Mario 64\n",
       "1     17.22                             Super Metroid\n",
       "2     18.21                       Super Mario Maker 2\n",
       "3     18.22                       Halo Combat Evolved\n",
       "4     19.20                           Resident Evil 4\n",
       "5     19.21                           Resident Evil 4\n",
       "6     19.22         The Legend of Zelda Majora's Mask\n",
       "7     20.19  The Legend of Zelda Tears of the Kingdom\n",
       "8     20.20                           Baldur's Gate 3\n",
       "9     20.21                           Baldur's Gate 3\n",
       "10    20.22                           Final Fantasy V\n",
       "11    20.23                           Final Fantasy V\n",
       "12    21.00                           Final Fantasy V"
      ]
     },
     "execution_count": 49,
     "metadata": {},
     "output_type": "execute_result"
    }
   ],
   "source": [
    "pd.read_csv('data/dayhour_game.csv')"
   ]
  },
  {
   "cell_type": "code",
   "execution_count": 50,
   "id": "b4f0aa60",
   "metadata": {},
   "outputs": [
    {
     "data": {
      "text/html": [
       "<div>\n",
       "<style scoped>\n",
       "    .dataframe tbody tr th:only-of-type {\n",
       "        vertical-align: middle;\n",
       "    }\n",
       "\n",
       "    .dataframe tbody tr th {\n",
       "        vertical-align: top;\n",
       "    }\n",
       "\n",
       "    .dataframe thead th {\n",
       "        text-align: right;\n",
       "    }\n",
       "</style>\n",
       "<table border=\"1\" class=\"dataframe\">\n",
       "  <thead>\n",
       "    <tr style=\"text-align: right;\">\n",
       "      <th></th>\n",
       "      <th>name</th>\n",
       "      <th>runners</th>\n",
       "      <th>hosts</th>\n",
       "      <th>commentators</th>\n",
       "      <th>desc</th>\n",
       "      <th>start</th>\n",
       "      <th>run_time</th>\n",
       "      <th>end</th>\n",
       "      <th>bids</th>\n",
       "      <th>game</th>\n",
       "      <th>run_total</th>\n",
       "      <th>time_block</th>\n",
       "      <th>total_perhour</th>\n",
       "      <th>sponsor_total</th>\n",
       "      <th>sponsor_pct</th>\n",
       "      <th>run</th>\n",
       "      <th>bid_donations</th>\n",
       "      <th>bid_pct</th>\n",
       "    </tr>\n",
       "  </thead>\n",
       "  <tbody>\n",
       "    <tr>\n",
       "      <th>0</th>\n",
       "      <td>AGDQ 2024 Pre-Show Pre-Show</td>\n",
       "      <td>Interview Crew</td>\n",
       "      <td>NaN</td>\n",
       "      <td>NaN</td>\n",
       "      <td>NaN</td>\n",
       "      <td>2024-01-14 11:30:00</td>\n",
       "      <td>0 days 00:42:00</td>\n",
       "      <td>2024-01-14 12:12:00</td>\n",
       "      <td>No</td>\n",
       "      <td>AGDQ 2024 Pre-Show Pre-Show</td>\n",
       "      <td>12461.44</td>\n",
       "      <td>0 days 00:42:00</td>\n",
       "      <td>17802.06</td>\n",
       "      <td>0.0</td>\n",
       "      <td>0.0</td>\n",
       "      <td>NaN</td>\n",
       "      <td>NaN</td>\n",
       "      <td>NaN</td>\n",
       "    </tr>\n",
       "    <tr>\n",
       "      <th>1</th>\n",
       "      <td>TUNIC Any% Unrestricted</td>\n",
       "      <td>Radicoon</td>\n",
       "      <td>AttyJoe</td>\n",
       "      <td>kevinregamey, silentdestroyer</td>\n",
       "      <td>NaN</td>\n",
       "      <td>2024-01-14 12:12:00</td>\n",
       "      <td>0 days 00:21:42</td>\n",
       "      <td>2024-01-14 12:48:00</td>\n",
       "      <td>Yes</td>\n",
       "      <td>TUNIC</td>\n",
       "      <td>12039.00</td>\n",
       "      <td>0 days 00:36:00</td>\n",
       "      <td>20065.00</td>\n",
       "      <td>0.0</td>\n",
       "      <td>0.0</td>\n",
       "      <td>TUNIC</td>\n",
       "      <td>3135.00</td>\n",
       "      <td>26.0</td>\n",
       "    </tr>\n",
       "    <tr>\n",
       "      <th>2</th>\n",
       "      <td>Super Monkey Ball Master</td>\n",
       "      <td>Helix</td>\n",
       "      <td>AttyJoe</td>\n",
       "      <td>limy, PeasSMB</td>\n",
       "      <td>NaN</td>\n",
       "      <td>2024-01-14 12:48:00</td>\n",
       "      <td>0 days 00:19:16</td>\n",
       "      <td>2024-01-14 13:21:00</td>\n",
       "      <td>No</td>\n",
       "      <td>Super Monkey Ball</td>\n",
       "      <td>4004.11</td>\n",
       "      <td>0 days 00:33:00</td>\n",
       "      <td>7280.20</td>\n",
       "      <td>0.0</td>\n",
       "      <td>0.0</td>\n",
       "      <td>NaN</td>\n",
       "      <td>NaN</td>\n",
       "      <td>NaN</td>\n",
       "    </tr>\n",
       "    <tr>\n",
       "      <th>3</th>\n",
       "      <td>Donkey Kong Country 101%</td>\n",
       "      <td>Tonkotsu</td>\n",
       "      <td>AttyJoe</td>\n",
       "      <td>Glan, V0oid</td>\n",
       "      <td>NaN</td>\n",
       "      <td>2024-01-14 13:21:00</td>\n",
       "      <td>0 days 00:53:27</td>\n",
       "      <td>2024-01-14 14:34:00</td>\n",
       "      <td>Yes</td>\n",
       "      <td>Donkey Kong Country</td>\n",
       "      <td>11586.24</td>\n",
       "      <td>0 days 01:13:00</td>\n",
       "      <td>9522.94</td>\n",
       "      <td>0.0</td>\n",
       "      <td>0.0</td>\n",
       "      <td>Donkey Kong Country</td>\n",
       "      <td>8076.44</td>\n",
       "      <td>70.0</td>\n",
       "    </tr>\n",
       "    <tr>\n",
       "      <th>4</th>\n",
       "      <td>SpongeBob SquarePants: The Cosmic Shake Any%</td>\n",
       "      <td>PunchSh0t</td>\n",
       "      <td>PippyInATopHat</td>\n",
       "      <td>CheeseJayy, Jaxler, Kaons</td>\n",
       "      <td>NaN</td>\n",
       "      <td>2024-01-14 14:34:00</td>\n",
       "      <td>0 days 00:45:31</td>\n",
       "      <td>2024-01-14 15:37:00</td>\n",
       "      <td>No</td>\n",
       "      <td>SpongeBob SquarePants: The Cosmic Shake</td>\n",
       "      <td>4750.92</td>\n",
       "      <td>0 days 01:03:00</td>\n",
       "      <td>4524.69</td>\n",
       "      <td>0.0</td>\n",
       "      <td>0.0</td>\n",
       "      <td>NaN</td>\n",
       "      <td>NaN</td>\n",
       "      <td>NaN</td>\n",
       "    </tr>\n",
       "    <tr>\n",
       "      <th>...</th>\n",
       "      <td>...</td>\n",
       "      <td>...</td>\n",
       "      <td>...</td>\n",
       "      <td>...</td>\n",
       "      <td>...</td>\n",
       "      <td>...</td>\n",
       "      <td>...</td>\n",
       "      <td>...</td>\n",
       "      <td>...</td>\n",
       "      <td>...</td>\n",
       "      <td>...</td>\n",
       "      <td>...</td>\n",
       "      <td>...</td>\n",
       "      <td>...</td>\n",
       "      <td>...</td>\n",
       "      <td>...</td>\n",
       "      <td>...</td>\n",
       "      <td>...</td>\n",
       "    </tr>\n",
       "    <tr>\n",
       "      <th>140</th>\n",
       "      <td>Lost Judgment Kaito Files Any%</td>\n",
       "      <td>Froob</td>\n",
       "      <td>Bobby Blackwolf</td>\n",
       "      <td>DECosmic, Tapioca</td>\n",
       "      <td>NaN</td>\n",
       "      <td>2024-01-20 17:30:00</td>\n",
       "      <td>0 days 00:54:06</td>\n",
       "      <td>2024-01-20 18:55:00</td>\n",
       "      <td>Yes</td>\n",
       "      <td>Lost Judgment</td>\n",
       "      <td>91709.31</td>\n",
       "      <td>0 days 01:25:00</td>\n",
       "      <td>64735.98</td>\n",
       "      <td>20000.0</td>\n",
       "      <td>22.0</td>\n",
       "      <td>Lost Judgment</td>\n",
       "      <td>59271.43</td>\n",
       "      <td>65.0</td>\n",
       "    </tr>\n",
       "    <tr>\n",
       "      <th>141</th>\n",
       "      <td>The Legend of Zelda: Tears of the Kingdom Any%</td>\n",
       "      <td>gymnast86</td>\n",
       "      <td>Kungfufruitcup</td>\n",
       "      <td>NaN</td>\n",
       "      <td>NaN</td>\n",
       "      <td>2024-01-20 18:55:00</td>\n",
       "      <td>0 days 00:49:04</td>\n",
       "      <td>2024-01-20 20:17:00</td>\n",
       "      <td>No</td>\n",
       "      <td>The Legend of Zelda: Tears of the Kingdom</td>\n",
       "      <td>208072.98</td>\n",
       "      <td>0 days 01:22:00</td>\n",
       "      <td>152248.52</td>\n",
       "      <td>0.0</td>\n",
       "      <td>0.0</td>\n",
       "      <td>NaN</td>\n",
       "      <td>NaN</td>\n",
       "      <td>NaN</td>\n",
       "    </tr>\n",
       "    <tr>\n",
       "      <th>142</th>\n",
       "      <td>BONUS GAME 4- Baldur's Gate 3 All Acts</td>\n",
       "      <td>maeeeeee</td>\n",
       "      <td>Kungfufruitcup</td>\n",
       "      <td>Chronos, delph, tomatoangus</td>\n",
       "      <td>NaN</td>\n",
       "      <td>2024-01-20 20:17:00</td>\n",
       "      <td>0 days 00:33:21</td>\n",
       "      <td>2024-01-20 21:52:00</td>\n",
       "      <td>Yes</td>\n",
       "      <td>Baldur's Gate 3</td>\n",
       "      <td>120056.82</td>\n",
       "      <td>0 days 01:35:00</td>\n",
       "      <td>75825.36</td>\n",
       "      <td>12500.0</td>\n",
       "      <td>10.0</td>\n",
       "      <td>Baldur's Gate 3</td>\n",
       "      <td>359726.89</td>\n",
       "      <td>300.0</td>\n",
       "    </tr>\n",
       "    <tr>\n",
       "      <th>143</th>\n",
       "      <td>Final Fantasy V Pixel Remaster Any% Cutscene R...</td>\n",
       "      <td>Zic3</td>\n",
       "      <td>Prolix</td>\n",
       "      <td>FoxyJira, WoadyB</td>\n",
       "      <td>NaN</td>\n",
       "      <td>2024-01-20 21:52:00</td>\n",
       "      <td>0 days 02:50:00</td>\n",
       "      <td>2024-01-21 01:03:00</td>\n",
       "      <td>Yes</td>\n",
       "      <td>Final Fantasy V</td>\n",
       "      <td>309481.00</td>\n",
       "      <td>0 days 03:11:00</td>\n",
       "      <td>97219.16</td>\n",
       "      <td>35000.0</td>\n",
       "      <td>11.0</td>\n",
       "      <td>Final Fantasy V</td>\n",
       "      <td>49208.31</td>\n",
       "      <td>16.0</td>\n",
       "    </tr>\n",
       "    <tr>\n",
       "      <th>144</th>\n",
       "      <td>Finale! The End%</td>\n",
       "      <td>Tech Crew</td>\n",
       "      <td>NaN</td>\n",
       "      <td>NaN</td>\n",
       "      <td>NaN</td>\n",
       "      <td>2024-01-21 01:03:00</td>\n",
       "      <td>0 days 00:20:00</td>\n",
       "      <td>2024-01-21 16:15:00</td>\n",
       "      <td>No</td>\n",
       "      <td>Finale! The End</td>\n",
       "      <td>11620.76</td>\n",
       "      <td>0 days 15:12:00</td>\n",
       "      <td>764.52</td>\n",
       "      <td>5000.0</td>\n",
       "      <td>43.0</td>\n",
       "      <td>NaN</td>\n",
       "      <td>NaN</td>\n",
       "      <td>NaN</td>\n",
       "    </tr>\n",
       "  </tbody>\n",
       "</table>\n",
       "<p>145 rows × 18 columns</p>\n",
       "</div>"
      ],
      "text/plain": [
       "                                                  name         runners  \\\n",
       "0                          AGDQ 2024 Pre-Show Pre-Show  Interview Crew   \n",
       "1                              TUNIC Any% Unrestricted        Radicoon   \n",
       "2                             Super Monkey Ball Master           Helix   \n",
       "3                             Donkey Kong Country 101%        Tonkotsu   \n",
       "4         SpongeBob SquarePants: The Cosmic Shake Any%       PunchSh0t   \n",
       "..                                                 ...             ...   \n",
       "140                     Lost Judgment Kaito Files Any%           Froob   \n",
       "141     The Legend of Zelda: Tears of the Kingdom Any%       gymnast86   \n",
       "142             BONUS GAME 4- Baldur's Gate 3 All Acts        maeeeeee   \n",
       "143  Final Fantasy V Pixel Remaster Any% Cutscene R...            Zic3   \n",
       "144                                   Finale! The End%       Tech Crew   \n",
       "\n",
       "               hosts                   commentators  desc               start  \\\n",
       "0                NaN                            NaN   NaN 2024-01-14 11:30:00   \n",
       "1            AttyJoe  kevinregamey, silentdestroyer   NaN 2024-01-14 12:12:00   \n",
       "2            AttyJoe                  limy, PeasSMB   NaN 2024-01-14 12:48:00   \n",
       "3            AttyJoe                    Glan, V0oid   NaN 2024-01-14 13:21:00   \n",
       "4     PippyInATopHat      CheeseJayy, Jaxler, Kaons   NaN 2024-01-14 14:34:00   \n",
       "..               ...                            ...   ...                 ...   \n",
       "140  Bobby Blackwolf              DECosmic, Tapioca   NaN 2024-01-20 17:30:00   \n",
       "141   Kungfufruitcup                            NaN   NaN 2024-01-20 18:55:00   \n",
       "142   Kungfufruitcup    Chronos, delph, tomatoangus   NaN 2024-01-20 20:17:00   \n",
       "143           Prolix               FoxyJira, WoadyB   NaN 2024-01-20 21:52:00   \n",
       "144              NaN                            NaN   NaN 2024-01-21 01:03:00   \n",
       "\n",
       "            run_time                  end bids  \\\n",
       "0    0 days 00:42:00  2024-01-14 12:12:00   No   \n",
       "1    0 days 00:21:42  2024-01-14 12:48:00  Yes   \n",
       "2    0 days 00:19:16  2024-01-14 13:21:00   No   \n",
       "3    0 days 00:53:27  2024-01-14 14:34:00  Yes   \n",
       "4    0 days 00:45:31  2024-01-14 15:37:00   No   \n",
       "..               ...                  ...  ...   \n",
       "140  0 days 00:54:06  2024-01-20 18:55:00  Yes   \n",
       "141  0 days 00:49:04  2024-01-20 20:17:00   No   \n",
       "142  0 days 00:33:21  2024-01-20 21:52:00  Yes   \n",
       "143  0 days 02:50:00  2024-01-21 01:03:00  Yes   \n",
       "144  0 days 00:20:00  2024-01-21 16:15:00   No   \n",
       "\n",
       "                                          game  run_total       time_block  \\\n",
       "0                  AGDQ 2024 Pre-Show Pre-Show   12461.44  0 days 00:42:00   \n",
       "1                                        TUNIC   12039.00  0 days 00:36:00   \n",
       "2                            Super Monkey Ball    4004.11  0 days 00:33:00   \n",
       "3                          Donkey Kong Country   11586.24  0 days 01:13:00   \n",
       "4      SpongeBob SquarePants: The Cosmic Shake    4750.92  0 days 01:03:00   \n",
       "..                                         ...        ...              ...   \n",
       "140                              Lost Judgment   91709.31  0 days 01:25:00   \n",
       "141  The Legend of Zelda: Tears of the Kingdom  208072.98  0 days 01:22:00   \n",
       "142                            Baldur's Gate 3  120056.82  0 days 01:35:00   \n",
       "143                            Final Fantasy V  309481.00  0 days 03:11:00   \n",
       "144                            Finale! The End   11620.76  0 days 15:12:00   \n",
       "\n",
       "     total_perhour  sponsor_total  sponsor_pct                  run  \\\n",
       "0         17802.06            0.0          0.0                  NaN   \n",
       "1         20065.00            0.0          0.0                TUNIC   \n",
       "2          7280.20            0.0          0.0                  NaN   \n",
       "3          9522.94            0.0          0.0  Donkey Kong Country   \n",
       "4          4524.69            0.0          0.0                  NaN   \n",
       "..             ...            ...          ...                  ...   \n",
       "140       64735.98        20000.0         22.0        Lost Judgment   \n",
       "141      152248.52            0.0          0.0                  NaN   \n",
       "142       75825.36        12500.0         10.0      Baldur's Gate 3   \n",
       "143       97219.16        35000.0         11.0      Final Fantasy V   \n",
       "144         764.52         5000.0         43.0                  NaN   \n",
       "\n",
       "     bid_donations  bid_pct  \n",
       "0              NaN      NaN  \n",
       "1          3135.00     26.0  \n",
       "2              NaN      NaN  \n",
       "3          8076.44     70.0  \n",
       "4              NaN      NaN  \n",
       "..             ...      ...  \n",
       "140       59271.43     65.0  \n",
       "141            NaN      NaN  \n",
       "142      359726.89    300.0  \n",
       "143       49208.31     16.0  \n",
       "144            NaN      NaN  \n",
       "\n",
       "[145 rows x 18 columns]"
      ]
     },
     "execution_count": 50,
     "metadata": {},
     "output_type": "execute_result"
    }
   ],
   "source": [
    "runs"
   ]
  },
  {
   "cell_type": "code",
   "execution_count": 51,
   "id": "eccfd946",
   "metadata": {},
   "outputs": [
    {
     "data": {
      "text/html": [
       "<div>\n",
       "<style scoped>\n",
       "    .dataframe tbody tr th:only-of-type {\n",
       "        vertical-align: middle;\n",
       "    }\n",
       "\n",
       "    .dataframe tbody tr th {\n",
       "        vertical-align: top;\n",
       "    }\n",
       "\n",
       "    .dataframe thead th {\n",
       "        text-align: right;\n",
       "    }\n",
       "</style>\n",
       "<table border=\"1\" class=\"dataframe\">\n",
       "  <thead>\n",
       "    <tr style=\"text-align: right;\">\n",
       "      <th></th>\n",
       "      <th>name</th>\n",
       "      <th>run</th>\n",
       "      <th>desc</th>\n",
       "      <th>amount</th>\n",
       "      <th>goal</th>\n",
       "    </tr>\n",
       "  </thead>\n",
       "  <tbody>\n",
       "    <tr>\n",
       "      <th>0</th>\n",
       "      <td>Visit the Beta World</td>\n",
       "      <td>TUNIC</td>\n",
       "      <td>TUNIC's Beta World is a normally inaccessible ...</td>\n",
       "      <td>3135.00</td>\n",
       "      <td>3000.0</td>\n",
       "    </tr>\n",
       "    <tr>\n",
       "      <th>1</th>\n",
       "      <td>Reverse Boss Order</td>\n",
       "      <td>Donkey Kong Country</td>\n",
       "      <td>If met, Tonkotsu will defeat every boss in rev...</td>\n",
       "      <td>8076.44</td>\n",
       "      <td>8000.0</td>\n",
       "    </tr>\n",
       "    <tr>\n",
       "      <th>2</th>\n",
       "      <td>Character Outfit Color</td>\n",
       "      <td>Jet Set Radio Future</td>\n",
       "      <td>Choose the outfit color used by the player cha...</td>\n",
       "      <td>2685.33</td>\n",
       "      <td>0.0</td>\n",
       "    </tr>\n",
       "    <tr>\n",
       "      <th>3</th>\n",
       "      <td>Secret Car Fight</td>\n",
       "      <td>Jet Set Radio Future</td>\n",
       "      <td>Jet Set Radio Future has a lot of partially im...</td>\n",
       "      <td>20003.29</td>\n",
       "      <td>20000.0</td>\n",
       "    </tr>\n",
       "    <tr>\n",
       "      <th>4</th>\n",
       "      <td>Costume Choice</td>\n",
       "      <td>Batman: Arkham City</td>\n",
       "      <td>Choose the costume used by Batman for the Batm...</td>\n",
       "      <td>7570.69</td>\n",
       "      <td>0.0</td>\n",
       "    </tr>\n",
       "    <tr>\n",
       "      <th>...</th>\n",
       "      <td>...</td>\n",
       "      <td>...</td>\n",
       "      <td>...</td>\n",
       "      <td>...</td>\n",
       "      <td>...</td>\n",
       "    </tr>\n",
       "    <tr>\n",
       "      <th>83</th>\n",
       "      <td>Super Amon Bossfight</td>\n",
       "      <td>Lost Judgment</td>\n",
       "      <td>As part of The Gauntlet DLC there is an option...</td>\n",
       "      <td>51122.03</td>\n",
       "      <td>50000.0</td>\n",
       "    </tr>\n",
       "    <tr>\n",
       "      <th>84</th>\n",
       "      <td>Baldur's Gate 3 All Acts</td>\n",
       "      <td>Baldur's Gate 3</td>\n",
       "      <td>Add an All Acts run of Baldur's Gate 3 to the ...</td>\n",
       "      <td>251269.82</td>\n",
       "      <td>250000.0</td>\n",
       "    </tr>\n",
       "    <tr>\n",
       "      <th>85</th>\n",
       "      <td>Character Name</td>\n",
       "      <td>Baldur's Gate 3</td>\n",
       "      <td>Choose the name used by the player character f...</td>\n",
       "      <td>7118.00</td>\n",
       "      <td>0.0</td>\n",
       "    </tr>\n",
       "    <tr>\n",
       "      <th>86</th>\n",
       "      <td>Developer Room Showcase</td>\n",
       "      <td>Baldur's Gate 3</td>\n",
       "      <td>If met, mae will break into two secret dev roo...</td>\n",
       "      <td>101339.07</td>\n",
       "      <td>100000.0</td>\n",
       "    </tr>\n",
       "    <tr>\n",
       "      <th>87</th>\n",
       "      <td>Rename Bartz</td>\n",
       "      <td>Final Fantasy V</td>\n",
       "      <td>Choose the name given to Bartz for the Final F...</td>\n",
       "      <td>49208.31</td>\n",
       "      <td>0.0</td>\n",
       "    </tr>\n",
       "  </tbody>\n",
       "</table>\n",
       "<p>88 rows × 5 columns</p>\n",
       "</div>"
      ],
      "text/plain": [
       "                        name                   run  \\\n",
       "0       Visit the Beta World                 TUNIC   \n",
       "1         Reverse Boss Order   Donkey Kong Country   \n",
       "2     Character Outfit Color  Jet Set Radio Future   \n",
       "3           Secret Car Fight  Jet Set Radio Future   \n",
       "4             Costume Choice   Batman: Arkham City   \n",
       "..                       ...                   ...   \n",
       "83      Super Amon Bossfight         Lost Judgment   \n",
       "84  Baldur's Gate 3 All Acts       Baldur's Gate 3   \n",
       "85            Character Name       Baldur's Gate 3   \n",
       "86   Developer Room Showcase       Baldur's Gate 3   \n",
       "87              Rename Bartz       Final Fantasy V   \n",
       "\n",
       "                                                 desc     amount      goal  \n",
       "0   TUNIC's Beta World is a normally inaccessible ...    3135.00    3000.0  \n",
       "1   If met, Tonkotsu will defeat every boss in rev...    8076.44    8000.0  \n",
       "2   Choose the outfit color used by the player cha...    2685.33       0.0  \n",
       "3   Jet Set Radio Future has a lot of partially im...   20003.29   20000.0  \n",
       "4   Choose the costume used by Batman for the Batm...    7570.69       0.0  \n",
       "..                                                ...        ...       ...  \n",
       "83  As part of The Gauntlet DLC there is an option...   51122.03   50000.0  \n",
       "84  Add an All Acts run of Baldur's Gate 3 to the ...  251269.82  250000.0  \n",
       "85  Choose the name used by the player character f...    7118.00       0.0  \n",
       "86  If met, mae will break into two secret dev roo...  101339.07  100000.0  \n",
       "87  Choose the name given to Bartz for the Final F...   49208.31       0.0  \n",
       "\n",
       "[88 rows x 5 columns]"
      ]
     },
     "execution_count": 51,
     "metadata": {},
     "output_type": "execute_result"
    }
   ],
   "source": [
    "bids"
   ]
  },
  {
   "cell_type": "code",
   "execution_count": 52,
   "id": "c95d773f",
   "metadata": {},
   "outputs": [
    {
     "data": {
      "text/html": [
       "<div>\n",
       "<style scoped>\n",
       "    .dataframe tbody tr th:only-of-type {\n",
       "        vertical-align: middle;\n",
       "    }\n",
       "\n",
       "    .dataframe tbody tr th {\n",
       "        vertical-align: top;\n",
       "    }\n",
       "\n",
       "    .dataframe thead th {\n",
       "        text-align: right;\n",
       "    }\n",
       "</style>\n",
       "<table border=\"1\" class=\"dataframe\">\n",
       "  <thead>\n",
       "    <tr style=\"text-align: right;\">\n",
       "      <th></th>\n",
       "      <th>name</th>\n",
       "      <th>time</th>\n",
       "      <th>amount</th>\n",
       "      <th>comment</th>\n",
       "      <th>hour</th>\n",
       "      <th>day</th>\n",
       "      <th>datetime</th>\n",
       "      <th>run</th>\n",
       "      <th>dayhour</th>\n",
       "    </tr>\n",
       "  </thead>\n",
       "  <tbody>\n",
       "    <tr>\n",
       "      <th>15340</th>\n",
       "      <td>Dan Salvato</td>\n",
       "      <td>2024-01-19 16:47:26.908025</td>\n",
       "      <td>10000.0</td>\n",
       "      <td>Yes</td>\n",
       "      <td>16:00</td>\n",
       "      <td>19</td>\n",
       "      <td>1-19 16:00</td>\n",
       "      <td>Super Mario Bros. Wonder</td>\n",
       "      <td>19 16</td>\n",
       "    </tr>\n",
       "    <tr>\n",
       "      <th>32021</th>\n",
       "      <td>Fangamer</td>\n",
       "      <td>2024-01-15 17:04:37.955669</td>\n",
       "      <td>10000.0</td>\n",
       "      <td>Yes</td>\n",
       "      <td>17:00</td>\n",
       "      <td>15</td>\n",
       "      <td>1-15 17:00</td>\n",
       "      <td>Metroid Prime 2: Echoes</td>\n",
       "      <td>15 17</td>\n",
       "    </tr>\n",
       "    <tr>\n",
       "      <th>28858</th>\n",
       "      <td>The Yetee</td>\n",
       "      <td>2024-01-16 13:42:30.214676</td>\n",
       "      <td>10000.0</td>\n",
       "      <td>Yes</td>\n",
       "      <td>13:00</td>\n",
       "      <td>16</td>\n",
       "      <td>1-16 13:00</td>\n",
       "      <td>Gyromite</td>\n",
       "      <td>16 13</td>\n",
       "    </tr>\n",
       "    <tr>\n",
       "      <th>23648</th>\n",
       "      <td>Fangamer</td>\n",
       "      <td>2024-01-17 19:06:47.178972</td>\n",
       "      <td>10000.0</td>\n",
       "      <td>Yes</td>\n",
       "      <td>19:00</td>\n",
       "      <td>17</td>\n",
       "      <td>1-17 19:00</td>\n",
       "      <td>The Legend of Zelda: Ocarina of Time</td>\n",
       "      <td>17 19</td>\n",
       "    </tr>\n",
       "    <tr>\n",
       "      <th>3827</th>\n",
       "      <td>The Yetee</td>\n",
       "      <td>2024-01-20 22:00:55.448196</td>\n",
       "      <td>10000.0</td>\n",
       "      <td>Yes</td>\n",
       "      <td>22:00</td>\n",
       "      <td>20</td>\n",
       "      <td>1-20 22:00</td>\n",
       "      <td>Final Fantasy V</td>\n",
       "      <td>20 22</td>\n",
       "    </tr>\n",
       "    <tr>\n",
       "      <th>8496</th>\n",
       "      <td>Fangamer</td>\n",
       "      <td>2024-01-20 18:09:49.833165</td>\n",
       "      <td>10000.0</td>\n",
       "      <td>Yes</td>\n",
       "      <td>18:00</td>\n",
       "      <td>20</td>\n",
       "      <td>1-20 18:00</td>\n",
       "      <td>Lost Judgment</td>\n",
       "      <td>20 18</td>\n",
       "    </tr>\n",
       "    <tr>\n",
       "      <th>0</th>\n",
       "      <td>The Yetee</td>\n",
       "      <td>2024-01-22 15:02:12.836533</td>\n",
       "      <td>16318.0</td>\n",
       "      <td>Yes</td>\n",
       "      <td>15:00</td>\n",
       "      <td>22</td>\n",
       "      <td>1-22 15:00</td>\n",
       "      <td>NaN</td>\n",
       "      <td>22 15</td>\n",
       "    </tr>\n",
       "    <tr>\n",
       "      <th>15305</th>\n",
       "      <td>The Yetee</td>\n",
       "      <td>2024-01-19 16:55:04.965811</td>\n",
       "      <td>20000.0</td>\n",
       "      <td>Yes</td>\n",
       "      <td>16:00</td>\n",
       "      <td>19</td>\n",
       "      <td>1-19 16:00</td>\n",
       "      <td>Super Mario Bros. Wonder</td>\n",
       "      <td>19 16</td>\n",
       "    </tr>\n",
       "    <tr>\n",
       "      <th>17984</th>\n",
       "      <td>Humble Bundle</td>\n",
       "      <td>2024-01-18 22:19:27.000000</td>\n",
       "      <td>51578.0</td>\n",
       "      <td>Yes</td>\n",
       "      <td>22:00</td>\n",
       "      <td>18</td>\n",
       "      <td>1-18 22:00</td>\n",
       "      <td>Halo: Combat Evolved</td>\n",
       "      <td>18 22</td>\n",
       "    </tr>\n",
       "    <tr>\n",
       "      <th>3372</th>\n",
       "      <td>Games Done Quick</td>\n",
       "      <td>2024-01-20 22:39:56.000000</td>\n",
       "      <td>117906.0</td>\n",
       "      <td>Yes</td>\n",
       "      <td>22:00</td>\n",
       "      <td>20</td>\n",
       "      <td>1-20 22:00</td>\n",
       "      <td>Final Fantasy V</td>\n",
       "      <td>20 22</td>\n",
       "    </tr>\n",
       "  </tbody>\n",
       "</table>\n",
       "</div>"
      ],
      "text/plain": [
       "                   name                       time    amount comment   hour  \\\n",
       "15340       Dan Salvato 2024-01-19 16:47:26.908025   10000.0     Yes  16:00   \n",
       "32021          Fangamer 2024-01-15 17:04:37.955669   10000.0     Yes  17:00   \n",
       "28858         The Yetee 2024-01-16 13:42:30.214676   10000.0     Yes  13:00   \n",
       "23648          Fangamer 2024-01-17 19:06:47.178972   10000.0     Yes  19:00   \n",
       "3827          The Yetee 2024-01-20 22:00:55.448196   10000.0     Yes  22:00   \n",
       "8496           Fangamer 2024-01-20 18:09:49.833165   10000.0     Yes  18:00   \n",
       "0             The Yetee 2024-01-22 15:02:12.836533   16318.0     Yes  15:00   \n",
       "15305         The Yetee 2024-01-19 16:55:04.965811   20000.0     Yes  16:00   \n",
       "17984     Humble Bundle 2024-01-18 22:19:27.000000   51578.0     Yes  22:00   \n",
       "3372   Games Done Quick 2024-01-20 22:39:56.000000  117906.0     Yes  22:00   \n",
       "\n",
       "       day    datetime                                   run dayhour  \n",
       "15340   19  1-19 16:00              Super Mario Bros. Wonder   19 16  \n",
       "32021   15  1-15 17:00               Metroid Prime 2: Echoes   15 17  \n",
       "28858   16  1-16 13:00                              Gyromite   16 13  \n",
       "23648   17  1-17 19:00  The Legend of Zelda: Ocarina of Time   17 19  \n",
       "3827    20  1-20 22:00                       Final Fantasy V   20 22  \n",
       "8496    20  1-20 18:00                         Lost Judgment   20 18  \n",
       "0       22  1-22 15:00                                   NaN   22 15  \n",
       "15305   19  1-19 16:00              Super Mario Bros. Wonder   19 16  \n",
       "17984   18  1-18 22:00                  Halo: Combat Evolved   18 22  \n",
       "3372    20  1-20 22:00                       Final Fantasy V   20 22  "
      ]
     },
     "execution_count": 52,
     "metadata": {},
     "output_type": "execute_result"
    }
   ],
   "source": [
    "dona.sort_values('amount').tail(10)"
   ]
  },
  {
   "cell_type": "code",
   "execution_count": 53,
   "id": "cb56f445",
   "metadata": {},
   "outputs": [
    {
     "data": {
      "text/plain": [
       "''"
      ]
     },
     "execution_count": 53,
     "metadata": {},
     "output_type": "execute_result"
    },
    {
     "data": {
      "image/png": "[encoded data removed]",
      "text/plain": [
       "<Figure size 640x480 with 1 Axes>"
      ]
     },
     "metadata": {},
     "output_type": "display_data"
    }
   ],
   "source": [
    "chart = sns.barplot(data = dona.sort_values('amount').tail(5), \n",
    "            x = 'name', \n",
    "            y = 'amount', \n",
    "            color = 'navy',\n",
    "            errorbar = None,\n",
    "            estimator = 'max'\n",
    "           )\n",
    "chart.bar_label(chart.containers[0], fmt='$%g')\n",
    "chart.set_ylabel('Dollars')\n",
    "chart.set_xlabel('Donor')\n",
    ";"
   ]
  },
  {
   "cell_type": "code",
   "execution_count": 54,
   "id": "0bccd66d",
   "metadata": {
    "scrolled": false
   },
   "outputs": [
    {
     "data": {
      "text/plain": [
       "<Axes: xlabel='Dollars', ylabel='Donor'>"
      ]
     },
     "execution_count": 54,
     "metadata": {},
     "output_type": "execute_result"
    },
    {
     "data": {
      "image/png": "[encoded data removed]",
      "text/plain": [
       "<Figure size 640x480 with 1 Axes>"
      ]
     },
     "metadata": {},
     "output_type": "display_data"
    }
   ],
   "source": [
    "dona.sort_values('amount').tail(5).plot(kind = 'barh', \n",
    "                                        x = 'name', \n",
    "                                        y = 'amount', \n",
    "                                        rot=0,\n",
    "                                       xlabel = 'Dollars',\n",
    "                                       ylabel = 'Donor',\n",
    "                                       )\n",
    "\n"
   ]
  },
  {
   "cell_type": "code",
   "execution_count": 55,
   "id": "da346ce8",
   "metadata": {},
   "outputs": [
    {
     "data": {
      "text/html": [
       "<div>\n",
       "<style scoped>\n",
       "    .dataframe tbody tr th:only-of-type {\n",
       "        vertical-align: middle;\n",
       "    }\n",
       "\n",
       "    .dataframe tbody tr th {\n",
       "        vertical-align: top;\n",
       "    }\n",
       "\n",
       "    .dataframe thead th {\n",
       "        text-align: right;\n",
       "    }\n",
       "</style>\n",
       "<table border=\"1\" class=\"dataframe\">\n",
       "  <thead>\n",
       "    <tr style=\"text-align: right;\">\n",
       "      <th></th>\n",
       "      <th>name</th>\n",
       "      <th>time</th>\n",
       "      <th>amount</th>\n",
       "      <th>comment</th>\n",
       "      <th>hour</th>\n",
       "      <th>day</th>\n",
       "      <th>datetime</th>\n",
       "      <th>run</th>\n",
       "      <th>dayhour</th>\n",
       "    </tr>\n",
       "  </thead>\n",
       "  <tbody>\n",
       "    <tr>\n",
       "      <th>3372</th>\n",
       "      <td>Games Done Quick</td>\n",
       "      <td>2024-01-20 22:39:56</td>\n",
       "      <td>117906.0</td>\n",
       "      <td>Yes</td>\n",
       "      <td>22:00</td>\n",
       "      <td>20</td>\n",
       "      <td>1-20 22:00</td>\n",
       "      <td>Final Fantasy V</td>\n",
       "      <td>20 22</td>\n",
       "    </tr>\n",
       "  </tbody>\n",
       "</table>\n",
       "</div>"
      ],
      "text/plain": [
       "                  name                time    amount comment   hour  day  \\\n",
       "3372  Games Done Quick 2024-01-20 22:39:56  117906.0     Yes  22:00   20   \n",
       "\n",
       "        datetime              run dayhour  \n",
       "3372  1-20 22:00  Final Fantasy V   20 22  "
      ]
     },
     "execution_count": 55,
     "metadata": {},
     "output_type": "execute_result"
    }
   ],
   "source": [
    "dona.loc[dona.name == 'Games Done Quick']"
   ]
  },
  {
   "cell_type": "code",
   "execution_count": 56,
   "id": "e1c84b4a",
   "metadata": {
    "scrolled": true
   },
   "outputs": [
    {
     "data": {
      "text/plain": [
       "390785.0"
      ]
     },
     "execution_count": 56,
     "metadata": {},
     "output_type": "execute_result"
    }
   ],
   "source": [
    "dona.loc[dona.name.isin(company_don)]['amount'].sum()"
   ]
  },
  {
   "cell_type": "code",
   "execution_count": 57,
   "id": "29182b73",
   "metadata": {},
   "outputs": [
    {
     "data": {
      "text/plain": [
       "0.15386101173774253"
      ]
     },
     "execution_count": 57,
     "metadata": {},
     "output_type": "execute_result"
    }
   ],
   "source": [
    "dona.loc[dona.name.isin(company_don)]['amount'].sum()/dona.amount.sum()"
   ]
  },
  {
   "cell_type": "code",
   "execution_count": 58,
   "id": "ce0b2225",
   "metadata": {},
   "outputs": [
    {
     "data": {
      "text/plain": [
       "[0.15386101173774253, 0.8461389882622574]"
      ]
     },
     "execution_count": 58,
     "metadata": {},
     "output_type": "execute_result"
    }
   ],
   "source": [
    "corp_don = [float(dona.loc[dona.name.isin(company_don)]['amount'].sum()/dona.amount.sum()),\n",
    "           1 - float(dona.loc[dona.name.isin(company_don)]['amount'].sum()/dona.amount.sum())]\n",
    "corp_don"
   ]
  },
  {
   "cell_type": "code",
   "execution_count": 59,
   "id": "d534dbe3",
   "metadata": {
    "scrolled": false
   },
   "outputs": [
    {
     "data": {
      "text/plain": [
       "([<matplotlib.patches.Wedge at 0x1ea81921990>,\n",
       "  <matplotlib.patches.Wedge at 0x1ea81db1250>,\n",
       "  <matplotlib.patches.Wedge at 0x1ea81db26d0>,\n",
       "  <matplotlib.patches.Wedge at 0x1ea81db3c50>],\n",
       " [Text(0.9801071672559598, 0.4993895680663527, 'Frogs'),\n",
       "  Text(-0.33991877217145816, 1.046162142464278, 'Hogs'),\n",
       "  Text(-0.49938947630209474, -0.9801072140121813, 'Dogs'),\n",
       "  Text(1.0461621822461364, -0.3399186497354948, 'Logs')])"
      ]
     },
     "execution_count": 59,
     "metadata": {},
     "output_type": "execute_result"
    },
    {
     "data": {
      "image/png": "[encoded data removed]",
      "text/plain": [
       "<Figure size 640x480 with 1 Axes>"
      ]
     },
     "metadata": {},
     "output_type": "display_data"
    }
   ],
   "source": [
    "labels = 'Frogs', 'Hogs', 'Dogs', 'Logs'\n",
    "sizes = [15, 30, 45, 10]\n",
    "\n",
    "fig, ax = plt.subplots()\n",
    "ax.pie(sizes, labels=labels)"
   ]
  },
  {
   "cell_type": "code",
   "execution_count": 60,
   "id": "d013c579",
   "metadata": {},
   "outputs": [
    {
     "data": {
      "text/plain": [
       "([<matplotlib.patches.Wedge at 0x1ea81dbb010>,\n",
       "  <matplotlib.patches.Wedge at 0x1ea81df8350>],\n",
       " [Text(1.416694922119457, 0.7436232229032027, '15%'),\n",
       "  Text(-0.9739777110912887, -0.5112410569363286, ' ')])"
      ]
     },
     "execution_count": 60,
     "metadata": {},
     "output_type": "execute_result"
    },
    {
     "data": {
      "image/png": "[encoded data removed]",
      "text/plain": [
       "<Figure size 640x480 with 1 Axes>"
      ]
     },
     "metadata": {},
     "output_type": "display_data"
    }
   ],
   "source": [
    "labels = '15%', ' '\n",
    "colors = ['navy', 'green']\n",
    "fig, ax = plt.subplots()\n",
    "ax.pie(corp_don,\n",
    "       labels = labels,\n",
    "       colors = colors,\n",
    "       explode = (0.5,0),\n",
    "      textprops={'size': 'larger'})"
   ]
  },
  {
   "cell_type": "code",
   "execution_count": 61,
   "id": "0f159533",
   "metadata": {},
   "outputs": [
    {
     "data": {
      "text/plain": [
       "524589.46"
      ]
     },
     "execution_count": 61,
     "metadata": {},
     "output_type": "execute_result"
    }
   ],
   "source": [
    "dona.loc[dona.name == '(Anonymous)'].amount.sum()"
   ]
  },
  {
   "cell_type": "code",
   "execution_count": 62,
   "id": "b2625c3f",
   "metadata": {
    "scrolled": true
   },
   "outputs": [
    {
     "data": {
      "text/plain": [
       "0.2065428945905191"
      ]
     },
     "execution_count": 62,
     "metadata": {},
     "output_type": "execute_result"
    }
   ],
   "source": [
    "dona.loc[dona.name == '(Anonymous)'].amount.sum()/dona.amount.sum()"
   ]
  },
  {
   "cell_type": "code",
   "execution_count": 63,
   "id": "3f1ec3c7",
   "metadata": {
    "scrolled": false
   },
   "outputs": [
    {
     "data": {
      "image/png": "[encoded data removed]",
      "text/plain": [
       "<Figure size 640x480 with 1 Axes>"
      ]
     },
     "metadata": {},
     "output_type": "display_data"
    }
   ],
   "source": [
    "labels = '21%', ' '\n",
    "colors = ['black', 'green']\n",
    "fig, ax = plt.subplots()\n",
    "ax.pie([21,79],\n",
    "       labels = labels,\n",
    "       colors = colors,\n",
    "       explode = (0.5,0),\n",
    "      textprops={'size': 'larger'});"
   ]
  },
  {
   "cell_type": "code",
   "execution_count": 64,
   "id": "2017417d",
   "metadata": {},
   "outputs": [
    {
     "data": {
      "image/png": "[encoded data removed]",
      "text/plain": [
       "<Figure size 640x480 with 1 Axes>"
      ]
     },
     "metadata": {},
     "output_type": "display_data"
    }
   ],
   "source": [
    "labels = '15%', ' '\n",
    "colors = ['white', 'yellow']\n",
    "fig, ax = plt.subplots()\n",
    "ax.pie([15,85],\n",
    "       labels = labels,\n",
    "       labeldistance = 0.6,\n",
    "       colors = colors,\n",
    "       explode = (0.5,0),\n",
    "      textprops={'size': 'larger'})\n",
    "fig.set_facecolor('black');"
   ]
  },
  {
   "cell_type": "code",
   "execution_count": 65,
   "id": "04bccd2c",
   "metadata": {},
   "outputs": [
    {
     "data": {
      "text/plain": [
       "amount\n",
       "50.00     11650\n",
       "25.00      9722\n",
       "5.00       3178\n",
       "10.00      2918\n",
       "100.00     2211\n",
       "          ...  \n",
       "118.17        1\n",
       "11.17         1\n",
       "32.50         1\n",
       "22.39         1\n",
       "276.44        1\n",
       "Name: count, Length: 683, dtype: int64"
      ]
     },
     "execution_count": 65,
     "metadata": {},
     "output_type": "execute_result"
    }
   ],
   "source": [
    "dona.amount.value_counts()"
   ]
  },
  {
   "cell_type": "code",
   "execution_count": 66,
   "id": "cad969ca",
   "metadata": {
    "scrolled": true
   },
   "outputs": [
    {
     "data": {
      "text/plain": [
       "21372"
      ]
     },
     "execution_count": 66,
     "metadata": {},
     "output_type": "execute_result"
    }
   ],
   "source": [
    "common = [50, 25]\n",
    "dona.amount.isin(common).sum()"
   ]
  },
  {
   "cell_type": "code",
   "execution_count": 67,
   "id": "e5716457",
   "metadata": {},
   "outputs": [
    {
     "data": {
      "text/plain": [
       "0.5906641240361495"
      ]
     },
     "execution_count": 67,
     "metadata": {},
     "output_type": "execute_result"
    }
   ],
   "source": [
    "dona.amount.isin(common).sum() / dona.amount.count()"
   ]
  },
  {
   "cell_type": "code",
   "execution_count": 79,
   "id": "3a9018df",
   "metadata": {},
   "outputs": [
    {
     "data": {
      "image/png": "[encoded data removed]",
      "text/plain": [
       "<Figure size 640x480 with 1 Axes>"
      ]
     },
     "metadata": {},
     "output_type": "display_data"
    }
   ],
   "source": [
    "labels = '59%', ' '\n",
    "colors = ['skyblue', 'green']\n",
    "fig, ax = plt.subplots()\n",
    "ax.pie([59,41],\n",
    "       labels = labels,\n",
    "       labeldistance = 0.4,\n",
    "       colors = colors,\n",
    "       explode = (0.5,0),\n",
    "      textprops={'size': 'larger'});"
   ]
  },
  {
   "cell_type": "code",
   "execution_count": 114,
   "id": "160eedd6",
   "metadata": {},
   "outputs": [
    {
     "data": {
      "text/plain": [
       "88"
      ]
     },
     "execution_count": 114,
     "metadata": {},
     "output_type": "execute_result"
    }
   ],
   "source": [
    "bids.amount.count()"
   ]
  },
  {
   "cell_type": "code",
   "execution_count": 77,
   "id": "9c554b8e",
   "metadata": {
    "scrolled": true
   },
   "outputs": [
    {
     "data": {
      "text/plain": [
       "1610165.54"
      ]
     },
     "execution_count": 77,
     "metadata": {},
     "output_type": "execute_result"
    }
   ],
   "source": [
    "bids.amount.sum()"
   ]
  },
  {
   "cell_type": "code",
   "execution_count": 76,
   "id": "dedd780d",
   "metadata": {
    "scrolled": true
   },
   "outputs": [
    {
     "data": {
      "text/plain": [
       "0.6339590799279619"
      ]
     },
     "execution_count": 76,
     "metadata": {},
     "output_type": "execute_result"
    }
   ],
   "source": [
    "bids.amount.sum()/dona.amount.sum()"
   ]
  },
  {
   "cell_type": "code",
   "execution_count": 112,
   "id": "0443f913",
   "metadata": {},
   "outputs": [
    {
     "data": {
      "text/plain": [
       "7051.665000000001"
      ]
     },
     "execution_count": 112,
     "metadata": {},
     "output_type": "execute_result"
    }
   ],
   "source": [
    "bids.amount.median()"
   ]
  },
  {
   "cell_type": "code",
   "execution_count": 124,
   "id": "3e7a353a",
   "metadata": {
    "scrolled": false
   },
   "outputs": [
    {
     "data": {
      "image/png": "[encoded data removed]",
      "text/plain": [
       "<Figure size 640x480 with 1 Axes>"
      ]
     },
     "metadata": {},
     "output_type": "display_data"
    }
   ],
   "source": [
    "img = sns.boxplot(x=bids.amount, width = 0.4)\n",
    "img.set_xlim([-1000,30000])\n",
    "plt.title('Distribution of Bids')\n",
    "plt.xlabel('Dollars Raised')\n",
    "img.set_facecolor('lightgrey')\n",
    "plt.savefig('data/graph.png',orientation='landscape',transparent=True);"
   ]
  },
  {
   "cell_type": "code",
   "execution_count": null,
   "id": "7c0db5d8",
   "metadata": {},
   "outputs": [],
   "source": [
    "dona.loc[dona.name.isin(company_don)]"
   ]
  },
  {
   "cell_type": "code",
   "execution_count": null,
   "id": "37fd7e26",
   "metadata": {},
   "outputs": [],
   "source": [
    "day_sum = dona.loc[dona['amount'].isin(common)].groupby(by = 'day')['amount'].sum().reset_index()\n",
    "day_sum['day'] = ['14th', '15th', '16th', '17th', '18th', '19th','20th','21st']\n",
    "day_sum"
   ]
  },
  {
   "cell_type": "code",
   "execution_count": null,
   "id": "60930539",
   "metadata": {},
   "outputs": [],
   "source": [
    "chart = sns.lineplot( data = day_sum,\n",
    "             x = 'day',\n",
    "             y = 'amount'\n",
    "            )\n",
    "#chart.bar_label(chart.containers[0], fmt='$%g')\n",
    "chart.set_ylabel('Dollars')\n",
    "\n",
    "chart.set_xlabel('Day')"
   ]
  },
  {
   "cell_type": "code",
   "execution_count": null,
   "id": "5d8cc8ad",
   "metadata": {},
   "outputs": [],
   "source": [
    "dona"
   ]
  },
  {
   "cell_type": "code",
   "execution_count": null,
   "id": "564ea328",
   "metadata": {},
   "outputs": [],
   "source": [
    "(dona.loc[dona.amount.isin(common)].groupby('dayhour')['amount'].sum().reset_index()\n",
    "              .sort_values('amount',ascending=False)\n",
    "             )"
   ]
  },
  {
   "cell_type": "code",
   "execution_count": null,
   "id": "83730927",
   "metadata": {},
   "outputs": [],
   "source": [
    "best_hours = (dona.loc[dona.amount.isin(common)].groupby('dayhour')['amount'].sum().reset_index()\n",
    "              .sort_values('amount',ascending=False)\n",
    "             )"
   ]
  },
  {
   "cell_type": "code",
   "execution_count": null,
   "id": "732d8f9b",
   "metadata": {},
   "outputs": [],
   "source": [
    "best_hours.head(10)"
   ]
  },
  {
   "cell_type": "code",
   "execution_count": null,
   "id": "f201602a",
   "metadata": {},
   "outputs": [],
   "source": [
    "(\n",
    "best_hours.head(16)\n",
    ").plot.barh(x = 'dayhour', y = 'amount')\n"
   ]
  },
  {
   "cell_type": "markdown",
   "id": "699d38ff",
   "metadata": {},
   "source": [
    "# thoughts\n",
    "20th at 8 pm also 6, 7, 9, 10, 11, midnite\n",
    "\n",
    "17th 9pm, 10\n",
    "18th 9 pm, 10\n",
    "19th 8 pm, 10"
   ]
  },
  {
   "cell_type": "code",
   "execution_count": null,
   "id": "fcaff838",
   "metadata": {},
   "outputs": [],
   "source": [
    "common5 = [50, 25, 10, 5, 100]"
   ]
  },
  {
   "cell_type": "code",
   "execution_count": null,
   "id": "07c5384f",
   "metadata": {},
   "outputs": [],
   "source": [
    "common_hours = (dona.loc[dona.amount.isin(common5)].groupby('dayhour')['amount'].sum().reset_index()\n",
    "              .sort_values('amount',ascending=False)\n",
    "             )"
   ]
  },
  {
   "cell_type": "code",
   "execution_count": null,
   "id": "99aeea7b",
   "metadata": {},
   "outputs": [],
   "source": [
    "(\n",
    "common_hours.head(17)\n",
    ").plot.barh(x = 'dayhour', y = 'amount')\n"
   ]
  },
  {
   "cell_type": "code",
   "execution_count": null,
   "id": "91bfc8d9",
   "metadata": {},
   "outputs": [],
   "source": [
    "runs = pd.read_csv('data/ag2024runs_clean_w_game_title.csv')\n",
    "runs"
   ]
  },
  {
   "cell_type": "code",
   "execution_count": null,
   "id": "6152b1ef",
   "metadata": {},
   "outputs": [],
   "source": [
    "trim_out = ['Games Done Quick', 'Humble Bundle']"
   ]
  },
  {
   "cell_type": "code",
   "execution_count": null,
   "id": "64816812",
   "metadata": {
    "scrolled": true
   },
   "outputs": [],
   "source": [
    "dona_trim = dona.loc[~dona.name.isin(company_don)]\n",
    "dona_trim"
   ]
  },
  {
   "cell_type": "code",
   "execution_count": null,
   "id": "116cb05d",
   "metadata": {},
   "outputs": [],
   "source": [
    "run_totals = []\n",
    "for ind, row in runs.iterrows():\n",
    "    x = pd.Series(dona_trim.loc[(dona_trim['time'] > row['start']) & (dona_trim['time'] < row['end'])]['amount']).sum().round(decimals=2)\n",
    "    run_totals.append(x)"
   ]
  },
  {
   "cell_type": "code",
   "execution_count": null,
   "id": "239ede89",
   "metadata": {},
   "outputs": [],
   "source": [
    "len(run_totals)"
   ]
  },
  {
   "cell_type": "code",
   "execution_count": null,
   "id": "050be0f9",
   "metadata": {},
   "outputs": [],
   "source": [
    "run_totals"
   ]
  },
  {
   "cell_type": "code",
   "execution_count": null,
   "id": "7b775d26",
   "metadata": {},
   "outputs": [],
   "source": [
    "runs['run_total'] = run_totals"
   ]
  },
  {
   "cell_type": "code",
   "execution_count": null,
   "id": "1b627bfc",
   "metadata": {},
   "outputs": [],
   "source": [
    "runs.run_total.sum()"
   ]
  },
  {
   "cell_type": "code",
   "execution_count": null,
   "id": "be5b37bd",
   "metadata": {},
   "outputs": [],
   "source": [
    "runs.loc[runs.game == 'Pokemon Crystal']"
   ]
  },
  {
   "cell_type": "code",
   "execution_count": null,
   "id": "5ad2ff6b",
   "metadata": {
    "scrolled": false
   },
   "outputs": [],
   "source": [
    "runs.sort_values('run_total').tail(10).plot.barh(x = 'game', \n",
    "                                                y = 'run_total',\n",
    "                                               legend = False,\n",
    "                                                ylabel = '',\n",
    "                                               xlabel = 'Dollars');"
   ]
  },
  {
   "cell_type": "code",
   "execution_count": null,
   "id": "41033ddf",
   "metadata": {
    "scrolled": false
   },
   "outputs": [],
   "source": [
    "dona_trim = dona.loc[~dona.name.isin(trim_out)]\n",
    "dona_trim"
   ]
  },
  {
   "cell_type": "code",
   "execution_count": null,
   "id": "a487452b",
   "metadata": {},
   "outputs": [],
   "source": [
    "run_totals = []\n",
    "for ind, row in runs.iterrows():\n",
    "    x = pd.Series(dona_trim.loc[(dona_trim['time'] > row['start']) & (dona_trim['time'] < row['end'])]['amount']).sum().round(decimals=2)\n",
    "    run_totals.append(x)"
   ]
  },
  {
   "cell_type": "code",
   "execution_count": null,
   "id": "e223798c",
   "metadata": {},
   "outputs": [],
   "source": [
    "len(run_totals)"
   ]
  },
  {
   "cell_type": "code",
   "execution_count": null,
   "id": "7291cf13",
   "metadata": {},
   "outputs": [],
   "source": [
    "run_totals"
   ]
  },
  {
   "cell_type": "code",
   "execution_count": null,
   "id": "20959391",
   "metadata": {},
   "outputs": [],
   "source": [
    "runs['run_total'] = run_totals"
   ]
  },
  {
   "cell_type": "code",
   "execution_count": null,
   "id": "c32a6323",
   "metadata": {},
   "outputs": [],
   "source": [
    "runs.run_total.sum()"
   ]
  },
  {
   "cell_type": "code",
   "execution_count": null,
   "id": "b826b502",
   "metadata": {},
   "outputs": [],
   "source": [
    "runs.loc[runs.game == 'Sonic Origins Plus']"
   ]
  },
  {
   "cell_type": "code",
   "execution_count": null,
   "id": "0a5421a3",
   "metadata": {
    "scrolled": false
   },
   "outputs": [],
   "source": [
    "runs.sort_values('run_total').tail(10).plot.barh(x = 'game', \n",
    "                                                y = 'run_total',\n",
    "                                               legend = False,\n",
    "                                                ylabel = '',\n",
    "                                               xlabel = 'Dollars');"
   ]
  },
  {
   "cell_type": "code",
   "execution_count": null,
   "id": "b1f955a5",
   "metadata": {},
   "outputs": [],
   "source": [
    "pd.read_csv('data/ag2024_topgames.csv')"
   ]
  },
  {
   "cell_type": "code",
   "execution_count": null,
   "id": "0921e5bd",
   "metadata": {},
   "outputs": [],
   "source": [
    "best_hours= (dona_trim.groupby('dayhour')['amount'].sum().reset_index()\n",
    "              .sort_values('amount',ascending=False)\n",
    "             )"
   ]
  },
  {
   "cell_type": "code",
   "execution_count": null,
   "id": "cd2f08ea",
   "metadata": {},
   "outputs": [],
   "source": [
    "best_hours.head(17).plot.barh(x = 'dayhour', y = 'amount')"
   ]
  },
  {
   "cell_type": "code",
   "execution_count": null,
   "id": "77463bb2",
   "metadata": {},
   "outputs": [],
   "source": [
    "runs.start = pd.to_datetime(runs.start)"
   ]
  },
  {
   "cell_type": "code",
   "execution_count": null,
   "id": "a84386f2",
   "metadata": {
    "scrolled": true
   },
   "outputs": [],
   "source": [
    "runs.loc[runs['start'].dt.day ==17].loc[(runs['start'].dt.hour>15)]"
   ]
  },
  {
   "cell_type": "code",
   "execution_count": null,
   "id": "986a5be0",
   "metadata": {},
   "outputs": [],
   "source": [
    "runs.dtypes"
   ]
  },
  {
   "cell_type": "code",
   "execution_count": null,
   "id": "df1e3ad9",
   "metadata": {},
   "outputs": [],
   "source": [
    "runs"
   ]
  },
  {
   "cell_type": "code",
   "execution_count": null,
   "id": "de75ced3",
   "metadata": {
    "scrolled": true
   },
   "outputs": [],
   "source": [
    "runs.loc[0,['run_total']]"
   ]
  },
  {
   "cell_type": "code",
   "execution_count": null,
   "id": "21dba310",
   "metadata": {},
   "outputs": [],
   "source": [
    "runs.time_length = pd.to_timedelta(runs.time_length)"
   ]
  },
  {
   "cell_type": "code",
   "execution_count": null,
   "id": "d4767a00",
   "metadata": {},
   "outputs": [],
   "source": [
    "runs.loc[0,['run_total']] / (runs['time_length'][0].total_seconds()/3600)"
   ]
  },
  {
   "cell_type": "code",
   "execution_count": null,
   "id": "1ee7b79f",
   "metadata": {},
   "outputs": [],
   "source": [
    "runs['time_length'][0].total_seconds()/3600"
   ]
  },
  {
   "cell_type": "code",
   "execution_count": null,
   "id": "80934077",
   "metadata": {},
   "outputs": [],
   "source": [
    "def dollarshour(x):\n",
    "    y = float(runs.loc[x,['run_total']] / (runs['time_length'][x].total_seconds()/3600))\n",
    "    return y"
   ]
  },
  {
   "cell_type": "code",
   "execution_count": null,
   "id": "ead20133",
   "metadata": {},
   "outputs": [],
   "source": [
    "[dollarshour(x) for x,row in runs.iterrows()]"
   ]
  },
  {
   "cell_type": "code",
   "execution_count": null,
   "id": "7ddacfd7",
   "metadata": {},
   "outputs": [],
   "source": [
    "runs = runs.drop(columns = 'Unnamed: 0')"
   ]
  },
  {
   "cell_type": "code",
   "execution_count": null,
   "id": "3339bb10",
   "metadata": {},
   "outputs": [],
   "source": [
    "runs = runs.rename(columns = {'time_length':'run_time'})"
   ]
  },
  {
   "cell_type": "code",
   "execution_count": null,
   "id": "de3f41c6",
   "metadata": {},
   "outputs": [],
   "source": [
    "runs['start'] = pd.to_datetime(runs.start)\n",
    "runs['end'] = pd.to_datetime(runs.end)"
   ]
  },
  {
   "cell_type": "code",
   "execution_count": null,
   "id": "fbb25737",
   "metadata": {},
   "outputs": [],
   "source": [
    "runs['time_block'] = runs.end - runs.start"
   ]
  },
  {
   "cell_type": "code",
   "execution_count": null,
   "id": "93aac395",
   "metadata": {},
   "outputs": [],
   "source": [
    "runs.tail()"
   ]
  },
  {
   "cell_type": "code",
   "execution_count": null,
   "id": "c6accf38",
   "metadata": {
    "scrolled": true
   },
   "outputs": [],
   "source": [
    "runs['total_perhour'] = (runs.run_total / (runs.time_block.dt.total_seconds() / 3600))"
   ]
  },
  {
   "cell_type": "code",
   "execution_count": null,
   "id": "6b88a21f",
   "metadata": {},
   "outputs": [],
   "source": [
    "runs.total_perhour = runs.total_perhour.round(decimals=2)"
   ]
  },
  {
   "cell_type": "code",
   "execution_count": null,
   "id": "59724b90",
   "metadata": {},
   "outputs": [],
   "source": [
    "runs.sort_values('run_total').tail(10).plot.barh(x = 'game', y = 'run_total')"
   ]
  },
  {
   "cell_type": "code",
   "execution_count": null,
   "id": "47bf794d",
   "metadata": {},
   "outputs": [],
   "source": [
    "runs.sort_values('total_perhour').tail(10).plot.barh(x = 'game', y = 'total_perhour')"
   ]
  },
  {
   "cell_type": "code",
   "execution_count": null,
   "id": "b03a4040",
   "metadata": {},
   "outputs": [],
   "source": [
    "runs"
   ]
  },
  {
   "cell_type": "code",
   "execution_count": null,
   "id": "71fcaec8",
   "metadata": {},
   "outputs": [],
   "source": [
    "sponsors = dona_trim.loc[dona_trim.name.isin(company_don)]\n",
    "sponsors"
   ]
  },
  {
   "cell_type": "code",
   "execution_count": null,
   "id": "925b4689",
   "metadata": {},
   "outputs": [],
   "source": [
    "sponsor_totals = []\n",
    "for ind, row in runs.iterrows():\n",
    "    x = pd.Series(sponsors.loc[(sponsors['time'] > row['start']) & (sponsors['time'] < row['end'])]['amount']).sum().round(decimals=2)\n",
    "    sponsor_totals.append(x)"
   ]
  },
  {
   "cell_type": "code",
   "execution_count": null,
   "id": "740c7c37",
   "metadata": {},
   "outputs": [],
   "source": [
    "sponsor_totals"
   ]
  },
  {
   "cell_type": "code",
   "execution_count": null,
   "id": "c6cbbb47",
   "metadata": {},
   "outputs": [],
   "source": [
    "runs['sponsor_total'] = sponsor_totals"
   ]
  },
  {
   "cell_type": "code",
   "execution_count": null,
   "id": "ae3b36e1",
   "metadata": {},
   "outputs": [],
   "source": [
    "runs['sponsor_pct'] = runs.sponsor_total / runs.run_total"
   ]
  },
  {
   "cell_type": "code",
   "execution_count": null,
   "id": "a7db7f07",
   "metadata": {},
   "outputs": [],
   "source": [
    "runs['sponsor_pct'] = runs.sponsor_pct.round(decimals=2)"
   ]
  },
  {
   "cell_type": "code",
   "execution_count": null,
   "id": "851c1239",
   "metadata": {},
   "outputs": [],
   "source": [
    "runs.sort_values('sponsor_pct').tail(10)[['game','start','sponsor_pct']]"
   ]
  },
  {
   "cell_type": "code",
   "execution_count": null,
   "id": "765d2824",
   "metadata": {},
   "outputs": [],
   "source": [
    "runs"
   ]
  },
  {
   "cell_type": "code",
   "execution_count": null,
   "id": "34c182d8",
   "metadata": {},
   "outputs": [],
   "source": [
    "runs.loc[runs.bids == 'Yes']"
   ]
  },
  {
   "cell_type": "code",
   "execution_count": null,
   "id": "5e1429ef",
   "metadata": {},
   "outputs": [],
   "source": [
    "bids_games = bids.groupby(by = 'run')['amount'].sum().reset_index()\n",
    "bids_games = bids_games.rename(columns = {'amount':'bid_donations'})\n",
    "bids_games"
   ]
  },
  {
   "cell_type": "code",
   "execution_count": null,
   "id": "1ab8cdd7",
   "metadata": {},
   "outputs": [],
   "source": [
    "runs = runs.merge(bids_games, how = 'left', left_on = 'game', right_on = 'run' )"
   ]
  },
  {
   "cell_type": "code",
   "execution_count": null,
   "id": "bf9cfde2",
   "metadata": {},
   "outputs": [],
   "source": [
    "runs['bid_pct'] = runs.bid_donations / runs.run_total * 100"
   ]
  },
  {
   "cell_type": "code",
   "execution_count": null,
   "id": "871ab1a0",
   "metadata": {},
   "outputs": [],
   "source": [
    "runs.sort_values('bid_donations', na_position='first')"
   ]
  },
  {
   "cell_type": "code",
   "execution_count": null,
   "id": "792f5087",
   "metadata": {
    "scrolled": true
   },
   "outputs": [],
   "source": [
    "runs.loc[runs.bid_pct > 100].sort_values('bid_donations')"
   ]
  },
  {
   "cell_type": "code",
   "execution_count": null,
   "id": "0d9abdf2",
   "metadata": {},
   "outputs": [],
   "source": [
    "runs.sponsor_pct = runs.sponsor_pct * 100"
   ]
  },
  {
   "cell_type": "code",
   "execution_count": null,
   "id": "8839abdb",
   "metadata": {},
   "outputs": [],
   "source": [
    "runs.sponsor_pct = runs.sponsor_pct.round(decimals=0)\n",
    "runs.bid_pct = runs.bid_pct.round(decimals=0)"
   ]
  },
  {
   "cell_type": "code",
   "execution_count": null,
   "id": "a725ba9d",
   "metadata": {
    "scrolled": true
   },
   "outputs": [],
   "source": [
    "runs.to_csv('data/ag2024runs_clean.csv', index=False)"
   ]
  },
  {
   "cell_type": "code",
   "execution_count": null,
   "id": "dfebc46a",
   "metadata": {},
   "outputs": [],
   "source": [
    "pd.read_csv('data/ag2024runs_clean.csv')"
   ]
  },
  {
   "cell_type": "code",
   "execution_count": null,
   "id": "b97d6686",
   "metadata": {},
   "outputs": [],
   "source": [
    "runs.sort_values('run_time')"
   ]
  },
  {
   "cell_type": "code",
   "execution_count": null,
   "id": "4e0f453d",
   "metadata": {},
   "outputs": [],
   "source": [
    "runs.sort_values('bid_donations', na_position='first').tail(4)[['name','run_total','bid_donations','bid_pct']].to_csv('data/topbids.csv',index=False)"
   ]
  },
  {
   "cell_type": "code",
   "execution_count": null,
   "id": "600e999b",
   "metadata": {},
   "outputs": [],
   "source": [
    "ax"
   ]
  },
  {
   "cell_type": "code",
   "execution_count": null,
   "id": "fe6427eb",
   "metadata": {},
   "outputs": [],
   "source": [
    "runs.sort_values('sponsor_pct').loc[[61,100,121],:][['game','start','sponsor_total','sponsor_pct']]"
   ]
  },
  {
   "cell_type": "code",
   "execution_count": null,
   "id": "2648ebce",
   "metadata": {
    "scrolled": false
   },
   "outputs": [],
   "source": [
    "runs.sort_values('sponsor_pct').loc[[61,100,121],:][['game','start','sponsor_pct']].plot.barh(x = 'game', y = 'sponsor_pct',xlim = (0,100),legend=False)\n",
    "plt.axvline(x = 50)\n",
    "plt.ylabel('')\n",
    "plt.xlabel('Percent of Donations')\n",
    "plt.title('Runs with Highest Percent of Donations from Sponsors')\n",
    "plt.xticks(rotation = 0);"
   ]
  },
  {
   "cell_type": "code",
   "execution_count": null,
   "id": "010a2fd2",
   "metadata": {},
   "outputs": [],
   "source": [
    "runs.loc[runs.game.str.contains('Resident')]"
   ]
  },
  {
   "cell_type": "code",
   "execution_count": null,
   "id": "9cc10423",
   "metadata": {},
   "outputs": [],
   "source": [
    "dona"
   ]
  },
  {
   "cell_type": "code",
   "execution_count": null,
   "id": "792fe43d",
   "metadata": {},
   "outputs": [],
   "source": [
    "[x.astype(str)[2:4] for x in dona['time']]"
   ]
  },
  {
   "cell_type": "code",
   "execution_count": null,
   "id": "d53c154e",
   "metadata": {},
   "outputs": [],
   "source": [
    "dona['datetime'] = dona.time"
   ]
  },
  {
   "cell_type": "code",
   "execution_count": null,
   "id": "fe61770b",
   "metadata": {},
   "outputs": [],
   "source": [
    "dona['datetime'] = dona['datetime'].astype(str)"
   ]
  },
  {
   "cell_type": "code",
   "execution_count": null,
   "id": "e51320a3",
   "metadata": {},
   "outputs": [],
   "source": [
    "dona['datetime'][0][6:14]+'00'"
   ]
  },
  {
   "cell_type": "code",
   "execution_count": null,
   "id": "e38cb9ea",
   "metadata": {},
   "outputs": [],
   "source": [
    "dona['datetime'] = [x[6:14]+'00' for x in dona['datetime']]"
   ]
  },
  {
   "cell_type": "code",
   "execution_count": null,
   "id": "e6b589e5",
   "metadata": {},
   "outputs": [],
   "source": [
    "dona = dona.rename(columns = {'dayhour':'hour'})"
   ]
  },
  {
   "cell_type": "code",
   "execution_count": null,
   "id": "f58fbd70",
   "metadata": {},
   "outputs": [],
   "source": [
    "dona.hour[0][-2:]+':00'"
   ]
  },
  {
   "cell_type": "code",
   "execution_count": null,
   "id": "8cb8040b",
   "metadata": {},
   "outputs": [],
   "source": [
    "dona.hour = [x[-2:]+':00' for x in dona.hour]"
   ]
  },
  {
   "cell_type": "code",
   "execution_count": null,
   "id": "6cd7f4ad",
   "metadata": {},
   "outputs": [],
   "source": [
    "dona"
   ]
  },
  {
   "cell_type": "code",
   "execution_count": null,
   "id": "bc326ea6",
   "metadata": {},
   "outputs": [],
   "source": [
    "dona.to_csv('data/ag2024donations_clean.csv',index=False)"
   ]
  },
  {
   "cell_type": "code",
   "execution_count": null,
   "id": "88cb933f",
   "metadata": {},
   "outputs": [],
   "source": [
    "pd.read_csv('data/ag2024donations_clean.csv')"
   ]
  },
  {
   "cell_type": "code",
   "execution_count": null,
   "id": "06d55970",
   "metadata": {},
   "outputs": [],
   "source": [
    "runs"
   ]
  },
  {
   "cell_type": "code",
   "execution_count": null,
   "id": "a2139457",
   "metadata": {},
   "outputs": [],
   "source": [
    "dona['time'][0]"
   ]
  },
  {
   "cell_type": "code",
   "execution_count": null,
   "id": "71b5afa5",
   "metadata": {},
   "outputs": [],
   "source": [
    "runs.dtypes"
   ]
  },
  {
   "cell_type": "code",
   "execution_count": null,
   "id": "3e4191b3",
   "metadata": {},
   "outputs": [],
   "source": [
    "runs"
   ]
  },
  {
   "cell_type": "code",
   "execution_count": null,
   "id": "4d6cc5ba",
   "metadata": {},
   "outputs": [],
   "source": [
    "def get_run(x):\n",
    "    for ind, row in runs.iterrows():\n",
    "        if x > row['start']:\n",
    "            if x < row['end']:\n",
    "                game = row['game']\n",
    "                print(x)\n",
    "                print(game)\n",
    "                break"
   ]
  },
  {
   "cell_type": "code",
   "execution_count": null,
   "id": "b131f11e",
   "metadata": {},
   "outputs": [],
   "source": [
    "runs['start'][0]"
   ]
  },
  {
   "cell_type": "code",
   "execution_count": null,
   "id": "56b5af13",
   "metadata": {},
   "outputs": [],
   "source": [
    "runs['end'][0]"
   ]
  },
  {
   "cell_type": "code",
   "execution_count": null,
   "id": "82ff8201",
   "metadata": {
    "scrolled": true
   },
   "outputs": [],
   "source": [
    "dona['time'][0] > runs['start'][0]"
   ]
  },
  {
   "cell_type": "code",
   "execution_count": null,
   "id": "063e780d",
   "metadata": {},
   "outputs": [],
   "source": [
    "get_run(dona['time'][0])"
   ]
  },
  {
   "cell_type": "code",
   "execution_count": null,
   "id": "760c4bf6",
   "metadata": {},
   "outputs": [],
   "source": [
    "def get_run(x):\n",
    "    for ind, row in runs.iterrows():\n",
    "        if x > row['start']:\n",
    "            if x < row['end']:\n",
    "                game = row['game']\n",
    "                return game\n",
    "                break"
   ]
  },
  {
   "cell_type": "code",
   "execution_count": null,
   "id": "10bb6a11",
   "metadata": {},
   "outputs": [],
   "source": [
    "def print_k(x):\n",
    "    for ind, row in runs.iterrows():\n",
    "        if (x > row['start']) & (x < row['end']):\n",
    "            return row['game']\n",
    "            break"
   ]
  },
  {
   "cell_type": "code",
   "execution_count": null,
   "id": "f04bc43d",
   "metadata": {},
   "outputs": [],
   "source": [
    "dona_game = [print_k(x) for x in dona['time']]"
   ]
  },
  {
   "cell_type": "code",
   "execution_count": null,
   "id": "3d89adbe",
   "metadata": {
    "scrolled": true
   },
   "outputs": [],
   "source": [
    "len(dona_game)"
   ]
  },
  {
   "cell_type": "code",
   "execution_count": null,
   "id": "a69d6d76",
   "metadata": {},
   "outputs": [],
   "source": [
    "dona_game[36000:]"
   ]
  },
  {
   "cell_type": "code",
   "execution_count": null,
   "id": "184b493a",
   "metadata": {
    "scrolled": true
   },
   "outputs": [],
   "source": [
    "dona['run'] = dona_game"
   ]
  },
  {
   "cell_type": "code",
   "execution_count": null,
   "id": "34aea1f5",
   "metadata": {},
   "outputs": [],
   "source": [
    "dona.to_csv('data/ag2024donations_clean.csv',index=False)"
   ]
  },
  {
   "cell_type": "code",
   "execution_count": null,
   "id": "353fe11e",
   "metadata": {},
   "outputs": [],
   "source": [
    "dona.groupby(by='run')['amount'].sum().reset_index().sort_values('amount').tail(10)"
   ]
  },
  {
   "cell_type": "code",
   "execution_count": null,
   "id": "a4820245",
   "metadata": {},
   "outputs": [],
   "source": [
    "dona.groupby(by='run')['amount'].sum().reset_index()['amount'].sum()"
   ]
  },
  {
   "cell_type": "code",
   "execution_count": null,
   "id": "4debb483",
   "metadata": {},
   "outputs": [],
   "source": [
    "runs"
   ]
  },
  {
   "cell_type": "code",
   "execution_count": null,
   "id": "73e3ecdf",
   "metadata": {},
   "outputs": [],
   "source": [
    "dona.loc[dona.name == 'Humble Bundle']"
   ]
  },
  {
   "cell_type": "code",
   "execution_count": null,
   "id": "0b2441d1",
   "metadata": {},
   "outputs": [],
   "source": []
  }
 ],
 "metadata": {
  "kernelspec": {
   "display_name": "Python 3 (ipykernel)",
   "language": "python",
   "name": "python3"
  },
  "language_info": {
   "codemirror_mode": {
    "name": "ipython",
    "version": 3
   },
   "file_extension": ".py",
   "mimetype": "text/x-python",
   "name": "python",
   "nbconvert_exporter": "python",
   "pygments_lexer": "ipython3",
   "version": "3.11.5"
  }
 },
 "nbformat": 4,
 "nbformat_minor": 5
}
